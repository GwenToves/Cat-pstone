{
 "cells": [
  {
   "cell_type": "code",
   "execution_count": 1,
   "id": "b45c811d",
   "metadata": {},
   "outputs": [],
   "source": [
    "from imblearn.under_sampling import RandomUnderSampler\n",
    "from sklearn.decomposition import PCA\n",
    "from imblearn.over_sampling import RandomOverSampler, SMOTE\n",
    "from sklearn.preprocessing import MinMaxScaler, StandardScaler\n",
    "from sklearn.model_selection import train_test_split, GridSearchCV\n",
    "from sklearn.linear_model import LogisticRegression\n",
    "from sklearn.metrics import roc_curve, roc_auc_score, \\\n",
    "                            accuracy_score,precision_score, recall_score, f1_score, \\\n",
    "                            confusion_matrix, ConfusionMatrixDisplay\n",
    "import time\n",
    "import pandas as pd\n",
    "import numpy as np\n",
    "import os\n",
    "import matplotlib.pyplot as plt\n",
    "import matplotlib.colors as mcolors\n",
    "import seaborn as sns\n",
    "import scipy.stats as stats\n",
    "\n",
    "import warnings\n",
    "warnings.filterwarnings('ignore')"
   ]
  },
  {
   "cell_type": "markdown",
   "id": "7b8b7d45",
   "metadata": {},
   "source": [
    "1. Read in Data\n",
    "2. Preprocessing and Feature Engineering\n",
    "    2.1\n",
    "3. "
   ]
  },
  {
   "cell_type": "markdown",
   "id": "cabdf590",
   "metadata": {},
   "source": [
    "# 1. Read in  Data:"
   ]
  },
  {
   "cell_type": "code",
   "execution_count": 2,
   "id": "988d86e7",
   "metadata": {},
   "outputs": [],
   "source": [
    "df = pd.read_csv('./Data/cat_clean.csv')"
   ]
  },
  {
   "cell_type": "code",
   "execution_count": 3,
   "id": "2811a629",
   "metadata": {},
   "outputs": [
    {
     "data": {
      "text/html": [
       "<div>\n",
       "<style scoped>\n",
       "    .dataframe tbody tr th:only-of-type {\n",
       "        vertical-align: middle;\n",
       "    }\n",
       "\n",
       "    .dataframe tbody tr th {\n",
       "        vertical-align: top;\n",
       "    }\n",
       "\n",
       "    .dataframe thead th {\n",
       "        text-align: right;\n",
       "    }\n",
       "</style>\n",
       "<table border=\"1\" class=\"dataframe\">\n",
       "  <thead>\n",
       "    <tr style=\"text-align: right;\">\n",
       "      <th></th>\n",
       "      <th>Age</th>\n",
       "      <th>Gender</th>\n",
       "      <th>Neuter_status</th>\n",
       "      <th>Weaning_age</th>\n",
       "      <th>Outdoors</th>\n",
       "      <th>Other_cats</th>\n",
       "      <th>Activity_level</th>\n",
       "      <th>Contact_people</th>\n",
       "      <th>Aggression_stranger</th>\n",
       "      <th>Aggression_owner</th>\n",
       "      <th>Aggression_cats</th>\n",
       "      <th>Shyness_novel</th>\n",
       "      <th>Shyness_strangers</th>\n",
       "      <th>Grooming</th>\n",
       "      <th>Wool_sucking</th>\n",
       "      <th>Behaviour_problem</th>\n",
       "    </tr>\n",
       "  </thead>\n",
       "  <tbody>\n",
       "    <tr>\n",
       "      <th>count</th>\n",
       "      <td>5696.000000</td>\n",
       "      <td>5696.000000</td>\n",
       "      <td>5696.000000</td>\n",
       "      <td>5696.000000</td>\n",
       "      <td>5696.000000</td>\n",
       "      <td>5696.000000</td>\n",
       "      <td>5696.000000</td>\n",
       "      <td>5696.000000</td>\n",
       "      <td>5696.000000</td>\n",
       "      <td>5696.000000</td>\n",
       "      <td>5696.000000</td>\n",
       "      <td>5696.000000</td>\n",
       "      <td>5696.000000</td>\n",
       "      <td>5696.000000</td>\n",
       "      <td>5696.000000</td>\n",
       "      <td>5696.000000</td>\n",
       "    </tr>\n",
       "    <tr>\n",
       "      <th>mean</th>\n",
       "      <td>4.752602</td>\n",
       "      <td>1.539326</td>\n",
       "      <td>0.779670</td>\n",
       "      <td>4.619031</td>\n",
       "      <td>2.547753</td>\n",
       "      <td>0.847788</td>\n",
       "      <td>3.770190</td>\n",
       "      <td>4.088834</td>\n",
       "      <td>1.116397</td>\n",
       "      <td>1.096559</td>\n",
       "      <td>1.583743</td>\n",
       "      <td>2.025632</td>\n",
       "      <td>1.884480</td>\n",
       "      <td>1.789150</td>\n",
       "      <td>0.912395</td>\n",
       "      <td>1.070400</td>\n",
       "    </tr>\n",
       "    <tr>\n",
       "      <th>std</th>\n",
       "      <td>3.768478</td>\n",
       "      <td>0.498495</td>\n",
       "      <td>0.414506</td>\n",
       "      <td>1.576234</td>\n",
       "      <td>1.911887</td>\n",
       "      <td>0.359258</td>\n",
       "      <td>0.864699</td>\n",
       "      <td>0.878686</td>\n",
       "      <td>0.418163</td>\n",
       "      <td>0.368394</td>\n",
       "      <td>0.839547</td>\n",
       "      <td>0.996769</td>\n",
       "      <td>1.051775</td>\n",
       "      <td>0.997606</td>\n",
       "      <td>1.544499</td>\n",
       "      <td>0.384687</td>\n",
       "    </tr>\n",
       "    <tr>\n",
       "      <th>min</th>\n",
       "      <td>0.167100</td>\n",
       "      <td>1.000000</td>\n",
       "      <td>0.000000</td>\n",
       "      <td>1.000000</td>\n",
       "      <td>0.000000</td>\n",
       "      <td>0.000000</td>\n",
       "      <td>1.000000</td>\n",
       "      <td>1.000000</td>\n",
       "      <td>1.000000</td>\n",
       "      <td>1.000000</td>\n",
       "      <td>1.000000</td>\n",
       "      <td>1.000000</td>\n",
       "      <td>1.000000</td>\n",
       "      <td>1.000000</td>\n",
       "      <td>0.000000</td>\n",
       "      <td>0.000000</td>\n",
       "    </tr>\n",
       "    <tr>\n",
       "      <th>25%</th>\n",
       "      <td>1.789000</td>\n",
       "      <td>1.000000</td>\n",
       "      <td>1.000000</td>\n",
       "      <td>4.000000</td>\n",
       "      <td>1.000000</td>\n",
       "      <td>1.000000</td>\n",
       "      <td>3.000000</td>\n",
       "      <td>4.000000</td>\n",
       "      <td>1.000000</td>\n",
       "      <td>1.000000</td>\n",
       "      <td>1.000000</td>\n",
       "      <td>1.000000</td>\n",
       "      <td>1.000000</td>\n",
       "      <td>1.000000</td>\n",
       "      <td>0.000000</td>\n",
       "      <td>1.000000</td>\n",
       "    </tr>\n",
       "    <tr>\n",
       "      <th>50%</th>\n",
       "      <td>3.886300</td>\n",
       "      <td>2.000000</td>\n",
       "      <td>1.000000</td>\n",
       "      <td>4.000000</td>\n",
       "      <td>2.000000</td>\n",
       "      <td>1.000000</td>\n",
       "      <td>4.000000</td>\n",
       "      <td>4.000000</td>\n",
       "      <td>1.000000</td>\n",
       "      <td>1.000000</td>\n",
       "      <td>1.000000</td>\n",
       "      <td>2.000000</td>\n",
       "      <td>2.000000</td>\n",
       "      <td>1.000000</td>\n",
       "      <td>0.000000</td>\n",
       "      <td>1.000000</td>\n",
       "    </tr>\n",
       "    <tr>\n",
       "      <th>75%</th>\n",
       "      <td>6.778100</td>\n",
       "      <td>2.000000</td>\n",
       "      <td>1.000000</td>\n",
       "      <td>5.000000</td>\n",
       "      <td>5.000000</td>\n",
       "      <td>1.000000</td>\n",
       "      <td>4.000000</td>\n",
       "      <td>5.000000</td>\n",
       "      <td>1.000000</td>\n",
       "      <td>1.000000</td>\n",
       "      <td>2.000000</td>\n",
       "      <td>3.000000</td>\n",
       "      <td>2.000000</td>\n",
       "      <td>3.000000</td>\n",
       "      <td>2.000000</td>\n",
       "      <td>1.000000</td>\n",
       "    </tr>\n",
       "    <tr>\n",
       "      <th>max</th>\n",
       "      <td>24.811000</td>\n",
       "      <td>2.000000</td>\n",
       "      <td>1.000000</td>\n",
       "      <td>8.000000</td>\n",
       "      <td>5.000000</td>\n",
       "      <td>1.000000</td>\n",
       "      <td>5.000000</td>\n",
       "      <td>5.000000</td>\n",
       "      <td>5.000000</td>\n",
       "      <td>5.000000</td>\n",
       "      <td>5.000000</td>\n",
       "      <td>5.000000</td>\n",
       "      <td>5.000000</td>\n",
       "      <td>5.000000</td>\n",
       "      <td>7.000000</td>\n",
       "      <td>3.000000</td>\n",
       "    </tr>\n",
       "  </tbody>\n",
       "</table>\n",
       "</div>"
      ],
      "text/plain": [
       "               Age       Gender  Neuter_status  Weaning_age     Outdoors  \\\n",
       "count  5696.000000  5696.000000    5696.000000  5696.000000  5696.000000   \n",
       "mean      4.752602     1.539326       0.779670     4.619031     2.547753   \n",
       "std       3.768478     0.498495       0.414506     1.576234     1.911887   \n",
       "min       0.167100     1.000000       0.000000     1.000000     0.000000   \n",
       "25%       1.789000     1.000000       1.000000     4.000000     1.000000   \n",
       "50%       3.886300     2.000000       1.000000     4.000000     2.000000   \n",
       "75%       6.778100     2.000000       1.000000     5.000000     5.000000   \n",
       "max      24.811000     2.000000       1.000000     8.000000     5.000000   \n",
       "\n",
       "        Other_cats  Activity_level  Contact_people  Aggression_stranger  \\\n",
       "count  5696.000000     5696.000000     5696.000000          5696.000000   \n",
       "mean      0.847788        3.770190        4.088834             1.116397   \n",
       "std       0.359258        0.864699        0.878686             0.418163   \n",
       "min       0.000000        1.000000        1.000000             1.000000   \n",
       "25%       1.000000        3.000000        4.000000             1.000000   \n",
       "50%       1.000000        4.000000        4.000000             1.000000   \n",
       "75%       1.000000        4.000000        5.000000             1.000000   \n",
       "max       1.000000        5.000000        5.000000             5.000000   \n",
       "\n",
       "       Aggression_owner  Aggression_cats  Shyness_novel  Shyness_strangers  \\\n",
       "count       5696.000000      5696.000000    5696.000000        5696.000000   \n",
       "mean           1.096559         1.583743       2.025632           1.884480   \n",
       "std            0.368394         0.839547       0.996769           1.051775   \n",
       "min            1.000000         1.000000       1.000000           1.000000   \n",
       "25%            1.000000         1.000000       1.000000           1.000000   \n",
       "50%            1.000000         1.000000       2.000000           2.000000   \n",
       "75%            1.000000         2.000000       3.000000           2.000000   \n",
       "max            5.000000         5.000000       5.000000           5.000000   \n",
       "\n",
       "          Grooming  Wool_sucking  Behaviour_problem  \n",
       "count  5696.000000   5696.000000        5696.000000  \n",
       "mean      1.789150      0.912395           1.070400  \n",
       "std       0.997606      1.544499           0.384687  \n",
       "min       1.000000      0.000000           0.000000  \n",
       "25%       1.000000      0.000000           1.000000  \n",
       "50%       1.000000      0.000000           1.000000  \n",
       "75%       3.000000      2.000000           1.000000  \n",
       "max       5.000000      7.000000           3.000000  "
      ]
     },
     "execution_count": 3,
     "metadata": {},
     "output_type": "execute_result"
    }
   ],
   "source": [
    "df.describe()"
   ]
  },
  {
   "cell_type": "markdown",
   "id": "a3dd3891",
   "metadata": {},
   "source": [
    "**Notes:**  \n",
    "* I'm not sure if I will scale the age column for my distance-based classifiers. I feel like doing so will lose an aspect of interpretability if the goal here is to be able to predict if a cat you're going to adopt would be a wool-sucker or not. However, I do understand the importance of magnitiude in algorithms of that nature. \n",
    "* I am going to reocde `Behaviour_problem` as a binary of yes or no (compared to I don't know, no, yes dx'd by vet, yes dx'd by self). \n",
    "* I will try to do both multiclass and binary classification with wool sucking but I fear I won't have enough data to get much worth out of a multiclass classifier.\n",
    "* I will try three flavors of logistic regression (binary, multiclass, ordinal). Two of random forest (binary, multiclass). And four KNN (binary, binary with age scaled, multiclass, multiclass with age scaled). "
   ]
  },
  {
   "cell_type": "markdown",
   "id": "0d6fbc73",
   "metadata": {},
   "source": [
    "# 2. Preprocessing and Feature Engineering:"
   ]
  },
  {
   "cell_type": "markdown",
   "id": "c3cc167b",
   "metadata": {},
   "source": [
    "## 2.1 Recode `Behaviour_problem`"
   ]
  },
  {
   "cell_type": "code",
   "execution_count": 4,
   "id": "0f18164a",
   "metadata": {},
   "outputs": [
    {
     "data": {
      "text/plain": [
       "0.0    5200\n",
       "1.0     496\n",
       "Name: Behaviour_problem, dtype: int64"
      ]
     },
     "execution_count": 4,
     "metadata": {},
     "output_type": "execute_result"
    }
   ],
   "source": [
    "# Recode Behaviour_problem to binary\n",
    "df['Behaviour_problem'].replace([1, 2, 3], [0, 1, 1], inplace=True)\n",
    "df['Behaviour_problem'].value_counts()"
   ]
  },
  {
   "cell_type": "markdown",
   "id": "ab5fff17",
   "metadata": {},
   "source": [
    "## 2.2 Create Binary Dataset"
   ]
  },
  {
   "cell_type": "code",
   "execution_count": 5,
   "id": "3458bf76",
   "metadata": {},
   "outputs": [
    {
     "data": {
      "text/html": [
       "<div>\n",
       "<style scoped>\n",
       "    .dataframe tbody tr th:only-of-type {\n",
       "        vertical-align: middle;\n",
       "    }\n",
       "\n",
       "    .dataframe tbody tr th {\n",
       "        vertical-align: top;\n",
       "    }\n",
       "\n",
       "    .dataframe thead th {\n",
       "        text-align: right;\n",
       "    }\n",
       "</style>\n",
       "<table border=\"1\" class=\"dataframe\">\n",
       "  <thead>\n",
       "    <tr style=\"text-align: right;\">\n",
       "      <th></th>\n",
       "      <th>ws_binary</th>\n",
       "    </tr>\n",
       "  </thead>\n",
       "  <tbody>\n",
       "    <tr>\n",
       "      <th>count</th>\n",
       "      <td>5696.000000</td>\n",
       "    </tr>\n",
       "    <tr>\n",
       "      <th>mean</th>\n",
       "      <td>0.252282</td>\n",
       "    </tr>\n",
       "    <tr>\n",
       "      <th>std</th>\n",
       "      <td>0.434361</td>\n",
       "    </tr>\n",
       "    <tr>\n",
       "      <th>min</th>\n",
       "      <td>0.000000</td>\n",
       "    </tr>\n",
       "    <tr>\n",
       "      <th>25%</th>\n",
       "      <td>0.000000</td>\n",
       "    </tr>\n",
       "    <tr>\n",
       "      <th>50%</th>\n",
       "      <td>0.000000</td>\n",
       "    </tr>\n",
       "    <tr>\n",
       "      <th>75%</th>\n",
       "      <td>1.000000</td>\n",
       "    </tr>\n",
       "    <tr>\n",
       "      <th>max</th>\n",
       "      <td>1.000000</td>\n",
       "    </tr>\n",
       "  </tbody>\n",
       "</table>\n",
       "</div>"
      ],
      "text/plain": [
       "         ws_binary\n",
       "count  5696.000000\n",
       "mean      0.252282\n",
       "std       0.434361\n",
       "min       0.000000\n",
       "25%       0.000000\n",
       "50%       0.000000\n",
       "75%       1.000000\n",
       "max       1.000000"
      ]
     },
     "execution_count": 5,
     "metadata": {},
     "output_type": "execute_result"
    }
   ],
   "source": [
    "# BINARY DATA SET\n",
    "df_bin = df.copy()\n",
    "# 0-2 = no sucking, 3-7 = sucking \n",
    "df_bin['ws_binary'] = df_bin['Wool_sucking'].replace({1:0, 2:1, 3:1, 4:1, 5:1, 6:1, 7:1})\n",
    "df_bin.drop(columns='Wool_sucking', inplace=True)\n",
    "df_bin.head()\n",
    "\n",
    "df_bin[['ws_binary']].describe()"
   ]
  },
  {
   "cell_type": "code",
   "execution_count": 6,
   "id": "6f2817ca",
   "metadata": {},
   "outputs": [],
   "source": [
    "# Assign BINARY X and y\n",
    "X_bin = df_bin.drop(columns='ws_binary')\n",
    "y_bin = df_bin['ws_binary']"
   ]
  },
  {
   "cell_type": "markdown",
   "id": "68c51fc3",
   "metadata": {},
   "source": [
    "## 2.3 Create Multiclass Dataset"
   ]
  },
  {
   "cell_type": "code",
   "execution_count": 7,
   "id": "0506485a",
   "metadata": {},
   "outputs": [],
   "source": [
    "# MULTICLASS DATA SET \n",
    "df_multi = df.copy();"
   ]
  },
  {
   "cell_type": "code",
   "execution_count": 8,
   "id": "d05158e0",
   "metadata": {},
   "outputs": [],
   "source": [
    "# Assign MULTICLASS X and y\n",
    "X_multi = df_multi.drop(columns='Wool_sucking')\n",
    "y_multi = df_multi['Wool_sucking']"
   ]
  },
  {
   "cell_type": "code",
   "execution_count": 9,
   "id": "c523d2dd",
   "metadata": {},
   "outputs": [],
   "source": [
    "# I already know y has some serious class imablance for my wool-suckers, hence stratify\n",
    "# binary train/test split\n",
    "X_train, X_test, y_train, y_test = train_test_split(X_bin, y_bin, test_size=0.3, random_state=42, stratify=y_bin)\n",
    "\n",
    "# multiclass train/test split \n",
    "X_trains, X_tests, y_trains, y_tests = train_test_split(X_multi, y_multi, test_size=0.3, random_state=42, stratify=y_multi)"
   ]
  },
  {
   "cell_type": "markdown",
   "id": "821c4e9a",
   "metadata": {},
   "source": [
    "## 2.4 Checking for multicollinearity:"
   ]
  },
  {
   "cell_type": "markdown",
   "id": "027792a7",
   "metadata": {},
   "source": [
    "### 2.4.1 Binary Set"
   ]
  },
  {
   "cell_type": "code",
   "execution_count": 14,
   "id": "35c6eea8",
   "metadata": {},
   "outputs": [
    {
     "data": {
      "image/png": "[encoded data removed]",
      "text/plain": [
       "<Figure size 1080x432 with 2 Axes>"
      ]
     },
     "metadata": {
      "needs_background": "light"
     },
     "output_type": "display_data"
    }
   ],
   "source": [
    "# extract column names\n",
    "columns = X_train.drop(columns='Age').columns \n",
    "    \n",
    "# create matrix \n",
    "chisqmatrix = pd.DataFrame(X_train.drop(columns='Age'), columns=columns, index=columns)\n",
    "   \n",
    "# set counters to 0\n",
    "outercnt=0\n",
    "innercnt=0\n",
    "for icol in columns: # outer loop\n",
    "    for jcol in columns: # inner loop\n",
    "        crosstab = pd.crosstab(X_train[icol], X_train[jcol])\n",
    "        stat, p, dof, expected = stats.chi2_contingency(crosstab)\n",
    "        chisqmatrix.iloc[outercnt,innercnt]=round(p,2)\n",
    "        cntexpected=expected[expected<5].size\n",
    "        perexpected=((expected.size-cntexpected)/expected.size)*100\n",
    "      \n",
    "       \n",
    "        if perexpected<20:\n",
    "            chisqmatrix.iloc[outercnt,innercnt]=2 # low count between them suggests p-value is unreliable, do not use \n",
    "        if icol==jcol:\n",
    "            chisqmatrix.iloc[outercnt,innercnt]=0.00\n",
    "        innercnt=innercnt+1\n",
    "    outercnt=outercnt+1\n",
    "    innercnt=0\n",
    "\n",
    "plt.subplots(figsize=(15, 6))\n",
    "sns.heatmap(chisqmatrix.astype(np.float64), annot=True,linewidths=0.1, \n",
    "            cmap='coolwarm')\n",
    "plt.title(\"Chi2 - Training Set\");"
   ]
  },
  {
   "cell_type": "code",
   "execution_count": 15,
   "id": "96aecd88",
   "metadata": {},
   "outputs": [
    {
     "data": {
      "image/png": "[encoded data removed]",
      "text/plain": [
       "<Figure size 1080x432 with 2 Axes>"
      ]
     },
     "metadata": {
      "needs_background": "light"
     },
     "output_type": "display_data"
    }
   ],
   "source": [
    "# extract column names\n",
    "columns = df_bin.drop(columns=['Age', 'ws_binary']).columns \n",
    "    \n",
    "# create matrix \n",
    "chisqmatrix = pd.DataFrame(df_bin.drop(columns=['Age', 'ws_binary']), columns=columns, index=columns)\n",
    "   \n",
    "# set counters to 0\n",
    "outercnt=0\n",
    "innercnt=0\n",
    "for icol in columns: # outer loop\n",
    "    for jcol in columns: # inner loop\n",
    "        crosstab = pd.crosstab(df_bin[icol], df_bin[jcol])\n",
    "        stat, p, dof, expected = stats.chi2_contingency(crosstab)\n",
    "        chisqmatrix.iloc[outercnt,innercnt]=round(p,2)\n",
    "        cntexpected=expected[expected<5].size\n",
    "        perexpected=((expected.size-cntexpected)/expected.size)*100\n",
    "      \n",
    "       \n",
    "        if perexpected<20:\n",
    "            chisqmatrix.iloc[outercnt,innercnt]=2 # low count between them suggests p-value is unreliable, do not use \n",
    "        if icol==jcol:\n",
    "            chisqmatrix.iloc[outercnt,innercnt]=0.00\n",
    "        innercnt=innercnt+1\n",
    "    outercnt=outercnt+1\n",
    "    innercnt=0\n",
    "\n",
    "plt.subplots(figsize=(15, 6))\n",
    "sns.heatmap(chisqmatrix.astype(np.float64), annot=True,linewidths=0.1, \n",
    "            cmap='coolwarm')\n",
    "plt.title(\"Chi2 - Full Set\");"
   ]
  },
  {
   "cell_type": "markdown",
   "id": "1668e37f",
   "metadata": {},
   "source": [
    "`Outdoors` measures how often the cat goes outdoors on a scale of 0-5 with 0 being never and 5 being daily. `Behaviour_problem` is now a binary indicator. `Other_cats` is a binary indicator for whether or not there are other cats in the housebold. It makes sense that these things would all be coordinated with one another. "
   ]
  },
  {
   "cell_type": "markdown",
   "id": "6efba456",
   "metadata": {},
   "source": [
    "#### 2.4.1.1 Binary PCA "
   ]
  },
  {
   "cell_type": "code",
   "execution_count": 11,
   "id": "fd06207d",
   "metadata": {},
   "outputs": [
    {
     "data": {
      "image/png": "[encoded data removed]",
      "text/plain": [
       "<Figure size 432x288 with 1 Axes>"
      ]
     },
     "metadata": {
      "needs_background": "light"
     },
     "output_type": "display_data"
    }
   ],
   "source": [
    "# PCA BINARY\n",
    "scaler_bin = StandardScaler()\n",
    "scaled_data_bin = scaler_bin.fit_transform(X_train[['Behaviour_problem', 'Outdoors', 'Other_cats']])\n",
    "pca_bin = PCA().fit(scaled_data_bin)\n",
    "\n",
    "explained_variance_ratio = pca_bin.explained_variance_ratio_\n",
    "cumulative_variance_ratio = np.cumsum(explained_variance_ratio)\n",
    "\n",
    "plt.plot(range(1, len(explained_variance_ratio) + 1), cumulative_variance_ratio, marker='o')\n",
    "plt.xlabel('Number of Components')\n",
    "plt.ylabel('Cumulative Explained Variance')\n",
    "plt.title('Explained Variance Ratio - BINARY')\n",
    "plt.show()"
   ]
  },
  {
   "cell_type": "code",
   "execution_count": 13,
   "id": "03399afc",
   "metadata": {},
   "outputs": [],
   "source": [
    "pca_bin = PCA(n_components=2)\n",
    "pca_data_bin = pca_bin.fit_transform(scaled_data_bin)\n",
    "pca_columns_bin = [f\"PC{i}\" for i in range(1,3)]\n",
    "pca_df_bin = pd.DataFrame(pca_data_bin, columns=pca_columns_bin)\n",
    "pca_complete_df_bin = pd.concat([pca_df_bin, X_train.drop('Behaviour_problem', axis=1)], axis=1)"
   ]
  },
  {
   "cell_type": "code",
   "execution_count": 15,
   "id": "dee7ffd2",
   "metadata": {},
   "outputs": [
    {
     "data": {
      "image/png": "[encoded data removed]",
      "text/plain": [
       "<Figure size 1080x432 with 2 Axes>"
      ]
     },
     "metadata": {
      "needs_background": "light"
     },
     "output_type": "display_data"
    }
   ],
   "source": [
    "# CHECK MULTICOLLINEARITY AGAIN\n",
    "# extract column names\n",
    "columns = pca_complete_df_bin.drop(columns='Age').columns \n",
    "    \n",
    "# create matrix \n",
    "chisqmatrix = pd.DataFrame(pca_complete_df_bin.drop(columns='Age'), columns=columns, index=columns)\n",
    "   \n",
    "# set counters to 0\n",
    "outercnt=0\n",
    "innercnt=0\n",
    "for icol in columns: # outer loop\n",
    "    for jcol in columns: # inner loop\n",
    "        crosstab = pd.crosstab(pca_complete_df_bin[icol], pca_complete_df_bin[jcol])\n",
    "        stat, p, dof, expected = stats.chi2_contingency(crosstab)\n",
    "        chisqmatrix.iloc[outercnt,innercnt]=round(p,3)\n",
    "        cntexpected=expected[expected<5].size\n",
    "        perexpected=((expected.size-cntexpected)/expected.size)*100\n",
    "      \n",
    "       \n",
    "        if perexpected<20:\n",
    "            chisqmatrix.iloc[outercnt,innercnt]=2 # low count between them suggests p-value is unreliable, do not use \n",
    "        if icol==jcol:\n",
    "            chisqmatrix.iloc[outercnt,innercnt]=0.00\n",
    "        innercnt=innercnt+1\n",
    "    outercnt=outercnt+1\n",
    "    innercnt=0\n",
    "\n",
    "plt.subplots(figsize=(15, 6))\n",
    "sns.heatmap(chisqmatrix.astype(np.float64), annot=True,linewidths=0.1, \n",
    "            cmap='coolwarm')\n",
    "plt.title(\"Chi2 - Binary after PCA and Behaviour_problem Dropped\");"
   ]
  },
  {
   "cell_type": "markdown",
   "id": "ba2794b9",
   "metadata": {},
   "source": [
    "That looks better to me; less multicollinearity for sure. However, I want to also see if just dropping `Behaviour_problem` without adding and PC's performs similarly. Would hate to waste computing power! I'll test this below with default binary logistic regression. I also want to see if the pca set performs better than the original. "
   ]
  },
  {
   "cell_type": "markdown",
   "id": "cad003e3",
   "metadata": {},
   "source": [
    "### 2.4.2 Multiclass Set"
   ]
  },
  {
   "cell_type": "code",
   "execution_count": null,
   "id": "87d4fecd",
   "metadata": {},
   "outputs": [],
   "source": []
  },
  {
   "cell_type": "markdown",
   "id": "07eb44b7",
   "metadata": {},
   "source": [
    "#### 2.4.2.1 Multiclass PCA"
   ]
  },
  {
   "cell_type": "code",
   "execution_count": null,
   "id": "9f82fc57",
   "metadata": {},
   "outputs": [],
   "source": []
  },
  {
   "cell_type": "markdown",
   "id": "1e9feb35",
   "metadata": {},
   "source": [
    "### 2.4.3 Last Step: One-Hot Encoding to Prep for Modeling "
   ]
  },
  {
   "cell_type": "code",
   "execution_count": null,
   "id": "ad11deef",
   "metadata": {},
   "outputs": [],
   "source": [
    "# BINARY \n",
    "# one-hot breed (note: get_dummies one-hots by default rather than genuine dummy variables w n-1 columns)\n",
    "for i in [X_train_pca, X_test_pca]:\n",
    "    i = pd.get_dummies(i, columns=['Breed_group'], prefix='B')\n",
    "    print(i.head())\n",
    "\n",
    "# one-hot breed (note: get_dummies one-hots by default rather than genuine dummy variables w n-1 columns)\n",
    "for i in [X_train_pcas, X_test_pcas]:\n",
    "    i = pd.get_dummies(i, columns=['Breed_group'], prefix='B')\n",
    "    print(i.head())"
   ]
  },
  {
   "cell_type": "markdown",
   "id": "b41b036b",
   "metadata": {},
   "source": [
    "# 3. Modeling  "
   ]
  },
  {
   "cell_type": "code",
   "execution_count": 14,
   "id": "f3419b08",
   "metadata": {},
   "outputs": [],
   "source": [
    "# dataframe for scores amongst models\n",
    "master_scores = pd.DataFrame(columns=['Model','Recall', 'F1', 'Precision', 'Accuracy'])"
   ]
  },
  {
   "cell_type": "code",
   "execution_count": 15,
   "id": "d51d6429",
   "metadata": {},
   "outputs": [],
   "source": [
    "# add_to_master(model_description, binary=True, y_true, y_predicted, df)\n",
    "def add_to_master(model_description, y_test, y_pred, binary=True):\n",
    "    '''\n",
    "    Adds a new row to the running score DataFrame `master_scores` \n",
    "    and functions for adding both binary and multiclass scores. \n",
    "    '''\n",
    "    global master_scores\n",
    "    if binary == True:\n",
    "        # Evalution Metrics\n",
    "        accuracy = accuracy_score(y_test, y_pred)\n",
    "        precision = precision_score(y_test, y_pred)\n",
    "        recall = recall_score(y_test, y_pred)\n",
    "        f1 = f1_score(y_test, y_pred)\n",
    "\n",
    "        # add to master_scores\n",
    "        new_row = {\n",
    "            'Model': model_description,\n",
    "            'Recall': round(recall,2), \n",
    "            'F1': round(f1, 2), \n",
    "            'Precision': round(precision, 2), \n",
    "            'Accuracy': round(accuracy, 2)}\n",
    "        \n",
    "        master_scores = master_scores.append(new_row, ignore_index=True)   \n",
    "    \n",
    "    else:\n",
    "        accuracy = accuracy_score(y_test, y_pred)\n",
    "        precision = precision_score(y_test, y_pred, average='macro') # I chose macro since we have less of the sucklers \n",
    "        recall = recall_score(y_test, y_pred, average='macro')       # and I want their accuracy to be meaningful\n",
    "        f1 = f1_score(y_test, y_pred, average='macro')\n",
    "\n",
    "\n",
    "        # add to master_scores\n",
    "        new_row = {\n",
    "            'Model': model_description,\n",
    "            'Recall': round(recall,2), \n",
    "            'F1': round(f1, 2), \n",
    "            'Precision': round(precision, 2), \n",
    "            'Accuracy': round(accuracy, 2)}\n",
    "        master_scores = master_scores.append(new_row, ignore_index=True)\n",
    "    return master_scores"
   ]
  },
  {
   "cell_type": "markdown",
   "id": "8b5fc82b",
   "metadata": {},
   "source": [
    "## 1. Logistic Regression:\n",
    "I expect binary to perform the best as I don't think we have enough data here to make a model with good predictive value. "
   ]
  },
  {
   "cell_type": "markdown",
   "id": "b6918a22",
   "metadata": {},
   "source": [
    "### 1.1 Binary + Some Feature Engineering Tests:"
   ]
  },
  {
   "cell_type": "code",
   "execution_count": 16,
   "id": "c77433d5",
   "metadata": {},
   "outputs": [
    {
     "data": {
      "text/html": [
       "<div>\n",
       "<style scoped>\n",
       "    .dataframe tbody tr th:only-of-type {\n",
       "        vertical-align: middle;\n",
       "    }\n",
       "\n",
       "    .dataframe tbody tr th {\n",
       "        vertical-align: top;\n",
       "    }\n",
       "\n",
       "    .dataframe thead th {\n",
       "        text-align: right;\n",
       "    }\n",
       "</style>\n",
       "<table border=\"1\" class=\"dataframe\">\n",
       "  <thead>\n",
       "    <tr style=\"text-align: right;\">\n",
       "      <th></th>\n",
       "      <th>Model</th>\n",
       "      <th>Recall</th>\n",
       "      <th>F1</th>\n",
       "      <th>Precision</th>\n",
       "      <th>Accuracy</th>\n",
       "    </tr>\n",
       "  </thead>\n",
       "  <tbody>\n",
       "    <tr>\n",
       "      <th>0</th>\n",
       "      <td>Def LogReg Binary + PCA</td>\n",
       "      <td>0.09</td>\n",
       "      <td>0.15</td>\n",
       "      <td>0.67</td>\n",
       "      <td>0.76</td>\n",
       "    </tr>\n",
       "  </tbody>\n",
       "</table>\n",
       "</div>"
      ],
      "text/plain": [
       "                     Model Recall    F1 Precision Accuracy\n",
       "0  Def LogReg Binary + PCA   0.09  0.15      0.67     0.76"
      ]
     },
     "execution_count": 16,
     "metadata": {},
     "output_type": "execute_result"
    }
   ],
   "source": [
    "# PCA data set\n",
    "pca_complete_df['ws_binary'] = pca_complete_df['Wool_sucking'].replace({1:0, 2:1, 3:1, 4:1, 5:1, 6:1, 7:1})\n",
    "pca_complete_df.drop(columns='Wool_sucking', inplace=True)\n",
    "pca_complete_df = pd.get_dummies(pca_complete_df, columns=['Breed_group'], prefix='B')\n",
    "# assign X and y \n",
    "X_pca = pca_complete_df.drop(columns='ws_binary')\n",
    "y_pca = pca_complete_df['ws_binary']\n",
    "# train test split \n",
    "X_train_pca, X_test_pca, y_train_pca, y_test_pca = train_test_split(X_pca, y_pca, \n",
    "                                                                    test_size=0.3, random_state=42, stratify=y_pca)\n",
    "\n",
    "\n",
    "log_PCA = LogisticRegression().fit(X_train_pca, y_train_pca)\n",
    "y_pred_pca = log_PCA.predict(X_test_pca)\n",
    "\n",
    "add_to_master('Def LogReg Binary + PCA', y_test_pca, y_pred_pca)"
   ]
  },
  {
   "cell_type": "code",
   "execution_count": 17,
   "id": "ef8bc842",
   "metadata": {},
   "outputs": [
    {
     "data": {
      "text/html": [
       "<div>\n",
       "<style scoped>\n",
       "    .dataframe tbody tr th:only-of-type {\n",
       "        vertical-align: middle;\n",
       "    }\n",
       "\n",
       "    .dataframe tbody tr th {\n",
       "        vertical-align: top;\n",
       "    }\n",
       "\n",
       "    .dataframe thead th {\n",
       "        text-align: right;\n",
       "    }\n",
       "</style>\n",
       "<table border=\"1\" class=\"dataframe\">\n",
       "  <thead>\n",
       "    <tr style=\"text-align: right;\">\n",
       "      <th></th>\n",
       "      <th>Model</th>\n",
       "      <th>Recall</th>\n",
       "      <th>F1</th>\n",
       "      <th>Precision</th>\n",
       "      <th>Accuracy</th>\n",
       "    </tr>\n",
       "  </thead>\n",
       "  <tbody>\n",
       "    <tr>\n",
       "      <th>0</th>\n",
       "      <td>Def LogReg Binary + PCA</td>\n",
       "      <td>0.09</td>\n",
       "      <td>0.15</td>\n",
       "      <td>0.67</td>\n",
       "      <td>0.76</td>\n",
       "    </tr>\n",
       "    <tr>\n",
       "      <th>1</th>\n",
       "      <td>Def LogReg Binary + drop behavior</td>\n",
       "      <td>0.08</td>\n",
       "      <td>0.14</td>\n",
       "      <td>0.57</td>\n",
       "      <td>0.75</td>\n",
       "    </tr>\n",
       "  </tbody>\n",
       "</table>\n",
       "</div>"
      ],
      "text/plain": [
       "                               Model Recall    F1 Precision Accuracy\n",
       "0            Def LogReg Binary + PCA   0.09  0.15      0.67     0.76\n",
       "1  Def LogReg Binary + drop behavior   0.08  0.14      0.57     0.75"
      ]
     },
     "execution_count": 17,
     "metadata": {},
     "output_type": "execute_result"
    }
   ],
   "source": [
    "# just drop behaviour_problem\n",
    "X_nbp = X_bin.drop(columns='Behaviour_problem')\n",
    "X_train_nbp, X_test_nbp, y_train_nbp, y_test_nbp = train_test_split(X_nbp, y_bin, \n",
    "                                                                    test_size=0.3, random_state=42, stratify=y_bin)\n",
    "log_nbp = LogisticRegression().fit(X_train_nbp, y_train_nbp)\n",
    "y_pred_nbp = log_nbp.predict(X_test_nbp)\n",
    "\n",
    "add_to_master('Def LogReg Binary + drop behavior', y_test_nbp, y_pred_nbp)"
   ]
  },
  {
   "cell_type": "code",
   "execution_count": 18,
   "id": "19e792f5",
   "metadata": {},
   "outputs": [],
   "source": [
    "# BINARY (normal)- no scaling as logistic regression is not sensitive to magnitude \n",
    "\n",
    "# Instantiate and fit model\n",
    "log = LogisticRegression().fit(X_train, y_train)\n",
    "\n",
    "# Calculate Prediction, Predicted Probabilities, FPR, TPR\n",
    "y_pred = log.predict(X_test)\n",
    "y_pred_probs = log.predict_proba(X_test)[:,1]\n",
    "fpr, tpr, thresholds = roc_curve(y_test, y_pred_probs)"
   ]
  },
  {
   "cell_type": "code",
   "execution_count": 19,
   "id": "8cd7594d",
   "metadata": {},
   "outputs": [
    {
     "data": {
      "image/png": "[encoded data removed]",
      "text/plain": [
       "<Figure size 432x288 with 1 Axes>"
      ]
     },
     "metadata": {
      "needs_background": "light"
     },
     "output_type": "display_data"
    }
   ],
   "source": [
    "# Graph ROC with AUC\n",
    "plt.plot([0,1], [0,1], 'k--')\n",
    "plt.plot(fpr, tpr)\n",
    "plt.text(0.5, 0.3, f'AUC = {roc_auc_score(y_test, y_pred_probs):.4f}', fontsize=12, ha='center')\n",
    "plt.xlabel(\"False Positive Rate\")\n",
    "plt.ylabel(\"True Positive Rate\")\n",
    "plt.title(\"Log Reg ROC Curve - Binary\")\n",
    "plt.show();"
   ]
  },
  {
   "cell_type": "code",
   "execution_count": 20,
   "id": "9612a465",
   "metadata": {},
   "outputs": [
    {
     "data": {
      "image/png": "[encoded data removed]",
      "text/plain": [
       "<Figure size 432x288 with 2 Axes>"
      ]
     },
     "metadata": {
      "needs_background": "light"
     },
     "output_type": "display_data"
    }
   ],
   "source": [
    "# Confusion Matrix\n",
    "cm = confusion_matrix(y_test, y_pred, labels=log.classes_)\n",
    "disp = ConfusionMatrixDisplay(confusion_matrix=cm, display_labels=log.classes_)\n",
    "disp.plot()\n",
    "plt.show();"
   ]
  },
  {
   "cell_type": "code",
   "execution_count": 21,
   "id": "0a346d58",
   "metadata": {},
   "outputs": [
    {
     "data": {
      "text/html": [
       "<div>\n",
       "<style scoped>\n",
       "    .dataframe tbody tr th:only-of-type {\n",
       "        vertical-align: middle;\n",
       "    }\n",
       "\n",
       "    .dataframe tbody tr th {\n",
       "        vertical-align: top;\n",
       "    }\n",
       "\n",
       "    .dataframe thead th {\n",
       "        text-align: right;\n",
       "    }\n",
       "</style>\n",
       "<table border=\"1\" class=\"dataframe\">\n",
       "  <thead>\n",
       "    <tr style=\"text-align: right;\">\n",
       "      <th></th>\n",
       "      <th>Model</th>\n",
       "      <th>Recall</th>\n",
       "      <th>F1</th>\n",
       "      <th>Precision</th>\n",
       "      <th>Accuracy</th>\n",
       "    </tr>\n",
       "  </thead>\n",
       "  <tbody>\n",
       "    <tr>\n",
       "      <th>0</th>\n",
       "      <td>Def LogReg Binary + PCA</td>\n",
       "      <td>0.09</td>\n",
       "      <td>0.15</td>\n",
       "      <td>0.67</td>\n",
       "      <td>0.76</td>\n",
       "    </tr>\n",
       "    <tr>\n",
       "      <th>2</th>\n",
       "      <td>Default Logistic Regression Binary</td>\n",
       "      <td>0.09</td>\n",
       "      <td>0.15</td>\n",
       "      <td>0.66</td>\n",
       "      <td>0.76</td>\n",
       "    </tr>\n",
       "    <tr>\n",
       "      <th>1</th>\n",
       "      <td>Def LogReg Binary + drop behavior</td>\n",
       "      <td>0.08</td>\n",
       "      <td>0.14</td>\n",
       "      <td>0.57</td>\n",
       "      <td>0.75</td>\n",
       "    </tr>\n",
       "  </tbody>\n",
       "</table>\n",
       "</div>"
      ],
      "text/plain": [
       "                                Model Recall    F1 Precision Accuracy\n",
       "0             Def LogReg Binary + PCA   0.09  0.15      0.67     0.76\n",
       "2  Default Logistic Regression Binary   0.09  0.15      0.66     0.76\n",
       "1   Def LogReg Binary + drop behavior   0.08  0.14      0.57     0.75"
      ]
     },
     "execution_count": 21,
     "metadata": {},
     "output_type": "execute_result"
    }
   ],
   "source": [
    "# add_to_master(model_description, y_true, y_predicted)\n",
    "add_to_master('Default Logistic Regression Binary', y_test, y_pred)\n",
    "\n",
    "# check out master_scores\n",
    "master_scores.sort_values('Recall', ascending=False).head()"
   ]
  },
  {
   "cell_type": "markdown",
   "id": "cdf83df4",
   "metadata": {},
   "source": [
    "Well there's our answer! PCA doesn't seem to have helped compared to the orginal, but dropping behavior problem was definitely not the way to go. "
   ]
  },
  {
   "cell_type": "markdown",
   "id": "d4bc1151",
   "metadata": {},
   "source": [
    "### 1.1.1 Binary Logistic Regression Interpretations:\n",
    "The model does really well with true negatives, and pretty stinking awful at true positives. This model performs okay in the broad scope but it truly does not live up to the intended goal of being able to accurately predict if a kitty I'm looking to adopt will wool-suck or not. Actually it pretty much just predicts that they all won't. I am going to make recall my main metric to watch out for for model comparison as that is where I assume my models will continue to struggle. "
   ]
  },
  {
   "cell_type": "markdown",
   "id": "7c34258e",
   "metadata": {},
   "source": [
    "### Setting up datasets again with PCA"
   ]
  },
  {
   "cell_type": "code",
   "execution_count": 22,
   "id": "9fa5b5bf",
   "metadata": {},
   "outputs": [],
   "source": [
    "# arugula\n",
    "pca = PCA(n_components=2)\n",
    "pca_data = pca.fit_transform(scaled_data)\n",
    "pca_columns = [f\"PC{i}\" for i in range(1,3)]\n",
    "pca_df = pd.DataFrame(pca_data, columns=pca_columns)\n",
    "pca_complete_df = pd.concat([pca_df, df.drop('Behaviour_problem', axis=1)], axis=1)"
   ]
  },
  {
   "cell_type": "code",
   "execution_count": 23,
   "id": "a4ea16f6",
   "metadata": {},
   "outputs": [],
   "source": [
    "# BINARY DATASET WITH PCA \n",
    "pca_bin = pca_complete_df.copy()\n",
    "pca_bin['ws_binary'] = pca_bin['Wool_sucking'].replace({1:0, 2:1, 3:1, 4:1, 5:1, 6:1, 7:1})\n",
    "pca_bin.drop(columns='Wool_sucking', inplace=True)\n",
    "pca_bin = pd.get_dummies(pca_bin, columns=['Breed_group'], prefix='B')\n",
    "# assign X and y \n",
    "X_pca_bin = pca_bin.drop(columns='ws_binary')\n",
    "y_pca_bin = pca_bin['ws_binary']\n",
    "# train test split \n",
    "X_train, X_test, y_train, y_test = train_test_split(X_pca_bin, y_pca_bin, \n",
    "                                                                    test_size=0.3, random_state=42, stratify=y_pca_bin)"
   ]
  },
  {
   "cell_type": "code",
   "execution_count": 24,
   "id": "bc769010",
   "metadata": {},
   "outputs": [],
   "source": [
    "# MULTICLASS DATASET WITH PCA \n",
    "pca_m = pca_complete_df.copy()\n",
    "pca_m = pd.get_dummies(pca_m, columns=['Breed_group'], prefix='B')\n",
    "# assign X and y \n",
    "X_pca_m = pca_m.drop(columns='Wool_sucking')\n",
    "y_pca_m = pca_m['Wool_sucking']\n",
    "# train test split \n",
    "X_trains, X_tests, y_trains, y_tests = train_test_split(X_pca_m, y_pca_m, \n",
    "                                                                    test_size=0.3, random_state=42, stratify=y_pca_m)"
   ]
  },
  {
   "cell_type": "markdown",
   "id": "858ba22c",
   "metadata": {},
   "source": [
    "### 1.2 Multiclass:"
   ]
  },
  {
   "cell_type": "code",
   "execution_count": 25,
   "id": "4c04c51c",
   "metadata": {},
   "outputs": [],
   "source": [
    "# MULTICLASS \n",
    "\n",
    "# Instantiate model\n",
    "logs = LogisticRegression(multi_class='multinomial').fit(X_trains, y_trains)\n",
    "\n",
    "# Calculate Prediction\n",
    "y_preds = logs.predict(X_tests)"
   ]
  },
  {
   "cell_type": "code",
   "execution_count": 26,
   "id": "a8a94fec",
   "metadata": {},
   "outputs": [
    {
     "data": {
      "image/png": "[encoded data removed]",
      "text/plain": [
       "<Figure size 432x288 with 2 Axes>"
      ]
     },
     "metadata": {
      "needs_background": "light"
     },
     "output_type": "display_data"
    }
   ],
   "source": [
    "# Confusion Matrix \n",
    "cms = confusion_matrix(y_tests, y_preds, labels=logs.classes_)\n",
    "disps = ConfusionMatrixDisplay(confusion_matrix=cms, display_labels=logs.classes_)\n",
    "disps.plot()\n",
    "plt.show();"
   ]
  },
  {
   "cell_type": "markdown",
   "id": "1520bbba",
   "metadata": {},
   "source": [
    "As a reminder, 0 and 1 represent wool sucking behavior as never and 1-3 times in cat's lifetime. Past that is at least once/month. This did better than I thought it would, but that's really not saying much. It predicted a lot of 4's for when it did predict anything that wasn't \"never.\""
   ]
  },
  {
   "cell_type": "code",
   "execution_count": 27,
   "id": "61b9ce3e",
   "metadata": {},
   "outputs": [
    {
     "data": {
      "text/html": [
       "<div>\n",
       "<style scoped>\n",
       "    .dataframe tbody tr th:only-of-type {\n",
       "        vertical-align: middle;\n",
       "    }\n",
       "\n",
       "    .dataframe tbody tr th {\n",
       "        vertical-align: top;\n",
       "    }\n",
       "\n",
       "    .dataframe thead th {\n",
       "        text-align: right;\n",
       "    }\n",
       "</style>\n",
       "<table border=\"1\" class=\"dataframe\">\n",
       "  <thead>\n",
       "    <tr style=\"text-align: right;\">\n",
       "      <th></th>\n",
       "      <th>Model</th>\n",
       "      <th>Recall</th>\n",
       "      <th>F1</th>\n",
       "      <th>Precision</th>\n",
       "      <th>Accuracy</th>\n",
       "    </tr>\n",
       "  </thead>\n",
       "  <tbody>\n",
       "    <tr>\n",
       "      <th>3</th>\n",
       "      <td>Default Logistic Regression Multiclass</td>\n",
       "      <td>0.13</td>\n",
       "      <td>0.11</td>\n",
       "      <td>0.11</td>\n",
       "      <td>0.68</td>\n",
       "    </tr>\n",
       "    <tr>\n",
       "      <th>0</th>\n",
       "      <td>Def LogReg Binary + PCA</td>\n",
       "      <td>0.09</td>\n",
       "      <td>0.15</td>\n",
       "      <td>0.67</td>\n",
       "      <td>0.76</td>\n",
       "    </tr>\n",
       "    <tr>\n",
       "      <th>2</th>\n",
       "      <td>Default Logistic Regression Binary</td>\n",
       "      <td>0.09</td>\n",
       "      <td>0.15</td>\n",
       "      <td>0.66</td>\n",
       "      <td>0.76</td>\n",
       "    </tr>\n",
       "    <tr>\n",
       "      <th>1</th>\n",
       "      <td>Def LogReg Binary + drop behavior</td>\n",
       "      <td>0.08</td>\n",
       "      <td>0.14</td>\n",
       "      <td>0.57</td>\n",
       "      <td>0.75</td>\n",
       "    </tr>\n",
       "  </tbody>\n",
       "</table>\n",
       "</div>"
      ],
      "text/plain": [
       "                                    Model Recall    F1 Precision Accuracy\n",
       "3  Default Logistic Regression Multiclass   0.13  0.11      0.11     0.68\n",
       "0                 Def LogReg Binary + PCA   0.09  0.15      0.67     0.76\n",
       "2      Default Logistic Regression Binary   0.09  0.15      0.66     0.76\n",
       "1       Def LogReg Binary + drop behavior   0.08  0.14      0.57     0.75"
      ]
     },
     "execution_count": 27,
     "metadata": {},
     "output_type": "execute_result"
    }
   ],
   "source": [
    "# add_to_master(model_description, binary=True, y_true, y_predicted, df)\n",
    "add_to_master('Default Logistic Regression Multiclass', y_tests, y_preds, binary=False)\n",
    "\n",
    "master_scores.sort_values('Recall', ascending=False).head()"
   ]
  },
  {
   "cell_type": "markdown",
   "id": "8338e497",
   "metadata": {},
   "source": [
    "### 1.2.1 Multiclass Logistic Regression Interpretations: \n",
    "I expected it to do poorly. Technically it did better than binary on recall but all-in-all: it sucked. I'll still try with the ordinal logistic regression since my target feature is ordinal, but I do not expect much greatness.  "
   ]
  },
  {
   "cell_type": "markdown",
   "id": "43afa82e",
   "metadata": {},
   "source": [
    "### 1.3 Ordinal:"
   ]
  },
  {
   "cell_type": "code",
   "execution_count": 28,
   "id": "3aec9be9",
   "metadata": {},
   "outputs": [
    {
     "name": "stdout",
     "output_type": "stream",
     "text": [
      "Iteration limit reached    (Exit mode 9)\n",
      "            Current function value: 1.0741912697526728\n",
      "            Iterations: 1000\n",
      "            Function evaluations: 1005\n",
      "            Gradient evaluations: 1000\n",
      "Elapsed Time 211.46 seconds.\n"
     ]
    },
    {
     "name": "stderr",
     "output_type": "stream",
     "text": [
      "C:\\Users\\gwent\\anaconda3\\lib\\site-packages\\statsmodels\\base\\l1_solvers_common.py:71: ConvergenceWarning: QC check did not pass for 19 out of 252 parameters\n",
      "Try increasing solver accuracy or number of iterations, decreasing alpha, or switch solvers\n",
      "  warnings.warn(message, ConvergenceWarning)\n",
      "C:\\Users\\gwent\\anaconda3\\lib\\site-packages\\statsmodels\\base\\l1_solvers_common.py:144: ConvergenceWarning: Could not trim params automatically due to failed QC check. Trimming using trim_mode == 'size' will still work.\n",
      "  warnings.warn(msg, ConvergenceWarning)\n",
      "C:\\Users\\gwent\\anaconda3\\lib\\site-packages\\statsmodels\\base\\model.py:604: ConvergenceWarning: Maximum Likelihood optimization failed to converge. Check mle_retvals\n",
      "  warnings.warn(\"Maximum Likelihood optimization failed to \"\n"
     ]
    }
   ],
   "source": [
    "# ORDINAL\n",
    "import statsmodels.api as sm\n",
    "start_time = time.time()\n",
    "\n",
    "# this algorithm prefers numpy arrays \n",
    "X_trains_o = X_trains.values\n",
    "y_trains_o = y_trains.values\n",
    "\n",
    "# Add constant to training\n",
    "X_trains_o = sm.add_constant(X_trains_o)\n",
    "\n",
    "# Instantiate model\n",
    "ordinal_model = sm.MNLogit(y_trains_o, X_trains_o)\n",
    "\n",
    "# Fit model\n",
    "ordinal_results = ordinal_model.fit_regularized(method='l1', alpha=0.5)\n",
    "\n",
    "end_time = time.time()\n",
    "elapse_time = round((end_time - start_time), 2)\n",
    "print(f\"Elapsed Time {elapse_time} seconds.\")\n",
    "\n",
    "# Add constant to testing \n",
    "X_tests_o = X_tests.values\n",
    "X_tests_o = sm.add_constant(X_tests_o)\n",
    "\n",
    "# Calculate Predictions and Predicted Probabilities \n",
    "y_pred_probss = ordinal_results.predict(X_tests_o)\n",
    "y_preds = np.argmax(y_pred_probss, axis=1)  # Convert predicted probabilities to class labels"
   ]
  },
  {
   "cell_type": "code",
   "execution_count": 29,
   "id": "43e107bb",
   "metadata": {},
   "outputs": [
    {
     "data": {
      "image/png": "[encoded data removed]",
      "text/plain": [
       "<Figure size 432x288 with 2 Axes>"
      ]
     },
     "metadata": {
      "needs_background": "light"
     },
     "output_type": "display_data"
    }
   ],
   "source": [
    "# Confusion Matrix\n",
    "cms = confusion_matrix(y_tests, y_preds)\n",
    "disps = ConfusionMatrixDisplay(confusion_matrix=cms)\n",
    "disps.plot()\n",
    "plt.show();"
   ]
  },
  {
   "cell_type": "code",
   "execution_count": 30,
   "id": "d95c9807",
   "metadata": {},
   "outputs": [
    {
     "data": {
      "text/html": [
       "<div>\n",
       "<style scoped>\n",
       "    .dataframe tbody tr th:only-of-type {\n",
       "        vertical-align: middle;\n",
       "    }\n",
       "\n",
       "    .dataframe tbody tr th {\n",
       "        vertical-align: top;\n",
       "    }\n",
       "\n",
       "    .dataframe thead th {\n",
       "        text-align: right;\n",
       "    }\n",
       "</style>\n",
       "<table border=\"1\" class=\"dataframe\">\n",
       "  <thead>\n",
       "    <tr style=\"text-align: right;\">\n",
       "      <th></th>\n",
       "      <th>Model</th>\n",
       "      <th>Recall</th>\n",
       "      <th>F1</th>\n",
       "      <th>Precision</th>\n",
       "      <th>Accuracy</th>\n",
       "    </tr>\n",
       "  </thead>\n",
       "  <tbody>\n",
       "    <tr>\n",
       "      <th>3</th>\n",
       "      <td>Default Logistic Regression Multiclass</td>\n",
       "      <td>0.13</td>\n",
       "      <td>0.11</td>\n",
       "      <td>0.11</td>\n",
       "      <td>0.68</td>\n",
       "    </tr>\n",
       "    <tr>\n",
       "      <th>4</th>\n",
       "      <td>Default Ordinal Logistic Regression</td>\n",
       "      <td>0.13</td>\n",
       "      <td>0.11</td>\n",
       "      <td>0.11</td>\n",
       "      <td>0.68</td>\n",
       "    </tr>\n",
       "    <tr>\n",
       "      <th>0</th>\n",
       "      <td>Def LogReg Binary + PCA</td>\n",
       "      <td>0.09</td>\n",
       "      <td>0.15</td>\n",
       "      <td>0.67</td>\n",
       "      <td>0.76</td>\n",
       "    </tr>\n",
       "    <tr>\n",
       "      <th>2</th>\n",
       "      <td>Default Logistic Regression Binary</td>\n",
       "      <td>0.09</td>\n",
       "      <td>0.15</td>\n",
       "      <td>0.66</td>\n",
       "      <td>0.76</td>\n",
       "    </tr>\n",
       "    <tr>\n",
       "      <th>1</th>\n",
       "      <td>Def LogReg Binary + drop behavior</td>\n",
       "      <td>0.08</td>\n",
       "      <td>0.14</td>\n",
       "      <td>0.57</td>\n",
       "      <td>0.75</td>\n",
       "    </tr>\n",
       "  </tbody>\n",
       "</table>\n",
       "</div>"
      ],
      "text/plain": [
       "                                    Model Recall    F1 Precision Accuracy\n",
       "3  Default Logistic Regression Multiclass   0.13  0.11      0.11     0.68\n",
       "4     Default Ordinal Logistic Regression   0.13  0.11      0.11     0.68\n",
       "0                 Def LogReg Binary + PCA   0.09  0.15      0.67     0.76\n",
       "2      Default Logistic Regression Binary   0.09  0.15      0.66     0.76\n",
       "1       Def LogReg Binary + drop behavior   0.08  0.14      0.57     0.75"
      ]
     },
     "execution_count": 30,
     "metadata": {},
     "output_type": "execute_result"
    }
   ],
   "source": [
    "# add_to_master(model_description, binary=True, y_true, y_predicted, df)\n",
    "add_to_master('Default Ordinal Logistic Regression', y_tests, y_preds, binary=False)\n",
    "\n",
    "master_scores.sort_values('Recall', ascending=False).head()"
   ]
  },
  {
   "cell_type": "markdown",
   "id": "1964dd3d",
   "metadata": {},
   "source": [
    "### 1.3.1 Ordinal Logistic Regression Interpretations:\n",
    "Yeah... this didn't do much better in the multiclass context. "
   ]
  },
  {
   "cell_type": "markdown",
   "id": "dab9f30f",
   "metadata": {},
   "source": [
    "## 1.4 Logistic Regression Parameter Tuning:\n",
    "As expected, the binary performed the best. However, there was one common thread: all models essentially predicted each sample as the majority class. Let's quickly check out this class imbalance. There's no point in tuning a model if you're still feeding it garbage! "
   ]
  },
  {
   "cell_type": "code",
   "execution_count": 31,
   "id": "9a5d6cce",
   "metadata": {},
   "outputs": [
    {
     "data": {
      "text/plain": [
       "0.0    0.747718\n",
       "1.0    0.252282\n",
       "Name: ws_binary, dtype: float64"
      ]
     },
     "execution_count": 31,
     "metadata": {},
     "output_type": "execute_result"
    }
   ],
   "source": [
    "y_bin.value_counts(normalize=True)"
   ]
  },
  {
   "cell_type": "markdown",
   "id": "3ecd15dc",
   "metadata": {},
   "source": [
    "Quite the imbalance! Let's employ some resampling techniques to see if we find any improvement. Some resampling techniques include random undersampling (RUS), random oversampling (ROS), and Synthetic Minority Oversampling Technique (SMOTE). I predict the ROS will perform best as our dataset is already so small; I believe reducing datapoints even more would not be helpful. Oversampling, however, can have a tendency to overfit as it introduces redundant information. "
   ]
  },
  {
   "cell_type": "markdown",
   "id": "3f0cc01e",
   "metadata": {},
   "source": [
    "### 1.4.1 Resampling"
   ]
  },
  {
   "cell_type": "code",
   "execution_count": 32,
   "id": "e123eea6",
   "metadata": {},
   "outputs": [
    {
     "data": {
      "text/html": [
       "<div>\n",
       "<style scoped>\n",
       "    .dataframe tbody tr th:only-of-type {\n",
       "        vertical-align: middle;\n",
       "    }\n",
       "\n",
       "    .dataframe tbody tr th {\n",
       "        vertical-align: top;\n",
       "    }\n",
       "\n",
       "    .dataframe thead th {\n",
       "        text-align: right;\n",
       "    }\n",
       "</style>\n",
       "<table border=\"1\" class=\"dataframe\">\n",
       "  <thead>\n",
       "    <tr style=\"text-align: right;\">\n",
       "      <th></th>\n",
       "      <th>Model</th>\n",
       "      <th>Recall</th>\n",
       "      <th>F1</th>\n",
       "      <th>Precision</th>\n",
       "      <th>Accuracy</th>\n",
       "    </tr>\n",
       "  </thead>\n",
       "  <tbody>\n",
       "    <tr>\n",
       "      <th>0</th>\n",
       "      <td>Def LogReg Binary + PCA</td>\n",
       "      <td>0.09</td>\n",
       "      <td>0.15</td>\n",
       "      <td>0.67</td>\n",
       "      <td>0.76</td>\n",
       "    </tr>\n",
       "    <tr>\n",
       "      <th>1</th>\n",
       "      <td>Def LogReg Binary + drop behavior</td>\n",
       "      <td>0.08</td>\n",
       "      <td>0.14</td>\n",
       "      <td>0.57</td>\n",
       "      <td>0.75</td>\n",
       "    </tr>\n",
       "    <tr>\n",
       "      <th>2</th>\n",
       "      <td>Default Logistic Regression Binary</td>\n",
       "      <td>0.09</td>\n",
       "      <td>0.15</td>\n",
       "      <td>0.66</td>\n",
       "      <td>0.76</td>\n",
       "    </tr>\n",
       "    <tr>\n",
       "      <th>3</th>\n",
       "      <td>Default Logistic Regression Multiclass</td>\n",
       "      <td>0.13</td>\n",
       "      <td>0.11</td>\n",
       "      <td>0.11</td>\n",
       "      <td>0.68</td>\n",
       "    </tr>\n",
       "    <tr>\n",
       "      <th>4</th>\n",
       "      <td>Default Ordinal Logistic Regression</td>\n",
       "      <td>0.13</td>\n",
       "      <td>0.11</td>\n",
       "      <td>0.11</td>\n",
       "      <td>0.68</td>\n",
       "    </tr>\n",
       "    <tr>\n",
       "      <th>5</th>\n",
       "      <td>SMOTE Default Logistic Regression</td>\n",
       "      <td>0.27</td>\n",
       "      <td>0.34</td>\n",
       "      <td>0.46</td>\n",
       "      <td>0.74</td>\n",
       "    </tr>\n",
       "  </tbody>\n",
       "</table>\n",
       "</div>"
      ],
      "text/plain": [
       "                                    Model Recall    F1 Precision Accuracy\n",
       "0                 Def LogReg Binary + PCA   0.09  0.15      0.67     0.76\n",
       "1       Def LogReg Binary + drop behavior   0.08  0.14      0.57     0.75\n",
       "2      Default Logistic Regression Binary   0.09  0.15      0.66     0.76\n",
       "3  Default Logistic Regression Multiclass   0.13  0.11      0.11     0.68\n",
       "4     Default Ordinal Logistic Regression   0.13  0.11      0.11     0.68\n",
       "5       SMOTE Default Logistic Regression   0.27  0.34      0.46     0.74"
      ]
     },
     "execution_count": 32,
     "metadata": {},
     "output_type": "execute_result"
    }
   ],
   "source": [
    "smote = SMOTE()\n",
    "X_resampled, y_resampled = smote.fit_resample(X_train, y_train)\n",
    "y_pred = log.fit(X_resampled, y_resampled).predict(X_test)\n",
    "\n",
    "add_to_master('SMOTE Default Logistic Regression', y_test, y_pred)"
   ]
  },
  {
   "cell_type": "code",
   "execution_count": 33,
   "id": "c372918d",
   "metadata": {},
   "outputs": [
    {
     "data": {
      "text/html": [
       "<div>\n",
       "<style scoped>\n",
       "    .dataframe tbody tr th:only-of-type {\n",
       "        vertical-align: middle;\n",
       "    }\n",
       "\n",
       "    .dataframe tbody tr th {\n",
       "        vertical-align: top;\n",
       "    }\n",
       "\n",
       "    .dataframe thead th {\n",
       "        text-align: right;\n",
       "    }\n",
       "</style>\n",
       "<table border=\"1\" class=\"dataframe\">\n",
       "  <thead>\n",
       "    <tr style=\"text-align: right;\">\n",
       "      <th></th>\n",
       "      <th>Model</th>\n",
       "      <th>Recall</th>\n",
       "      <th>F1</th>\n",
       "      <th>Precision</th>\n",
       "      <th>Accuracy</th>\n",
       "    </tr>\n",
       "  </thead>\n",
       "  <tbody>\n",
       "    <tr>\n",
       "      <th>0</th>\n",
       "      <td>Def LogReg Binary + PCA</td>\n",
       "      <td>0.09</td>\n",
       "      <td>0.15</td>\n",
       "      <td>0.67</td>\n",
       "      <td>0.76</td>\n",
       "    </tr>\n",
       "    <tr>\n",
       "      <th>1</th>\n",
       "      <td>Def LogReg Binary + drop behavior</td>\n",
       "      <td>0.08</td>\n",
       "      <td>0.14</td>\n",
       "      <td>0.57</td>\n",
       "      <td>0.75</td>\n",
       "    </tr>\n",
       "    <tr>\n",
       "      <th>2</th>\n",
       "      <td>Default Logistic Regression Binary</td>\n",
       "      <td>0.09</td>\n",
       "      <td>0.15</td>\n",
       "      <td>0.66</td>\n",
       "      <td>0.76</td>\n",
       "    </tr>\n",
       "    <tr>\n",
       "      <th>3</th>\n",
       "      <td>Default Logistic Regression Multiclass</td>\n",
       "      <td>0.13</td>\n",
       "      <td>0.11</td>\n",
       "      <td>0.11</td>\n",
       "      <td>0.68</td>\n",
       "    </tr>\n",
       "    <tr>\n",
       "      <th>4</th>\n",
       "      <td>Default Ordinal Logistic Regression</td>\n",
       "      <td>0.13</td>\n",
       "      <td>0.11</td>\n",
       "      <td>0.11</td>\n",
       "      <td>0.68</td>\n",
       "    </tr>\n",
       "    <tr>\n",
       "      <th>5</th>\n",
       "      <td>SMOTE Default Logistic Regression</td>\n",
       "      <td>0.27</td>\n",
       "      <td>0.34</td>\n",
       "      <td>0.46</td>\n",
       "      <td>0.74</td>\n",
       "    </tr>\n",
       "    <tr>\n",
       "      <th>6</th>\n",
       "      <td>RUS Default Logistic Regression</td>\n",
       "      <td>0.64</td>\n",
       "      <td>0.47</td>\n",
       "      <td>0.37</td>\n",
       "      <td>0.63</td>\n",
       "    </tr>\n",
       "  </tbody>\n",
       "</table>\n",
       "</div>"
      ],
      "text/plain": [
       "                                    Model Recall    F1 Precision Accuracy\n",
       "0                 Def LogReg Binary + PCA   0.09  0.15      0.67     0.76\n",
       "1       Def LogReg Binary + drop behavior   0.08  0.14      0.57     0.75\n",
       "2      Default Logistic Regression Binary   0.09  0.15      0.66     0.76\n",
       "3  Default Logistic Regression Multiclass   0.13  0.11      0.11     0.68\n",
       "4     Default Ordinal Logistic Regression   0.13  0.11      0.11     0.68\n",
       "5       SMOTE Default Logistic Regression   0.27  0.34      0.46     0.74\n",
       "6         RUS Default Logistic Regression   0.64  0.47      0.37     0.63"
      ]
     },
     "execution_count": 33,
     "metadata": {},
     "output_type": "execute_result"
    }
   ],
   "source": [
    "rus = RandomUnderSampler()\n",
    "X_resampled, y_resampled = rus.fit_resample(X_train, y_train)\n",
    "y_pred = log.fit(X_resampled, y_resampled).predict(X_test)\n",
    "\n",
    "add_to_master('RUS Default Logistic Regression', y_test, y_pred)"
   ]
  },
  {
   "cell_type": "code",
   "execution_count": 34,
   "id": "e9a9391a",
   "metadata": {},
   "outputs": [
    {
     "data": {
      "text/html": [
       "<div>\n",
       "<style scoped>\n",
       "    .dataframe tbody tr th:only-of-type {\n",
       "        vertical-align: middle;\n",
       "    }\n",
       "\n",
       "    .dataframe tbody tr th {\n",
       "        vertical-align: top;\n",
       "    }\n",
       "\n",
       "    .dataframe thead th {\n",
       "        text-align: right;\n",
       "    }\n",
       "</style>\n",
       "<table border=\"1\" class=\"dataframe\">\n",
       "  <thead>\n",
       "    <tr style=\"text-align: right;\">\n",
       "      <th></th>\n",
       "      <th>Model</th>\n",
       "      <th>Recall</th>\n",
       "      <th>F1</th>\n",
       "      <th>Precision</th>\n",
       "      <th>Accuracy</th>\n",
       "    </tr>\n",
       "  </thead>\n",
       "  <tbody>\n",
       "    <tr>\n",
       "      <th>7</th>\n",
       "      <td>ROS Default Logistic Regression</td>\n",
       "      <td>0.65</td>\n",
       "      <td>0.47</td>\n",
       "      <td>0.37</td>\n",
       "      <td>0.63</td>\n",
       "    </tr>\n",
       "    <tr>\n",
       "      <th>6</th>\n",
       "      <td>RUS Default Logistic Regression</td>\n",
       "      <td>0.64</td>\n",
       "      <td>0.47</td>\n",
       "      <td>0.37</td>\n",
       "      <td>0.63</td>\n",
       "    </tr>\n",
       "    <tr>\n",
       "      <th>5</th>\n",
       "      <td>SMOTE Default Logistic Regression</td>\n",
       "      <td>0.27</td>\n",
       "      <td>0.34</td>\n",
       "      <td>0.46</td>\n",
       "      <td>0.74</td>\n",
       "    </tr>\n",
       "    <tr>\n",
       "      <th>3</th>\n",
       "      <td>Default Logistic Regression Multiclass</td>\n",
       "      <td>0.13</td>\n",
       "      <td>0.11</td>\n",
       "      <td>0.11</td>\n",
       "      <td>0.68</td>\n",
       "    </tr>\n",
       "    <tr>\n",
       "      <th>4</th>\n",
       "      <td>Default Ordinal Logistic Regression</td>\n",
       "      <td>0.13</td>\n",
       "      <td>0.11</td>\n",
       "      <td>0.11</td>\n",
       "      <td>0.68</td>\n",
       "    </tr>\n",
       "  </tbody>\n",
       "</table>\n",
       "</div>"
      ],
      "text/plain": [
       "                                    Model Recall    F1 Precision Accuracy\n",
       "7         ROS Default Logistic Regression   0.65  0.47      0.37     0.63\n",
       "6         RUS Default Logistic Regression   0.64  0.47      0.37     0.63\n",
       "5       SMOTE Default Logistic Regression   0.27  0.34      0.46     0.74\n",
       "3  Default Logistic Regression Multiclass   0.13  0.11      0.11     0.68\n",
       "4     Default Ordinal Logistic Regression   0.13  0.11      0.11     0.68"
      ]
     },
     "execution_count": 34,
     "metadata": {},
     "output_type": "execute_result"
    }
   ],
   "source": [
    "ros = RandomOverSampler()\n",
    "X_resampled, y_resampled = ros.fit_resample(X_train, y_train)\n",
    "y_pred = log.fit(X_resampled, y_resampled).predict(X_test)\n",
    "\n",
    "add_to_master('ROS Default Logistic Regression', y_test, y_pred)\n",
    "\n",
    "master_scores.sort_values('Recall', ascending=False).head()"
   ]
  },
  {
   "cell_type": "markdown",
   "id": "55dbd033",
   "metadata": {},
   "source": [
    "### 1.4.1.1 Interpretations of Resampling\n",
    "Woah! The resampling definitely helped a lot in the recall department! Let's prep our data for regularization and RUS and then plug it into a gridsearch. I was really not sure if RUS or ROS would perform better on a dataset this small. I guess the ROS just made the new dataset too noisy and redundant. "
   ]
  },
  {
   "cell_type": "markdown",
   "id": "ccea667e",
   "metadata": {},
   "source": [
    "### 1.4.2 Scaling"
   ]
  },
  {
   "cell_type": "code",
   "execution_count": 35,
   "id": "c19162b5",
   "metadata": {},
   "outputs": [],
   "source": [
    "rus = RandomUnderSampler()\n",
    "X_resampled, y_resampled = rus.fit_resample(X_train, y_train)"
   ]
  },
  {
   "cell_type": "code",
   "execution_count": 36,
   "id": "c52f3686",
   "metadata": {},
   "outputs": [],
   "source": [
    "# Logistic Regression is typically impervious to scaling...unless you do regularization, so let's scale it too!\n",
    "scaler = MinMaxScaler(feature_range=(0,5))\n",
    "\n",
    "scaler.fit(X_resampled)\n",
    "X_train_scaled = scaler.transform(X_resampled)\n",
    "X_test_scaled = scaler.transform(X_test)"
   ]
  },
  {
   "cell_type": "code",
   "execution_count": 37,
   "id": "4b1c20e9",
   "metadata": {},
   "outputs": [
    {
     "name": "stdout",
     "output_type": "stream",
     "text": [
      "Best Hyperparameters:  {'C': 0.001, 'max_iter': 100, 'penalty': 'l2', 'solver': 'liblinear'}\n",
      "Best Score:  0.6173587508004531\n",
      "Elapsed Time: 6.72 seconds\n"
     ]
    }
   ],
   "source": [
    "# Grid Search for Binary Logistic Regression\n",
    "\n",
    "\n",
    "# timing this process\n",
    "start_time = time.time()\n",
    "\n",
    "\n",
    "param_grid = {\n",
    "    'C': [None, 0.001, 0.01, 0.1, 1.0, 10.0, 100.0],\n",
    "    'penalty': [None, 'l1', 'l2'],\n",
    "    'solver': ['lbfgs', 'liblinear', 'newton-cg'],\n",
    "    'max_iter' : [100, 500, 1000]\n",
    "}\n",
    "\n",
    "grid_search = GridSearchCV(log, param_grid, cv=5, scoring='recall')\n",
    "grid_search.fit(X_train_scaled, y_resampled)\n",
    "\n",
    "end_time = time.time()\n",
    "elapsed_time = end_time - start_time\n",
    "\n",
    "print(\"Best Hyperparameters: \", grid_search.best_params_)\n",
    "print(\"Best Score: \", grid_search.best_score_)\n",
    "print(\"Elapsed Time: {:.2f} seconds\".format(elapsed_time))"
   ]
  },
  {
   "cell_type": "code",
   "execution_count": 38,
   "id": "2f7f0a1f",
   "metadata": {},
   "outputs": [
    {
     "data": {
      "image/png": "[encoded data removed]",
      "text/plain": [
       "<Figure size 432x288 with 1 Axes>"
      ]
     },
     "metadata": {
      "needs_background": "light"
     },
     "output_type": "display_data"
    }
   ],
   "source": [
    "# re-plot w tuned parameters\n",
    "log_tuned = grid_search.best_estimator_\n",
    "log_tuned.fit(X_train_scaled, y_resampled)\n",
    "\n",
    "y_pred_tuned = log_tuned.predict(X_test_scaled)\n",
    "y_pred_probs_tuned = log_tuned.predict_proba(X_test_scaled)[:,1]\n",
    "fpr, tpr, thresholds = roc_curve(y_test, y_pred_probs_tuned)\n",
    "\n",
    "plt.plot([0,1], [0,1], 'k--')\n",
    "plt.plot(fpr, tpr)\n",
    "plt.text(0.5, 0.3, f'AUC = {roc_auc_score(y_test, y_pred_probs_tuned):.4f}', fontsize=12, ha='center')\n",
    "plt.xlabel(\"False Positive Rate\")\n",
    "plt.ylabel(\"True Positive Rate\")\n",
    "plt.title(\"Log Reg ROC Curve - Binary, Tuned\")\n",
    "plt.show();"
   ]
  },
  {
   "cell_type": "code",
   "execution_count": 39,
   "id": "050bff6c",
   "metadata": {},
   "outputs": [
    {
     "data": {
      "image/png": "[encoded data removed]",
      "text/plain": [
       "<Figure size 432x288 with 2 Axes>"
      ]
     },
     "metadata": {
      "needs_background": "light"
     },
     "output_type": "display_data"
    }
   ],
   "source": [
    "# Confusion Matrix\n",
    "cm = confusion_matrix(y_test, y_pred_tuned, labels=log_tuned.classes_)\n",
    "disp = ConfusionMatrixDisplay(confusion_matrix=cm, display_labels=log_tuned.classes_)\n",
    "disp.plot()\n",
    "plt.show();"
   ]
  },
  {
   "cell_type": "code",
   "execution_count": 40,
   "id": "b342e4f0",
   "metadata": {},
   "outputs": [
    {
     "data": {
      "text/html": [
       "<div>\n",
       "<style scoped>\n",
       "    .dataframe tbody tr th:only-of-type {\n",
       "        vertical-align: middle;\n",
       "    }\n",
       "\n",
       "    .dataframe tbody tr th {\n",
       "        vertical-align: top;\n",
       "    }\n",
       "\n",
       "    .dataframe thead th {\n",
       "        text-align: right;\n",
       "    }\n",
       "</style>\n",
       "<table border=\"1\" class=\"dataframe\">\n",
       "  <thead>\n",
       "    <tr style=\"text-align: right;\">\n",
       "      <th></th>\n",
       "      <th>Model</th>\n",
       "      <th>Recall</th>\n",
       "      <th>F1</th>\n",
       "      <th>Precision</th>\n",
       "      <th>Accuracy</th>\n",
       "    </tr>\n",
       "  </thead>\n",
       "  <tbody>\n",
       "    <tr>\n",
       "      <th>7</th>\n",
       "      <td>ROS Default Logistic Regression</td>\n",
       "      <td>0.65</td>\n",
       "      <td>0.47</td>\n",
       "      <td>0.37</td>\n",
       "      <td>0.63</td>\n",
       "    </tr>\n",
       "    <tr>\n",
       "      <th>6</th>\n",
       "      <td>RUS Default Logistic Regression</td>\n",
       "      <td>0.64</td>\n",
       "      <td>0.47</td>\n",
       "      <td>0.37</td>\n",
       "      <td>0.63</td>\n",
       "    </tr>\n",
       "    <tr>\n",
       "      <th>8</th>\n",
       "      <td>Scaled GridSearch Log Reg Binary</td>\n",
       "      <td>0.64</td>\n",
       "      <td>0.46</td>\n",
       "      <td>0.36</td>\n",
       "      <td>0.62</td>\n",
       "    </tr>\n",
       "    <tr>\n",
       "      <th>5</th>\n",
       "      <td>SMOTE Default Logistic Regression</td>\n",
       "      <td>0.27</td>\n",
       "      <td>0.34</td>\n",
       "      <td>0.46</td>\n",
       "      <td>0.74</td>\n",
       "    </tr>\n",
       "    <tr>\n",
       "      <th>3</th>\n",
       "      <td>Default Logistic Regression Multiclass</td>\n",
       "      <td>0.13</td>\n",
       "      <td>0.11</td>\n",
       "      <td>0.11</td>\n",
       "      <td>0.68</td>\n",
       "    </tr>\n",
       "  </tbody>\n",
       "</table>\n",
       "</div>"
      ],
      "text/plain": [
       "                                    Model Recall    F1 Precision Accuracy\n",
       "7         ROS Default Logistic Regression   0.65  0.47      0.37     0.63\n",
       "6         RUS Default Logistic Regression   0.64  0.47      0.37     0.63\n",
       "8        Scaled GridSearch Log Reg Binary   0.64  0.46      0.36     0.62\n",
       "5       SMOTE Default Logistic Regression   0.27  0.34      0.46     0.74\n",
       "3  Default Logistic Regression Multiclass   0.13  0.11      0.11     0.68"
      ]
     },
     "execution_count": 40,
     "metadata": {},
     "output_type": "execute_result"
    }
   ],
   "source": [
    "# add_to_master(model_description, binary=True, y_true, y_predicted, df)\n",
    "add_to_master('Scaled GridSearch Log Reg Binary', y_test, y_pred_tuned, binary=True)\n",
    "\n",
    "master_scores.sort_values('Recall', ascending=False).head()"
   ]
  },
  {
   "cell_type": "markdown",
   "id": "63ca9387",
   "metadata": {},
   "source": [
    "### Conclusion to Log Reg:\n",
    "From default, no pca, unscaled plain 'ol `log` we've made leaps in bounds to `log_tuned`. It is for sure winning the game so far.  \n",
    "Winning Model Features:  \n",
    "* PCA on `Behaviour_problem`, `Outdoors`, `Other_cats`, with `n_components=2` and then drop `Behavior_problem`\n",
    "* Binary\n",
    "* MinMax Scaled 1-5 \n",
    "* Logistic Regression \n",
    "    * Best Hyperparameters:  {'C': 0.001, 'max_iter': 100, 'penalty': 'l2', 'solver': 'liblinear'}"
   ]
  },
  {
   "cell_type": "markdown",
   "id": "883a4ece",
   "metadata": {},
   "source": [
    "### Adding Resampling Method:\n",
    "Let's prep our dataset so we can test it with other models."
   ]
  },
  {
   "cell_type": "code",
   "execution_count": 41,
   "id": "2d97d4b6",
   "metadata": {},
   "outputs": [],
   "source": [
    "rus = RandomUnderSampler()\n",
    "\n",
    "# BINARY RESAMPLED\n",
    "X_train, y_train = rus.fit_resample(X_train, y_train)\n",
    "\n",
    "# MULTICLASS RESAMPLED \n",
    "X_trains, y_trains = rus.fit_resample(X_trains, y_trains)"
   ]
  },
  {
   "cell_type": "markdown",
   "id": "43632119",
   "metadata": {},
   "source": [
    "## 2. Random Forest:\n",
    "This algorithm is also not sensitive to magnitude so I will not be scaling. I would think Random Forest would be my best bet at muticlass of the three, but I still don't have high hopes. "
   ]
  },
  {
   "cell_type": "markdown",
   "id": "37f6984f",
   "metadata": {},
   "source": [
    "### 2.1 Binary:"
   ]
  },
  {
   "cell_type": "code",
   "execution_count": 42,
   "id": "008a4a30",
   "metadata": {},
   "outputs": [],
   "source": [
    "from sklearn.ensemble import RandomForestClassifier"
   ]
  },
  {
   "cell_type": "code",
   "execution_count": 43,
   "id": "35a8a38b",
   "metadata": {},
   "outputs": [],
   "source": [
    "# binary run\n",
    "\n",
    "# instantiate the model \n",
    "rf = RandomForestClassifier()\n",
    "\n",
    "# fit the model\n",
    "rf.fit(X_train, y_train)\n",
    "\n",
    "# predict and predicted probs \n",
    "y_pred = rf.predict(X_test)\n",
    "y_pred_probs = rf.predict_proba(X_test)[:,1]"
   ]
  },
  {
   "cell_type": "code",
   "execution_count": 44,
   "id": "caf612c5",
   "metadata": {},
   "outputs": [
    {
     "data": {
      "image/png": "[encoded data removed]",
      "text/plain": [
       "<Figure size 432x288 with 1 Axes>"
      ]
     },
     "metadata": {
      "needs_background": "light"
     },
     "output_type": "display_data"
    }
   ],
   "source": [
    "# ROC\n",
    "plt.plot([0,1], [0,1], 'k--')\n",
    "plt.plot(fpr, tpr)\n",
    "plt.text(0.5, 0.3, f'AUC = {roc_auc_score(y_test, y_pred_probs):.4f}', fontsize=12, ha='center')\n",
    "plt.xlabel(\"False Positive Rate\")\n",
    "plt.ylabel(\"True Positive Rate\")\n",
    "plt.title(\"Random Forest ROC Curve - Binary\")\n",
    "plt.show();"
   ]
  },
  {
   "cell_type": "code",
   "execution_count": 45,
   "id": "6569906e",
   "metadata": {},
   "outputs": [
    {
     "data": {
      "image/png": "[encoded data removed]",
      "text/plain": [
       "<Figure size 432x288 with 2 Axes>"
      ]
     },
     "metadata": {
      "needs_background": "light"
     },
     "output_type": "display_data"
    }
   ],
   "source": [
    "# Confusion Matrix\n",
    "cm = confusion_matrix(y_test, y_pred, labels=rf.classes_)\n",
    "disp = ConfusionMatrixDisplay(confusion_matrix=cm, display_labels=rf.classes_)\n",
    "disp.plot()\n",
    "plt.show();"
   ]
  },
  {
   "cell_type": "code",
   "execution_count": 46,
   "id": "02a49b9d",
   "metadata": {},
   "outputs": [
    {
     "data": {
      "text/html": [
       "<div>\n",
       "<style scoped>\n",
       "    .dataframe tbody tr th:only-of-type {\n",
       "        vertical-align: middle;\n",
       "    }\n",
       "\n",
       "    .dataframe tbody tr th {\n",
       "        vertical-align: top;\n",
       "    }\n",
       "\n",
       "    .dataframe thead th {\n",
       "        text-align: right;\n",
       "    }\n",
       "</style>\n",
       "<table border=\"1\" class=\"dataframe\">\n",
       "  <thead>\n",
       "    <tr style=\"text-align: right;\">\n",
       "      <th></th>\n",
       "      <th>Model</th>\n",
       "      <th>Recall</th>\n",
       "      <th>F1</th>\n",
       "      <th>Precision</th>\n",
       "      <th>Accuracy</th>\n",
       "    </tr>\n",
       "  </thead>\n",
       "  <tbody>\n",
       "    <tr>\n",
       "      <th>7</th>\n",
       "      <td>ROS Default Logistic Regression</td>\n",
       "      <td>0.65</td>\n",
       "      <td>0.47</td>\n",
       "      <td>0.37</td>\n",
       "      <td>0.63</td>\n",
       "    </tr>\n",
       "    <tr>\n",
       "      <th>9</th>\n",
       "      <td>Default Random Forest Binary</td>\n",
       "      <td>0.65</td>\n",
       "      <td>0.46</td>\n",
       "      <td>0.36</td>\n",
       "      <td>0.62</td>\n",
       "    </tr>\n",
       "    <tr>\n",
       "      <th>6</th>\n",
       "      <td>RUS Default Logistic Regression</td>\n",
       "      <td>0.64</td>\n",
       "      <td>0.47</td>\n",
       "      <td>0.37</td>\n",
       "      <td>0.63</td>\n",
       "    </tr>\n",
       "    <tr>\n",
       "      <th>8</th>\n",
       "      <td>Scaled GridSearch Log Reg Binary</td>\n",
       "      <td>0.64</td>\n",
       "      <td>0.46</td>\n",
       "      <td>0.36</td>\n",
       "      <td>0.62</td>\n",
       "    </tr>\n",
       "    <tr>\n",
       "      <th>5</th>\n",
       "      <td>SMOTE Default Logistic Regression</td>\n",
       "      <td>0.27</td>\n",
       "      <td>0.34</td>\n",
       "      <td>0.46</td>\n",
       "      <td>0.74</td>\n",
       "    </tr>\n",
       "  </tbody>\n",
       "</table>\n",
       "</div>"
      ],
      "text/plain": [
       "                               Model Recall    F1 Precision Accuracy\n",
       "7    ROS Default Logistic Regression   0.65  0.47      0.37     0.63\n",
       "9       Default Random Forest Binary   0.65  0.46      0.36     0.62\n",
       "6    RUS Default Logistic Regression   0.64  0.47      0.37     0.63\n",
       "8   Scaled GridSearch Log Reg Binary   0.64  0.46      0.36     0.62\n",
       "5  SMOTE Default Logistic Regression   0.27  0.34      0.46     0.74"
      ]
     },
     "execution_count": 46,
     "metadata": {},
     "output_type": "execute_result"
    }
   ],
   "source": [
    "# add_to_master(model_description, y_true, y_predicted, binary=True)\n",
    "add_to_master('Default Random Forest Binary', y_test, y_pred, binary=True)\n",
    "\n",
    "master_scores.sort_values('Recall', ascending=False).head()\n"
   ]
  },
  {
   "cell_type": "markdown",
   "id": "c6889650",
   "metadata": {},
   "source": [
    "Running Best Scores (Log Binary Default:`log`):  \n",
    "Accuracy: 0.7583382094792276  \n",
    "Precision: 0.6607142857142857  \n",
    "Recall: 0.08584686774941995  \n",
    "F1-score: 0.1519507186858316  "
   ]
  },
  {
   "cell_type": "markdown",
   "id": "409097eb",
   "metadata": {},
   "source": [
    "### 2.1.1 Binary RF Interpretations:\n",
    "Fairly comparable to`log`. Recall is improved (at the sake of precision) but I'm more concerned about recall. A good chunk (~30) more of false positives, which is better than just automatically classifying everyone as a non-sucker. However, not a huge shift in true positives (+5)(yet a shift in the right direcction nonetheless). It'll be interesting to see how the multiclass performs. "
   ]
  },
  {
   "cell_type": "markdown",
   "id": "7e912ccc",
   "metadata": {},
   "source": [
    "### 2.2 Multiclass:"
   ]
  },
  {
   "cell_type": "code",
   "execution_count": 47,
   "id": "88127220",
   "metadata": {},
   "outputs": [],
   "source": [
    "# multiclass run\n",
    "\n",
    "# instantiate the model\n",
    "rfs = RandomForestClassifier()\n",
    "\n",
    "# fit the model\n",
    "rfs.fit(X_trains, y_trains)\n",
    "\n",
    "# predicted and predicted probs\n",
    "y_preds = rfs.predict(X_tests)\n",
    "y_pred_probss = rfs.predict_proba(X_tests)[:,1]"
   ]
  },
  {
   "cell_type": "code",
   "execution_count": 48,
   "id": "e411ce99",
   "metadata": {},
   "outputs": [
    {
     "data": {
      "image/png": "[encoded data removed]",
      "text/plain": [
       "<Figure size 432x288 with 2 Axes>"
      ]
     },
     "metadata": {
      "needs_background": "light"
     },
     "output_type": "display_data"
    }
   ],
   "source": [
    "# Confusion Matrix\n",
    "cms = confusion_matrix(y_tests, y_preds)\n",
    "disps = ConfusionMatrixDisplay(confusion_matrix=cms)\n",
    "disps.plot()\n",
    "plt.show();"
   ]
  },
  {
   "cell_type": "code",
   "execution_count": 49,
   "id": "271a4aad",
   "metadata": {},
   "outputs": [
    {
     "data": {
      "text/html": [
       "<div>\n",
       "<style scoped>\n",
       "    .dataframe tbody tr th:only-of-type {\n",
       "        vertical-align: middle;\n",
       "    }\n",
       "\n",
       "    .dataframe tbody tr th {\n",
       "        vertical-align: top;\n",
       "    }\n",
       "\n",
       "    .dataframe thead th {\n",
       "        text-align: right;\n",
       "    }\n",
       "</style>\n",
       "<table border=\"1\" class=\"dataframe\">\n",
       "  <thead>\n",
       "    <tr style=\"text-align: right;\">\n",
       "      <th></th>\n",
       "      <th>Model</th>\n",
       "      <th>Recall</th>\n",
       "      <th>F1</th>\n",
       "      <th>Precision</th>\n",
       "      <th>Accuracy</th>\n",
       "    </tr>\n",
       "  </thead>\n",
       "  <tbody>\n",
       "    <tr>\n",
       "      <th>7</th>\n",
       "      <td>ROS Default Logistic Regression</td>\n",
       "      <td>0.65</td>\n",
       "      <td>0.47</td>\n",
       "      <td>0.37</td>\n",
       "      <td>0.63</td>\n",
       "    </tr>\n",
       "    <tr>\n",
       "      <th>9</th>\n",
       "      <td>Default Random Forest Binary</td>\n",
       "      <td>0.65</td>\n",
       "      <td>0.46</td>\n",
       "      <td>0.36</td>\n",
       "      <td>0.62</td>\n",
       "    </tr>\n",
       "    <tr>\n",
       "      <th>6</th>\n",
       "      <td>RUS Default Logistic Regression</td>\n",
       "      <td>0.64</td>\n",
       "      <td>0.47</td>\n",
       "      <td>0.37</td>\n",
       "      <td>0.63</td>\n",
       "    </tr>\n",
       "    <tr>\n",
       "      <th>8</th>\n",
       "      <td>Scaled GridSearch Log Reg Binary</td>\n",
       "      <td>0.64</td>\n",
       "      <td>0.46</td>\n",
       "      <td>0.36</td>\n",
       "      <td>0.62</td>\n",
       "    </tr>\n",
       "    <tr>\n",
       "      <th>5</th>\n",
       "      <td>SMOTE Default Logistic Regression</td>\n",
       "      <td>0.27</td>\n",
       "      <td>0.34</td>\n",
       "      <td>0.46</td>\n",
       "      <td>0.74</td>\n",
       "    </tr>\n",
       "  </tbody>\n",
       "</table>\n",
       "</div>"
      ],
      "text/plain": [
       "                               Model Recall    F1 Precision Accuracy\n",
       "7    ROS Default Logistic Regression   0.65  0.47      0.37     0.63\n",
       "9       Default Random Forest Binary   0.65  0.46      0.36     0.62\n",
       "6    RUS Default Logistic Regression   0.64  0.47      0.37     0.63\n",
       "8   Scaled GridSearch Log Reg Binary   0.64  0.46      0.36     0.62\n",
       "5  SMOTE Default Logistic Regression   0.27  0.34      0.46     0.74"
      ]
     },
     "execution_count": 49,
     "metadata": {},
     "output_type": "execute_result"
    }
   ],
   "source": [
    "# add_to_master(model_description, y_true, y_predicted, binary=True)\n",
    "add_to_master('Default Random Forest Multiclass', y_tests, y_preds, binary=False)\n",
    "\n",
    "master_scores.sort_values('Recall', ascending=False).head()"
   ]
  },
  {
   "cell_type": "markdown",
   "id": "eeadf44b",
   "metadata": {},
   "source": [
    "### 2.2.1 RF Multiclass Interpretations:\n",
    "I actually think this model isn't *awful* in the multiclass context, but it's really not great. "
   ]
  },
  {
   "cell_type": "markdown",
   "id": "97db1e7c",
   "metadata": {},
   "source": [
    "## 2.3 Random Forest Hyperparameter Tuning:\n",
    "On the binary model, of course. "
   ]
  },
  {
   "cell_type": "code",
   "execution_count": 50,
   "id": "7f30b024",
   "metadata": {},
   "outputs": [
    {
     "name": "stdout",
     "output_type": "stream",
     "text": [
      "Best Parameters: {'class_weight': 'balanced', 'max_features': 'auto', 'min_samples_split': 10, 'n_estimators': 100, 'random_state': 42}\n",
      "Best Score:  0.6312053593419044\n",
      "Elapsed Time: 118.68 seconds\n"
     ]
    }
   ],
   "source": [
    "start_time = time.time()\n",
    "\n",
    "param_grid = {\n",
    "    'n_estimators': [100, 200, 300],\n",
    "    'min_samples_split': [2, 5, 10],\n",
    "    'random_state': [42],\n",
    "    'max_features': ['auto', 'log2', None],\n",
    "    'class_weight': [None, 'balanced']    \n",
    "}\n",
    "\n",
    "grid_search = GridSearchCV(rf, param_grid, cv=5, scoring='recall')\n",
    "\n",
    "grid_search.fit(X_train, y_train)\n",
    "\n",
    "end_time = time.time()\n",
    "elapsed_time = end_time - start_time\n",
    "\n",
    "# Get the best parameters and best score\n",
    "print(\"Best Parameters:\", grid_search.best_params_)\n",
    "print(\"Best Score: \", grid_search.best_score_)\n",
    "print(\"Elapsed Time: {:.2f} seconds\".format(elapsed_time))\n",
    "\n",
    "best_model = grid_search.best_estimator_\n",
    "y_pred = best_model.predict(X_test)"
   ]
  },
  {
   "cell_type": "code",
   "execution_count": 51,
   "id": "6179ec19",
   "metadata": {},
   "outputs": [
    {
     "data": {
      "image/png": "[encoded data removed]",
      "text/plain": [
       "<Figure size 432x288 with 2 Axes>"
      ]
     },
     "metadata": {
      "needs_background": "light"
     },
     "output_type": "display_data"
    }
   ],
   "source": [
    "cm = confusion_matrix(y_test, y_pred, labels=best_model.classes_)\n",
    "disp = ConfusionMatrixDisplay(confusion_matrix=cm, display_labels=best_model.classes_)\n",
    "disp.plot()\n",
    "plt.show();"
   ]
  },
  {
   "cell_type": "code",
   "execution_count": 52,
   "id": "ec485dfe",
   "metadata": {},
   "outputs": [
    {
     "data": {
      "text/html": [
       "<div>\n",
       "<style scoped>\n",
       "    .dataframe tbody tr th:only-of-type {\n",
       "        vertical-align: middle;\n",
       "    }\n",
       "\n",
       "    .dataframe tbody tr th {\n",
       "        vertical-align: top;\n",
       "    }\n",
       "\n",
       "    .dataframe thead th {\n",
       "        text-align: right;\n",
       "    }\n",
       "</style>\n",
       "<table border=\"1\" class=\"dataframe\">\n",
       "  <thead>\n",
       "    <tr style=\"text-align: right;\">\n",
       "      <th></th>\n",
       "      <th>Model</th>\n",
       "      <th>Recall</th>\n",
       "      <th>F1</th>\n",
       "      <th>Precision</th>\n",
       "      <th>Accuracy</th>\n",
       "    </tr>\n",
       "  </thead>\n",
       "  <tbody>\n",
       "    <tr>\n",
       "      <th>11</th>\n",
       "      <td>Tuned Random Forest Binary</td>\n",
       "      <td>0.66</td>\n",
       "      <td>0.48</td>\n",
       "      <td>0.37</td>\n",
       "      <td>0.63</td>\n",
       "    </tr>\n",
       "    <tr>\n",
       "      <th>7</th>\n",
       "      <td>ROS Default Logistic Regression</td>\n",
       "      <td>0.65</td>\n",
       "      <td>0.47</td>\n",
       "      <td>0.37</td>\n",
       "      <td>0.63</td>\n",
       "    </tr>\n",
       "    <tr>\n",
       "      <th>9</th>\n",
       "      <td>Default Random Forest Binary</td>\n",
       "      <td>0.65</td>\n",
       "      <td>0.46</td>\n",
       "      <td>0.36</td>\n",
       "      <td>0.62</td>\n",
       "    </tr>\n",
       "    <tr>\n",
       "      <th>6</th>\n",
       "      <td>RUS Default Logistic Regression</td>\n",
       "      <td>0.64</td>\n",
       "      <td>0.47</td>\n",
       "      <td>0.37</td>\n",
       "      <td>0.63</td>\n",
       "    </tr>\n",
       "    <tr>\n",
       "      <th>8</th>\n",
       "      <td>Scaled GridSearch Log Reg Binary</td>\n",
       "      <td>0.64</td>\n",
       "      <td>0.46</td>\n",
       "      <td>0.36</td>\n",
       "      <td>0.62</td>\n",
       "    </tr>\n",
       "  </tbody>\n",
       "</table>\n",
       "</div>"
      ],
      "text/plain": [
       "                               Model Recall    F1 Precision Accuracy\n",
       "11        Tuned Random Forest Binary   0.66  0.48      0.37     0.63\n",
       "7    ROS Default Logistic Regression   0.65  0.47      0.37     0.63\n",
       "9       Default Random Forest Binary   0.65  0.46      0.36     0.62\n",
       "6    RUS Default Logistic Regression   0.64  0.47      0.37     0.63\n",
       "8   Scaled GridSearch Log Reg Binary   0.64  0.46      0.36     0.62"
      ]
     },
     "execution_count": 52,
     "metadata": {},
     "output_type": "execute_result"
    }
   ],
   "source": [
    "# add_to_master(model_description, y_true, y_predicted)\n",
    "add_to_master('Tuned Random Forest Binary', y_test, y_pred, binary=True)\n",
    "\n",
    "master_scores.sort_values('Recall', ascending=False).head()"
   ]
  },
  {
   "cell_type": "markdown",
   "id": "cb341549",
   "metadata": {},
   "source": [
    "## KNN:\n",
    "KNN is a distance-based algorithm, so I would assume scaling would increase performance. I still don't think I have enough data for multiclass prediction."
   ]
  },
  {
   "cell_type": "code",
   "execution_count": 53,
   "id": "913d2269",
   "metadata": {},
   "outputs": [],
   "source": [
    "from sklearn.neighbors import KNeighborsClassifier"
   ]
  },
  {
   "cell_type": "markdown",
   "id": "54aecb46",
   "metadata": {},
   "source": [
    "### Binary"
   ]
  },
  {
   "cell_type": "code",
   "execution_count": 54,
   "id": "2b7e5a05",
   "metadata": {},
   "outputs": [
    {
     "name": "stdout",
     "output_type": "stream",
     "text": [
      "Best Parameters: {'n_neighbors': 9}\n"
     ]
    }
   ],
   "source": [
    "# KNN - BINARY\n",
    "\n",
    "# instantiate model\n",
    "knn = KNeighborsClassifier()\n",
    "\n",
    "# I'm not sure what a good value for k would be, so let's start off with parameter tuning this time \n",
    "param_grid = {'n_neighbors':[3, 5, 7, 9]}\n",
    "grid_search = GridSearchCV(knn, param_grid, cv=5, scoring='recall')\n",
    "\n",
    "# Fit it\n",
    "grid_search.fit(X_train, y_train)\n",
    "\n",
    "best_params = grid_search.best_params_\n",
    "best_score = grid_search.best_score_\n",
    "print(\"Best Parameters:\", best_params)\n",
    "\n",
    "# Predicted and predicted probabilities\n",
    "best_model = grid_search.best_estimator_\n",
    "y_pred = best_model.predict(X_test)\n",
    "y_pred_probs = best_model.predict_proba(X_test)[:,1]"
   ]
  },
  {
   "cell_type": "code",
   "execution_count": 55,
   "id": "0d56a641",
   "metadata": {},
   "outputs": [
    {
     "data": {
      "image/png": "[encoded data removed]",
      "text/plain": [
       "<Figure size 432x288 with 1 Axes>"
      ]
     },
     "metadata": {
      "needs_background": "light"
     },
     "output_type": "display_data"
    }
   ],
   "source": [
    "# ROC \n",
    "plt.plot([0,1], [0,1], 'k--')\n",
    "plt.plot(fpr, tpr)\n",
    "plt.text(0.5, 0.3, f'AUC = {roc_auc_score(y_test, y_pred_probs):.4f}', fontsize=12, ha='center')\n",
    "plt.xlabel(\"False Positive Rate\")\n",
    "plt.ylabel(\"True Positive Rate\")\n",
    "plt.title(\"KNN ROC Curve - Binary\")\n",
    "plt.show();"
   ]
  },
  {
   "cell_type": "code",
   "execution_count": 56,
   "id": "36e4ee9a",
   "metadata": {},
   "outputs": [
    {
     "data": {
      "image/png": "[encoded data removed]",
      "text/plain": [
       "<Figure size 432x288 with 2 Axes>"
      ]
     },
     "metadata": {
      "needs_background": "light"
     },
     "output_type": "display_data"
    }
   ],
   "source": [
    "# Confusion Matrix\n",
    "cm = confusion_matrix(y_test, y_pred, labels=log.classes_)\n",
    "disp = ConfusionMatrixDisplay(confusion_matrix=cm, display_labels=log.classes_)\n",
    "disp.plot()\n",
    "plt.show();"
   ]
  },
  {
   "cell_type": "code",
   "execution_count": 57,
   "id": "8f0da009",
   "metadata": {},
   "outputs": [
    {
     "data": {
      "text/html": [
       "<div>\n",
       "<style scoped>\n",
       "    .dataframe tbody tr th:only-of-type {\n",
       "        vertical-align: middle;\n",
       "    }\n",
       "\n",
       "    .dataframe tbody tr th {\n",
       "        vertical-align: top;\n",
       "    }\n",
       "\n",
       "    .dataframe thead th {\n",
       "        text-align: right;\n",
       "    }\n",
       "</style>\n",
       "<table border=\"1\" class=\"dataframe\">\n",
       "  <thead>\n",
       "    <tr style=\"text-align: right;\">\n",
       "      <th></th>\n",
       "      <th>Model</th>\n",
       "      <th>Recall</th>\n",
       "      <th>F1</th>\n",
       "      <th>Precision</th>\n",
       "      <th>Accuracy</th>\n",
       "    </tr>\n",
       "  </thead>\n",
       "  <tbody>\n",
       "    <tr>\n",
       "      <th>11</th>\n",
       "      <td>Tuned Random Forest Binary</td>\n",
       "      <td>0.66</td>\n",
       "      <td>0.48</td>\n",
       "      <td>0.37</td>\n",
       "      <td>0.63</td>\n",
       "    </tr>\n",
       "    <tr>\n",
       "      <th>7</th>\n",
       "      <td>ROS Default Logistic Regression</td>\n",
       "      <td>0.65</td>\n",
       "      <td>0.47</td>\n",
       "      <td>0.37</td>\n",
       "      <td>0.63</td>\n",
       "    </tr>\n",
       "    <tr>\n",
       "      <th>9</th>\n",
       "      <td>Default Random Forest Binary</td>\n",
       "      <td>0.65</td>\n",
       "      <td>0.46</td>\n",
       "      <td>0.36</td>\n",
       "      <td>0.62</td>\n",
       "    </tr>\n",
       "    <tr>\n",
       "      <th>6</th>\n",
       "      <td>RUS Default Logistic Regression</td>\n",
       "      <td>0.64</td>\n",
       "      <td>0.47</td>\n",
       "      <td>0.37</td>\n",
       "      <td>0.63</td>\n",
       "    </tr>\n",
       "    <tr>\n",
       "      <th>8</th>\n",
       "      <td>Scaled GridSearch Log Reg Binary</td>\n",
       "      <td>0.64</td>\n",
       "      <td>0.46</td>\n",
       "      <td>0.36</td>\n",
       "      <td>0.62</td>\n",
       "    </tr>\n",
       "  </tbody>\n",
       "</table>\n",
       "</div>"
      ],
      "text/plain": [
       "                               Model Recall    F1 Precision Accuracy\n",
       "11        Tuned Random Forest Binary   0.66  0.48      0.37     0.63\n",
       "7    ROS Default Logistic Regression   0.65  0.47      0.37     0.63\n",
       "9       Default Random Forest Binary   0.65  0.46      0.36     0.62\n",
       "6    RUS Default Logistic Regression   0.64  0.47      0.37     0.63\n",
       "8   Scaled GridSearch Log Reg Binary   0.64  0.46      0.36     0.62"
      ]
     },
     "execution_count": 57,
     "metadata": {},
     "output_type": "execute_result"
    }
   ],
   "source": [
    "# add_to_master(model_description, y_true, y_predicted)\n",
    "add_to_master('Binary KNN k=3', y_test, y_pred, binary=True)\n",
    "\n",
    "master_scores.sort_values('Recall', ascending=False).head()"
   ]
  },
  {
   "cell_type": "markdown",
   "id": "28c98502",
   "metadata": {},
   "source": [
    "### Binary KNN - Scaled"
   ]
  },
  {
   "cell_type": "code",
   "execution_count": 58,
   "id": "9d5d4c82",
   "metadata": {},
   "outputs": [],
   "source": [
    "# scale data\n",
    "scaler = MinMaxScaler(feature_range=(0,5))\n",
    "\n",
    "scaler.fit(X_train)\n",
    "X_train_scaled = scaler.transform(X_train)\n",
    "X_test_scaled = scaler.transform(X_test)"
   ]
  },
  {
   "cell_type": "code",
   "execution_count": 59,
   "id": "6dba4fb8",
   "metadata": {},
   "outputs": [
    {
     "name": "stdout",
     "output_type": "stream",
     "text": [
      "Best Parameters: {'n_neighbors': 9}\n"
     ]
    }
   ],
   "source": [
    "# instantiate model\n",
    "knn_scaled = KNeighborsClassifier()\n",
    "\n",
    "# instantiate grid search\n",
    "param_grid = {'n_neighbors':[3, 5, 7, 9]}\n",
    "grid_search = GridSearchCV(knn_scaled, param_grid, cv=5, scoring='recall')\n",
    "\n",
    "# Fit it\n",
    "grid_search.fit(X_train_scaled, y_train)\n",
    "\n",
    "best_params = grid_search.best_params_\n",
    "best_score = grid_search.best_score_\n",
    "print(\"Best Parameters:\", best_params)\n",
    "\n",
    "# Predicted and predicted probabilities\n",
    "best_scaled = grid_search.best_estimator_\n",
    "y_pred = best_scaled.predict(X_test_scaled)\n",
    "y_pred_probs = best_scaled.predict_proba(X_test_scaled)[:,1]"
   ]
  },
  {
   "cell_type": "code",
   "execution_count": 60,
   "id": "f9f4d15e",
   "metadata": {},
   "outputs": [
    {
     "data": {
      "image/png": "[encoded data removed]",
      "text/plain": [
       "<Figure size 432x288 with 2 Axes>"
      ]
     },
     "metadata": {
      "needs_background": "light"
     },
     "output_type": "display_data"
    }
   ],
   "source": [
    "# Confusion Matrix\n",
    "cm_scaled = confusion_matrix(y_test, y_pred, labels=best_scaled.classes_)\n",
    "disp = ConfusionMatrixDisplay(confusion_matrix=cm_scaled, display_labels=best_scaled.classes_)\n",
    "disp.plot()\n",
    "plt.show();"
   ]
  },
  {
   "cell_type": "code",
   "execution_count": 61,
   "id": "dfb0bd10",
   "metadata": {},
   "outputs": [
    {
     "data": {
      "text/html": [
       "<div>\n",
       "<style scoped>\n",
       "    .dataframe tbody tr th:only-of-type {\n",
       "        vertical-align: middle;\n",
       "    }\n",
       "\n",
       "    .dataframe tbody tr th {\n",
       "        vertical-align: top;\n",
       "    }\n",
       "\n",
       "    .dataframe thead th {\n",
       "        text-align: right;\n",
       "    }\n",
       "</style>\n",
       "<table border=\"1\" class=\"dataframe\">\n",
       "  <thead>\n",
       "    <tr style=\"text-align: right;\">\n",
       "      <th></th>\n",
       "      <th>Model</th>\n",
       "      <th>Recall</th>\n",
       "      <th>F1</th>\n",
       "      <th>Precision</th>\n",
       "      <th>Accuracy</th>\n",
       "    </tr>\n",
       "  </thead>\n",
       "  <tbody>\n",
       "    <tr>\n",
       "      <th>11</th>\n",
       "      <td>Tuned Random Forest Binary</td>\n",
       "      <td>0.66</td>\n",
       "      <td>0.48</td>\n",
       "      <td>0.37</td>\n",
       "      <td>0.63</td>\n",
       "    </tr>\n",
       "    <tr>\n",
       "      <th>7</th>\n",
       "      <td>ROS Default Logistic Regression</td>\n",
       "      <td>0.65</td>\n",
       "      <td>0.47</td>\n",
       "      <td>0.37</td>\n",
       "      <td>0.63</td>\n",
       "    </tr>\n",
       "    <tr>\n",
       "      <th>9</th>\n",
       "      <td>Default Random Forest Binary</td>\n",
       "      <td>0.65</td>\n",
       "      <td>0.46</td>\n",
       "      <td>0.36</td>\n",
       "      <td>0.62</td>\n",
       "    </tr>\n",
       "    <tr>\n",
       "      <th>6</th>\n",
       "      <td>RUS Default Logistic Regression</td>\n",
       "      <td>0.64</td>\n",
       "      <td>0.47</td>\n",
       "      <td>0.37</td>\n",
       "      <td>0.63</td>\n",
       "    </tr>\n",
       "    <tr>\n",
       "      <th>8</th>\n",
       "      <td>Scaled GridSearch Log Reg Binary</td>\n",
       "      <td>0.64</td>\n",
       "      <td>0.46</td>\n",
       "      <td>0.36</td>\n",
       "      <td>0.62</td>\n",
       "    </tr>\n",
       "  </tbody>\n",
       "</table>\n",
       "</div>"
      ],
      "text/plain": [
       "                               Model Recall    F1 Precision Accuracy\n",
       "11        Tuned Random Forest Binary   0.66  0.48      0.37     0.63\n",
       "7    ROS Default Logistic Regression   0.65  0.47      0.37     0.63\n",
       "9       Default Random Forest Binary   0.65  0.46      0.36     0.62\n",
       "6    RUS Default Logistic Regression   0.64  0.47      0.37     0.63\n",
       "8   Scaled GridSearch Log Reg Binary   0.64  0.46      0.36     0.62"
      ]
     },
     "execution_count": 61,
     "metadata": {},
     "output_type": "execute_result"
    }
   ],
   "source": [
    "# add_to_master(model_description, y_true, y_predicted)\n",
    "add_to_master('Binary KNN k=3 ALL scaled', y_test, y_pred, binary=True)\n",
    "\n",
    "master_scores.sort_values('Recall', ascending=False).head()"
   ]
  },
  {
   "cell_type": "markdown",
   "id": "5cee069c",
   "metadata": {},
   "source": [
    "### Scaling just the age column:"
   ]
  },
  {
   "cell_type": "code",
   "execution_count": 62,
   "id": "58eb13ee",
   "metadata": {},
   "outputs": [],
   "source": [
    "X_age_scaled = X_train.copy()\n",
    "X_age_scaled_test = X_test.copy()\n",
    "\n",
    "scaler_age = MinMaxScaler(feature_range=(0,5))\n",
    "scaler_age.fit(X_age_scaled['Age'].values.reshape(-1,1))\n",
    "\n",
    "X_age_scaled['Age'] = scaler_age.transform(X_age_scaled['Age'].values.reshape(-1, 1))\n",
    "X_age_scaled_test['Age'] = scaler_age.transform(X_age_scaled_test['Age'].values.reshape(-1,1))"
   ]
  },
  {
   "cell_type": "code",
   "execution_count": 63,
   "id": "97838f6f",
   "metadata": {},
   "outputs": [
    {
     "data": {
      "text/html": [
       "<div>\n",
       "<style scoped>\n",
       "    .dataframe tbody tr th:only-of-type {\n",
       "        vertical-align: middle;\n",
       "    }\n",
       "\n",
       "    .dataframe tbody tr th {\n",
       "        vertical-align: top;\n",
       "    }\n",
       "\n",
       "    .dataframe thead th {\n",
       "        text-align: right;\n",
       "    }\n",
       "</style>\n",
       "<table border=\"1\" class=\"dataframe\">\n",
       "  <thead>\n",
       "    <tr style=\"text-align: right;\">\n",
       "      <th></th>\n",
       "      <th>PC1</th>\n",
       "      <th>PC2</th>\n",
       "      <th>Age</th>\n",
       "      <th>Gender</th>\n",
       "      <th>Neuter_status</th>\n",
       "      <th>Weaning_age</th>\n",
       "      <th>Outdoors</th>\n",
       "      <th>Other_cats</th>\n",
       "      <th>Activity_level</th>\n",
       "      <th>Contact_people</th>\n",
       "      <th>...</th>\n",
       "      <th>B_MCO</th>\n",
       "      <th>B_NFO</th>\n",
       "      <th>B_ORI</th>\n",
       "      <th>B_PER</th>\n",
       "      <th>B_RAG</th>\n",
       "      <th>B_RUS</th>\n",
       "      <th>B_SBI</th>\n",
       "      <th>B_SIB</th>\n",
       "      <th>B_TUV</th>\n",
       "      <th>B_other</th>\n",
       "    </tr>\n",
       "  </thead>\n",
       "  <tbody>\n",
       "    <tr>\n",
       "      <th>0</th>\n",
       "      <td>0.295128</td>\n",
       "      <td>-0.341950</td>\n",
       "      <td>1.662556</td>\n",
       "      <td>1</td>\n",
       "      <td>1</td>\n",
       "      <td>4</td>\n",
       "      <td>4</td>\n",
       "      <td>1</td>\n",
       "      <td>3</td>\n",
       "      <td>5</td>\n",
       "      <td>...</td>\n",
       "      <td>0</td>\n",
       "      <td>0</td>\n",
       "      <td>0</td>\n",
       "      <td>0</td>\n",
       "      <td>0</td>\n",
       "      <td>0</td>\n",
       "      <td>0</td>\n",
       "      <td>0</td>\n",
       "      <td>0</td>\n",
       "      <td>0</td>\n",
       "    </tr>\n",
       "    <tr>\n",
       "      <th>1</th>\n",
       "      <td>-0.072070</td>\n",
       "      <td>-0.371099</td>\n",
       "      <td>1.380579</td>\n",
       "      <td>2</td>\n",
       "      <td>1</td>\n",
       "      <td>4</td>\n",
       "      <td>3</td>\n",
       "      <td>1</td>\n",
       "      <td>4</td>\n",
       "      <td>5</td>\n",
       "      <td>...</td>\n",
       "      <td>0</td>\n",
       "      <td>0</td>\n",
       "      <td>0</td>\n",
       "      <td>0</td>\n",
       "      <td>0</td>\n",
       "      <td>0</td>\n",
       "      <td>0</td>\n",
       "      <td>0</td>\n",
       "      <td>0</td>\n",
       "      <td>0</td>\n",
       "    </tr>\n",
       "    <tr>\n",
       "      <th>2</th>\n",
       "      <td>-0.806467</td>\n",
       "      <td>-0.429398</td>\n",
       "      <td>1.353948</td>\n",
       "      <td>2</td>\n",
       "      <td>0</td>\n",
       "      <td>6</td>\n",
       "      <td>1</td>\n",
       "      <td>1</td>\n",
       "      <td>3</td>\n",
       "      <td>4</td>\n",
       "      <td>...</td>\n",
       "      <td>0</td>\n",
       "      <td>0</td>\n",
       "      <td>0</td>\n",
       "      <td>0</td>\n",
       "      <td>0</td>\n",
       "      <td>0</td>\n",
       "      <td>0</td>\n",
       "      <td>0</td>\n",
       "      <td>0</td>\n",
       "      <td>0</td>\n",
       "    </tr>\n",
       "    <tr>\n",
       "      <th>3</th>\n",
       "      <td>2.583551</td>\n",
       "      <td>0.224124</td>\n",
       "      <td>0.247546</td>\n",
       "      <td>1</td>\n",
       "      <td>1</td>\n",
       "      <td>6</td>\n",
       "      <td>5</td>\n",
       "      <td>0</td>\n",
       "      <td>5</td>\n",
       "      <td>4</td>\n",
       "      <td>...</td>\n",
       "      <td>0</td>\n",
       "      <td>0</td>\n",
       "      <td>0</td>\n",
       "      <td>0</td>\n",
       "      <td>0</td>\n",
       "      <td>0</td>\n",
       "      <td>0</td>\n",
       "      <td>0</td>\n",
       "      <td>0</td>\n",
       "      <td>0</td>\n",
       "    </tr>\n",
       "    <tr>\n",
       "      <th>4</th>\n",
       "      <td>0.662326</td>\n",
       "      <td>-0.312800</td>\n",
       "      <td>1.322765</td>\n",
       "      <td>2</td>\n",
       "      <td>1</td>\n",
       "      <td>5</td>\n",
       "      <td>5</td>\n",
       "      <td>1</td>\n",
       "      <td>4</td>\n",
       "      <td>4</td>\n",
       "      <td>...</td>\n",
       "      <td>0</td>\n",
       "      <td>0</td>\n",
       "      <td>0</td>\n",
       "      <td>0</td>\n",
       "      <td>0</td>\n",
       "      <td>0</td>\n",
       "      <td>0</td>\n",
       "      <td>1</td>\n",
       "      <td>0</td>\n",
       "      <td>0</td>\n",
       "    </tr>\n",
       "  </tbody>\n",
       "</table>\n",
       "<p>5 rows × 35 columns</p>\n",
       "</div>"
      ],
      "text/plain": [
       "        PC1       PC2       Age  Gender  Neuter_status  Weaning_age  Outdoors  \\\n",
       "0  0.295128 -0.341950  1.662556       1              1            4         4   \n",
       "1 -0.072070 -0.371099  1.380579       2              1            4         3   \n",
       "2 -0.806467 -0.429398  1.353948       2              0            6         1   \n",
       "3  2.583551  0.224124  0.247546       1              1            6         5   \n",
       "4  0.662326 -0.312800  1.322765       2              1            5         5   \n",
       "\n",
       "   Other_cats  Activity_level  Contact_people  ...  B_MCO  B_NFO  B_ORI  \\\n",
       "0           1               3               5  ...      0      0      0   \n",
       "1           1               4               5  ...      0      0      0   \n",
       "2           1               3               4  ...      0      0      0   \n",
       "3           0               5               4  ...      0      0      0   \n",
       "4           1               4               4  ...      0      0      0   \n",
       "\n",
       "   B_PER  B_RAG  B_RUS  B_SBI  B_SIB  B_TUV  B_other  \n",
       "0      0      0      0      0      0      0        0  \n",
       "1      0      0      0      0      0      0        0  \n",
       "2      0      0      0      0      0      0        0  \n",
       "3      0      0      0      0      0      0        0  \n",
       "4      0      0      0      0      1      0        0  \n",
       "\n",
       "[5 rows x 35 columns]"
      ]
     },
     "execution_count": 63,
     "metadata": {},
     "output_type": "execute_result"
    }
   ],
   "source": [
    "X_age_scaled.head()"
   ]
  },
  {
   "cell_type": "code",
   "execution_count": 64,
   "id": "6d0d16da",
   "metadata": {},
   "outputs": [
    {
     "name": "stdout",
     "output_type": "stream",
     "text": [
      "Best Parameters: {'n_neighbors': 9}\n"
     ]
    }
   ],
   "source": [
    "# instantiate model\n",
    "knn_scaled = KNeighborsClassifier()\n",
    "\n",
    "# instantiate grid search\n",
    "param_grid = {'n_neighbors':[3, 5, 7, 9]}\n",
    "grid_search = GridSearchCV(knn_scaled, param_grid, cv=5, scoring='recall')\n",
    "\n",
    "# Fit it\n",
    "grid_search.fit(X_age_scaled, y_train)\n",
    "\n",
    "best_params = grid_search.best_params_\n",
    "best_score = grid_search.best_score_\n",
    "print(\"Best Parameters:\", best_params)\n",
    "\n",
    "# Predicted and predicted probabilities\n",
    "best_scaled = grid_search.best_estimator_\n",
    "y_pred = best_scaled.predict(X_age_scaled_test)\n",
    "y_pred_probs = best_scaled.predict_proba(X_age_scaled_test)[:,1]"
   ]
  },
  {
   "cell_type": "code",
   "execution_count": 65,
   "id": "98bc6d88",
   "metadata": {},
   "outputs": [
    {
     "data": {
      "image/png": "[encoded data removed]",
      "text/plain": [
       "<Figure size 432x288 with 2 Axes>"
      ]
     },
     "metadata": {
      "needs_background": "light"
     },
     "output_type": "display_data"
    }
   ],
   "source": [
    "# Confusion Matrix\n",
    "cm_scaled = confusion_matrix(y_test, y_pred, labels=best_scaled.classes_)\n",
    "disp = ConfusionMatrixDisplay(confusion_matrix=cm_scaled, display_labels=best_scaled.classes_)\n",
    "disp.plot()\n",
    "plt.show();"
   ]
  },
  {
   "cell_type": "code",
   "execution_count": 66,
   "id": "052f7bd9",
   "metadata": {},
   "outputs": [
    {
     "data": {
      "text/html": [
       "<div>\n",
       "<style scoped>\n",
       "    .dataframe tbody tr th:only-of-type {\n",
       "        vertical-align: middle;\n",
       "    }\n",
       "\n",
       "    .dataframe tbody tr th {\n",
       "        vertical-align: top;\n",
       "    }\n",
       "\n",
       "    .dataframe thead th {\n",
       "        text-align: right;\n",
       "    }\n",
       "</style>\n",
       "<table border=\"1\" class=\"dataframe\">\n",
       "  <thead>\n",
       "    <tr style=\"text-align: right;\">\n",
       "      <th></th>\n",
       "      <th>Model</th>\n",
       "      <th>Recall</th>\n",
       "      <th>F1</th>\n",
       "      <th>Precision</th>\n",
       "      <th>Accuracy</th>\n",
       "    </tr>\n",
       "  </thead>\n",
       "  <tbody>\n",
       "    <tr>\n",
       "      <th>11</th>\n",
       "      <td>Tuned Random Forest Binary</td>\n",
       "      <td>0.66</td>\n",
       "      <td>0.48</td>\n",
       "      <td>0.37</td>\n",
       "      <td>0.63</td>\n",
       "    </tr>\n",
       "    <tr>\n",
       "      <th>7</th>\n",
       "      <td>ROS Default Logistic Regression</td>\n",
       "      <td>0.65</td>\n",
       "      <td>0.47</td>\n",
       "      <td>0.37</td>\n",
       "      <td>0.63</td>\n",
       "    </tr>\n",
       "    <tr>\n",
       "      <th>9</th>\n",
       "      <td>Default Random Forest Binary</td>\n",
       "      <td>0.65</td>\n",
       "      <td>0.46</td>\n",
       "      <td>0.36</td>\n",
       "      <td>0.62</td>\n",
       "    </tr>\n",
       "    <tr>\n",
       "      <th>6</th>\n",
       "      <td>RUS Default Logistic Regression</td>\n",
       "      <td>0.64</td>\n",
       "      <td>0.47</td>\n",
       "      <td>0.37</td>\n",
       "      <td>0.63</td>\n",
       "    </tr>\n",
       "    <tr>\n",
       "      <th>8</th>\n",
       "      <td>Scaled GridSearch Log Reg Binary</td>\n",
       "      <td>0.64</td>\n",
       "      <td>0.46</td>\n",
       "      <td>0.36</td>\n",
       "      <td>0.62</td>\n",
       "    </tr>\n",
       "  </tbody>\n",
       "</table>\n",
       "</div>"
      ],
      "text/plain": [
       "                               Model Recall    F1 Precision Accuracy\n",
       "11        Tuned Random Forest Binary   0.66  0.48      0.37     0.63\n",
       "7    ROS Default Logistic Regression   0.65  0.47      0.37     0.63\n",
       "9       Default Random Forest Binary   0.65  0.46      0.36     0.62\n",
       "6    RUS Default Logistic Regression   0.64  0.47      0.37     0.63\n",
       "8   Scaled GridSearch Log Reg Binary   0.64  0.46      0.36     0.62"
      ]
     },
     "execution_count": 66,
     "metadata": {},
     "output_type": "execute_result"
    }
   ],
   "source": [
    "# add_to_master(model_description, y_true, y_predicted)\n",
    "add_to_master('Binary KNN k=3 AGE Scaled', y_test, y_pred, binary=True)\n",
    "\n",
    "master_scores.sort_values('Recall', ascending=False).head()"
   ]
  },
  {
   "cell_type": "code",
   "execution_count": 67,
   "id": "e4d290d4",
   "metadata": {},
   "outputs": [
    {
     "data": {
      "text/html": [
       "<div>\n",
       "<style scoped>\n",
       "    .dataframe tbody tr th:only-of-type {\n",
       "        vertical-align: middle;\n",
       "    }\n",
       "\n",
       "    .dataframe tbody tr th {\n",
       "        vertical-align: top;\n",
       "    }\n",
       "\n",
       "    .dataframe thead th {\n",
       "        text-align: right;\n",
       "    }\n",
       "</style>\n",
       "<table border=\"1\" class=\"dataframe\">\n",
       "  <thead>\n",
       "    <tr style=\"text-align: right;\">\n",
       "      <th></th>\n",
       "      <th>Model</th>\n",
       "      <th>Recall</th>\n",
       "      <th>F1</th>\n",
       "      <th>Precision</th>\n",
       "      <th>Accuracy</th>\n",
       "    </tr>\n",
       "  </thead>\n",
       "  <tbody>\n",
       "    <tr>\n",
       "      <th>11</th>\n",
       "      <td>Tuned Random Forest Binary</td>\n",
       "      <td>0.66</td>\n",
       "      <td>0.48</td>\n",
       "      <td>0.37</td>\n",
       "      <td>0.63</td>\n",
       "    </tr>\n",
       "    <tr>\n",
       "      <th>7</th>\n",
       "      <td>ROS Default Logistic Regression</td>\n",
       "      <td>0.65</td>\n",
       "      <td>0.47</td>\n",
       "      <td>0.37</td>\n",
       "      <td>0.63</td>\n",
       "    </tr>\n",
       "    <tr>\n",
       "      <th>9</th>\n",
       "      <td>Default Random Forest Binary</td>\n",
       "      <td>0.65</td>\n",
       "      <td>0.46</td>\n",
       "      <td>0.36</td>\n",
       "      <td>0.62</td>\n",
       "    </tr>\n",
       "    <tr>\n",
       "      <th>6</th>\n",
       "      <td>RUS Default Logistic Regression</td>\n",
       "      <td>0.64</td>\n",
       "      <td>0.47</td>\n",
       "      <td>0.37</td>\n",
       "      <td>0.63</td>\n",
       "    </tr>\n",
       "    <tr>\n",
       "      <th>8</th>\n",
       "      <td>Scaled GridSearch Log Reg Binary</td>\n",
       "      <td>0.64</td>\n",
       "      <td>0.46</td>\n",
       "      <td>0.36</td>\n",
       "      <td>0.62</td>\n",
       "    </tr>\n",
       "    <tr>\n",
       "      <th>12</th>\n",
       "      <td>Binary KNN k=3</td>\n",
       "      <td>0.61</td>\n",
       "      <td>0.44</td>\n",
       "      <td>0.34</td>\n",
       "      <td>0.6</td>\n",
       "    </tr>\n",
       "    <tr>\n",
       "      <th>13</th>\n",
       "      <td>Binary KNN k=3 ALL scaled</td>\n",
       "      <td>0.59</td>\n",
       "      <td>0.41</td>\n",
       "      <td>0.31</td>\n",
       "      <td>0.57</td>\n",
       "    </tr>\n",
       "    <tr>\n",
       "      <th>14</th>\n",
       "      <td>Binary KNN k=3 AGE Scaled</td>\n",
       "      <td>0.58</td>\n",
       "      <td>0.41</td>\n",
       "      <td>0.32</td>\n",
       "      <td>0.59</td>\n",
       "    </tr>\n",
       "    <tr>\n",
       "      <th>5</th>\n",
       "      <td>SMOTE Default Logistic Regression</td>\n",
       "      <td>0.27</td>\n",
       "      <td>0.34</td>\n",
       "      <td>0.46</td>\n",
       "      <td>0.74</td>\n",
       "    </tr>\n",
       "    <tr>\n",
       "      <th>10</th>\n",
       "      <td>Default Random Forest Multiclass</td>\n",
       "      <td>0.27</td>\n",
       "      <td>0.11</td>\n",
       "      <td>0.15</td>\n",
       "      <td>0.19</td>\n",
       "    </tr>\n",
       "  </tbody>\n",
       "</table>\n",
       "</div>"
      ],
      "text/plain": [
       "                                Model Recall    F1 Precision Accuracy\n",
       "11         Tuned Random Forest Binary   0.66  0.48      0.37     0.63\n",
       "7     ROS Default Logistic Regression   0.65  0.47      0.37     0.63\n",
       "9        Default Random Forest Binary   0.65  0.46      0.36     0.62\n",
       "6     RUS Default Logistic Regression   0.64  0.47      0.37     0.63\n",
       "8    Scaled GridSearch Log Reg Binary   0.64  0.46      0.36     0.62\n",
       "12                     Binary KNN k=3   0.61  0.44      0.34      0.6\n",
       "13          Binary KNN k=3 ALL scaled   0.59  0.41      0.31     0.57\n",
       "14          Binary KNN k=3 AGE Scaled   0.58  0.41      0.32     0.59\n",
       "5   SMOTE Default Logistic Regression   0.27  0.34      0.46     0.74\n",
       "10   Default Random Forest Multiclass   0.27  0.11      0.15     0.19"
      ]
     },
     "execution_count": 67,
     "metadata": {},
     "output_type": "execute_result"
    }
   ],
   "source": [
    "master_scores.sort_values('Recall', ascending=False).head(10)"
   ]
  },
  {
   "cell_type": "markdown",
   "id": "cc9e8053",
   "metadata": {},
   "source": [
    "### Multiclass"
   ]
  },
  {
   "cell_type": "code",
   "execution_count": 68,
   "id": "ecff3966",
   "metadata": {},
   "outputs": [],
   "source": [
    "# multiclass KNN \n",
    "X_age_scaled = X_trains.copy()\n",
    "X_age_scaled_tests = X_tests.copy()\n",
    "\n",
    "scaler_age = MinMaxScaler(feature_range=(0,5))\n",
    "scaler_age.fit(X_age_scaled['Age'].values.reshape(-1,1))\n",
    "\n",
    "X_age_scaled['Age'] = scaler_age.transform(X_age_scaled['Age'].values.reshape(-1, 1))\n",
    "X_age_scaled_test['Age'] = scaler_age.transform(X_age_scaled_tests['Age'].values.reshape(-1,1))\n",
    "\n",
    "\n",
    "ks = [3, 5, 7]\n",
    "\n",
    "for k in ks:\n",
    "    knn_m = KNeighborsClassifier(n_neighbors=k).fit(X_trains, y_trains)\n",
    "    y_preds = knn_m.predict(X_tests)\n",
    "    # add_to_master(model_description, y_true, y_predicted)\n",
    "    add_to_master(f'Multiclass KNN k={k}', y_tests, y_preds, binary=False)"
   ]
  },
  {
   "cell_type": "code",
   "execution_count": 69,
   "id": "a11f4c0c",
   "metadata": {},
   "outputs": [
    {
     "data": {
      "text/html": [
       "<div>\n",
       "<style scoped>\n",
       "    .dataframe tbody tr th:only-of-type {\n",
       "        vertical-align: middle;\n",
       "    }\n",
       "\n",
       "    .dataframe tbody tr th {\n",
       "        vertical-align: top;\n",
       "    }\n",
       "\n",
       "    .dataframe thead th {\n",
       "        text-align: right;\n",
       "    }\n",
       "</style>\n",
       "<table border=\"1\" class=\"dataframe\">\n",
       "  <thead>\n",
       "    <tr style=\"text-align: right;\">\n",
       "      <th></th>\n",
       "      <th>Model</th>\n",
       "      <th>Recall</th>\n",
       "      <th>F1</th>\n",
       "      <th>Precision</th>\n",
       "      <th>Accuracy</th>\n",
       "    </tr>\n",
       "  </thead>\n",
       "  <tbody>\n",
       "    <tr>\n",
       "      <th>11</th>\n",
       "      <td>Tuned Random Forest Binary</td>\n",
       "      <td>0.66</td>\n",
       "      <td>0.48</td>\n",
       "      <td>0.37</td>\n",
       "      <td>0.63</td>\n",
       "    </tr>\n",
       "    <tr>\n",
       "      <th>9</th>\n",
       "      <td>Default Random Forest Binary</td>\n",
       "      <td>0.65</td>\n",
       "      <td>0.46</td>\n",
       "      <td>0.36</td>\n",
       "      <td>0.62</td>\n",
       "    </tr>\n",
       "    <tr>\n",
       "      <th>7</th>\n",
       "      <td>ROS Default Logistic Regression</td>\n",
       "      <td>0.65</td>\n",
       "      <td>0.47</td>\n",
       "      <td>0.37</td>\n",
       "      <td>0.63</td>\n",
       "    </tr>\n",
       "    <tr>\n",
       "      <th>6</th>\n",
       "      <td>RUS Default Logistic Regression</td>\n",
       "      <td>0.64</td>\n",
       "      <td>0.47</td>\n",
       "      <td>0.37</td>\n",
       "      <td>0.63</td>\n",
       "    </tr>\n",
       "    <tr>\n",
       "      <th>8</th>\n",
       "      <td>Scaled GridSearch Log Reg Binary</td>\n",
       "      <td>0.64</td>\n",
       "      <td>0.46</td>\n",
       "      <td>0.36</td>\n",
       "      <td>0.62</td>\n",
       "    </tr>\n",
       "    <tr>\n",
       "      <th>12</th>\n",
       "      <td>Binary KNN k=3</td>\n",
       "      <td>0.61</td>\n",
       "      <td>0.44</td>\n",
       "      <td>0.34</td>\n",
       "      <td>0.6</td>\n",
       "    </tr>\n",
       "    <tr>\n",
       "      <th>13</th>\n",
       "      <td>Binary KNN k=3 ALL scaled</td>\n",
       "      <td>0.59</td>\n",
       "      <td>0.41</td>\n",
       "      <td>0.31</td>\n",
       "      <td>0.57</td>\n",
       "    </tr>\n",
       "    <tr>\n",
       "      <th>14</th>\n",
       "      <td>Binary KNN k=3 AGE Scaled</td>\n",
       "      <td>0.58</td>\n",
       "      <td>0.41</td>\n",
       "      <td>0.32</td>\n",
       "      <td>0.59</td>\n",
       "    </tr>\n",
       "    <tr>\n",
       "      <th>5</th>\n",
       "      <td>SMOTE Default Logistic Regression</td>\n",
       "      <td>0.27</td>\n",
       "      <td>0.34</td>\n",
       "      <td>0.46</td>\n",
       "      <td>0.74</td>\n",
       "    </tr>\n",
       "    <tr>\n",
       "      <th>10</th>\n",
       "      <td>Default Random Forest Multiclass</td>\n",
       "      <td>0.27</td>\n",
       "      <td>0.11</td>\n",
       "      <td>0.15</td>\n",
       "      <td>0.19</td>\n",
       "    </tr>\n",
       "    <tr>\n",
       "      <th>16</th>\n",
       "      <td>Multiclass KNN k=5</td>\n",
       "      <td>0.13</td>\n",
       "      <td>0.07</td>\n",
       "      <td>0.1</td>\n",
       "      <td>0.24</td>\n",
       "    </tr>\n",
       "    <tr>\n",
       "      <th>3</th>\n",
       "      <td>Default Logistic Regression Multiclass</td>\n",
       "      <td>0.13</td>\n",
       "      <td>0.11</td>\n",
       "      <td>0.11</td>\n",
       "      <td>0.68</td>\n",
       "    </tr>\n",
       "    <tr>\n",
       "      <th>4</th>\n",
       "      <td>Default Ordinal Logistic Regression</td>\n",
       "      <td>0.13</td>\n",
       "      <td>0.11</td>\n",
       "      <td>0.11</td>\n",
       "      <td>0.68</td>\n",
       "    </tr>\n",
       "    <tr>\n",
       "      <th>15</th>\n",
       "      <td>Multiclass KNN k=3</td>\n",
       "      <td>0.13</td>\n",
       "      <td>0.08</td>\n",
       "      <td>0.14</td>\n",
       "      <td>0.18</td>\n",
       "    </tr>\n",
       "    <tr>\n",
       "      <th>17</th>\n",
       "      <td>Multiclass KNN k=7</td>\n",
       "      <td>0.12</td>\n",
       "      <td>0.1</td>\n",
       "      <td>0.09</td>\n",
       "      <td>0.68</td>\n",
       "    </tr>\n",
       "    <tr>\n",
       "      <th>2</th>\n",
       "      <td>Default Logistic Regression Binary</td>\n",
       "      <td>0.09</td>\n",
       "      <td>0.15</td>\n",
       "      <td>0.66</td>\n",
       "      <td>0.76</td>\n",
       "    </tr>\n",
       "    <tr>\n",
       "      <th>0</th>\n",
       "      <td>Def LogReg Binary + PCA</td>\n",
       "      <td>0.09</td>\n",
       "      <td>0.15</td>\n",
       "      <td>0.67</td>\n",
       "      <td>0.76</td>\n",
       "    </tr>\n",
       "    <tr>\n",
       "      <th>1</th>\n",
       "      <td>Def LogReg Binary + drop behavior</td>\n",
       "      <td>0.08</td>\n",
       "      <td>0.14</td>\n",
       "      <td>0.57</td>\n",
       "      <td>0.75</td>\n",
       "    </tr>\n",
       "  </tbody>\n",
       "</table>\n",
       "</div>"
      ],
      "text/plain": [
       "                                     Model Recall    F1 Precision Accuracy\n",
       "11              Tuned Random Forest Binary   0.66  0.48      0.37     0.63\n",
       "9             Default Random Forest Binary   0.65  0.46      0.36     0.62\n",
       "7          ROS Default Logistic Regression   0.65  0.47      0.37     0.63\n",
       "6          RUS Default Logistic Regression   0.64  0.47      0.37     0.63\n",
       "8         Scaled GridSearch Log Reg Binary   0.64  0.46      0.36     0.62\n",
       "12                          Binary KNN k=3   0.61  0.44      0.34      0.6\n",
       "13               Binary KNN k=3 ALL scaled   0.59  0.41      0.31     0.57\n",
       "14               Binary KNN k=3 AGE Scaled   0.58  0.41      0.32     0.59\n",
       "5        SMOTE Default Logistic Regression   0.27  0.34      0.46     0.74\n",
       "10        Default Random Forest Multiclass   0.27  0.11      0.15     0.19\n",
       "16                      Multiclass KNN k=5   0.13  0.07       0.1     0.24\n",
       "3   Default Logistic Regression Multiclass   0.13  0.11      0.11     0.68\n",
       "4      Default Ordinal Logistic Regression   0.13  0.11      0.11     0.68\n",
       "15                      Multiclass KNN k=3   0.13  0.08      0.14     0.18\n",
       "17                      Multiclass KNN k=7   0.12   0.1      0.09     0.68\n",
       "2       Default Logistic Regression Binary   0.09  0.15      0.66     0.76\n",
       "0                  Def LogReg Binary + PCA   0.09  0.15      0.67     0.76\n",
       "1        Def LogReg Binary + drop behavior   0.08  0.14      0.57     0.75"
      ]
     },
     "execution_count": 69,
     "metadata": {},
     "output_type": "execute_result"
    }
   ],
   "source": [
    "# remember, any rf and knn are with PCA and RUS \n",
    "master_scores.sort_values('Recall', ascending=False)"
   ]
  },
  {
   "cell_type": "markdown",
   "id": "909e58f2",
   "metadata": {},
   "source": [
    "As to be expected! Multiclass is still not doing so hot with this small of a set. "
   ]
  },
  {
   "cell_type": "markdown",
   "id": "3a231f67",
   "metadata": {},
   "source": [
    "### Question: When you reassociate the original class pre-binarization, which ones is it getting wrong most often?"
   ]
  },
  {
   "cell_type": "code",
   "execution_count": 71,
   "id": "140dcaae",
   "metadata": {},
   "outputs": [],
   "source": [
    "BEST_model = RandomForestClassifier(class_weight='balanced', max_features='auto',\n",
    "                                    min_samples_split=10, n_estimators=100, random_state=42)\n",
    "BEST_model.fit(X_train, y_train)\n",
    "y_pred = BEST_model.predict(X_test)"
   ]
  },
  {
   "cell_type": "code",
   "execution_count": 72,
   "id": "a64aff61",
   "metadata": {},
   "outputs": [],
   "source": [
    "test_pred = pd.DataFrame({'True': y_test, 'Predicted': y_pred})"
   ]
  },
  {
   "cell_type": "code",
   "execution_count": 73,
   "id": "3fa4d234",
   "metadata": {},
   "outputs": [
    {
     "data": {
      "text/html": [
       "<div>\n",
       "<style scoped>\n",
       "    .dataframe tbody tr th:only-of-type {\n",
       "        vertical-align: middle;\n",
       "    }\n",
       "\n",
       "    .dataframe tbody tr th {\n",
       "        vertical-align: top;\n",
       "    }\n",
       "\n",
       "    .dataframe thead th {\n",
       "        text-align: right;\n",
       "    }\n",
       "</style>\n",
       "<table border=\"1\" class=\"dataframe\">\n",
       "  <thead>\n",
       "    <tr style=\"text-align: right;\">\n",
       "      <th></th>\n",
       "      <th>True</th>\n",
       "      <th>Predicted</th>\n",
       "    </tr>\n",
       "  </thead>\n",
       "  <tbody>\n",
       "    <tr>\n",
       "      <th>3165</th>\n",
       "      <td>1.0</td>\n",
       "      <td>1.0</td>\n",
       "    </tr>\n",
       "    <tr>\n",
       "      <th>565</th>\n",
       "      <td>1.0</td>\n",
       "      <td>1.0</td>\n",
       "    </tr>\n",
       "    <tr>\n",
       "      <th>5407</th>\n",
       "      <td>1.0</td>\n",
       "      <td>1.0</td>\n",
       "    </tr>\n",
       "    <tr>\n",
       "      <th>2445</th>\n",
       "      <td>0.0</td>\n",
       "      <td>0.0</td>\n",
       "    </tr>\n",
       "    <tr>\n",
       "      <th>512</th>\n",
       "      <td>0.0</td>\n",
       "      <td>0.0</td>\n",
       "    </tr>\n",
       "    <tr>\n",
       "      <th>...</th>\n",
       "      <td>...</td>\n",
       "      <td>...</td>\n",
       "    </tr>\n",
       "    <tr>\n",
       "      <th>2569</th>\n",
       "      <td>0.0</td>\n",
       "      <td>0.0</td>\n",
       "    </tr>\n",
       "    <tr>\n",
       "      <th>4468</th>\n",
       "      <td>0.0</td>\n",
       "      <td>0.0</td>\n",
       "    </tr>\n",
       "    <tr>\n",
       "      <th>832</th>\n",
       "      <td>0.0</td>\n",
       "      <td>0.0</td>\n",
       "    </tr>\n",
       "    <tr>\n",
       "      <th>3694</th>\n",
       "      <td>0.0</td>\n",
       "      <td>0.0</td>\n",
       "    </tr>\n",
       "    <tr>\n",
       "      <th>2923</th>\n",
       "      <td>0.0</td>\n",
       "      <td>1.0</td>\n",
       "    </tr>\n",
       "  </tbody>\n",
       "</table>\n",
       "<p>1709 rows × 2 columns</p>\n",
       "</div>"
      ],
      "text/plain": [
       "      True  Predicted\n",
       "3165   1.0        1.0\n",
       "565    1.0        1.0\n",
       "5407   1.0        1.0\n",
       "2445   0.0        0.0\n",
       "512    0.0        0.0\n",
       "...    ...        ...\n",
       "2569   0.0        0.0\n",
       "4468   0.0        0.0\n",
       "832    0.0        0.0\n",
       "3694   0.0        0.0\n",
       "2923   0.0        1.0\n",
       "\n",
       "[1709 rows x 2 columns]"
      ]
     },
     "execution_count": 73,
     "metadata": {},
     "output_type": "execute_result"
    }
   ],
   "source": [
    "test_pred"
   ]
  },
  {
   "cell_type": "code",
   "execution_count": 74,
   "id": "651b85fe",
   "metadata": {},
   "outputs": [
    {
     "data": {
      "text/html": [
       "<div>\n",
       "<style scoped>\n",
       "    .dataframe tbody tr th:only-of-type {\n",
       "        vertical-align: middle;\n",
       "    }\n",
       "\n",
       "    .dataframe tbody tr th {\n",
       "        vertical-align: top;\n",
       "    }\n",
       "\n",
       "    .dataframe thead th {\n",
       "        text-align: right;\n",
       "    }\n",
       "</style>\n",
       "<table border=\"1\" class=\"dataframe\">\n",
       "  <thead>\n",
       "    <tr style=\"text-align: right;\">\n",
       "      <th></th>\n",
       "      <th>True</th>\n",
       "      <th>Predicted</th>\n",
       "      <th>Wool_sucking</th>\n",
       "    </tr>\n",
       "  </thead>\n",
       "  <tbody>\n",
       "    <tr>\n",
       "      <th>3165</th>\n",
       "      <td>1.0</td>\n",
       "      <td>1.0</td>\n",
       "      <td>2.0</td>\n",
       "    </tr>\n",
       "    <tr>\n",
       "      <th>565</th>\n",
       "      <td>1.0</td>\n",
       "      <td>1.0</td>\n",
       "      <td>5.0</td>\n",
       "    </tr>\n",
       "    <tr>\n",
       "      <th>5407</th>\n",
       "      <td>1.0</td>\n",
       "      <td>1.0</td>\n",
       "      <td>2.0</td>\n",
       "    </tr>\n",
       "    <tr>\n",
       "      <th>2445</th>\n",
       "      <td>0.0</td>\n",
       "      <td>0.0</td>\n",
       "      <td>0.0</td>\n",
       "    </tr>\n",
       "    <tr>\n",
       "      <th>512</th>\n",
       "      <td>0.0</td>\n",
       "      <td>0.0</td>\n",
       "      <td>0.0</td>\n",
       "    </tr>\n",
       "    <tr>\n",
       "      <th>...</th>\n",
       "      <td>...</td>\n",
       "      <td>...</td>\n",
       "      <td>...</td>\n",
       "    </tr>\n",
       "    <tr>\n",
       "      <th>2569</th>\n",
       "      <td>0.0</td>\n",
       "      <td>0.0</td>\n",
       "      <td>0.0</td>\n",
       "    </tr>\n",
       "    <tr>\n",
       "      <th>4468</th>\n",
       "      <td>0.0</td>\n",
       "      <td>0.0</td>\n",
       "      <td>0.0</td>\n",
       "    </tr>\n",
       "    <tr>\n",
       "      <th>832</th>\n",
       "      <td>0.0</td>\n",
       "      <td>0.0</td>\n",
       "      <td>0.0</td>\n",
       "    </tr>\n",
       "    <tr>\n",
       "      <th>3694</th>\n",
       "      <td>0.0</td>\n",
       "      <td>0.0</td>\n",
       "      <td>0.0</td>\n",
       "    </tr>\n",
       "    <tr>\n",
       "      <th>2923</th>\n",
       "      <td>0.0</td>\n",
       "      <td>1.0</td>\n",
       "      <td>0.0</td>\n",
       "    </tr>\n",
       "  </tbody>\n",
       "</table>\n",
       "<p>1709 rows × 3 columns</p>\n",
       "</div>"
      ],
      "text/plain": [
       "      True  Predicted  Wool_sucking\n",
       "3165   1.0        1.0           2.0\n",
       "565    1.0        1.0           5.0\n",
       "5407   1.0        1.0           2.0\n",
       "2445   0.0        0.0           0.0\n",
       "512    0.0        0.0           0.0\n",
       "...    ...        ...           ...\n",
       "2569   0.0        0.0           0.0\n",
       "4468   0.0        0.0           0.0\n",
       "832    0.0        0.0           0.0\n",
       "3694   0.0        0.0           0.0\n",
       "2923   0.0        1.0           0.0\n",
       "\n",
       "[1709 rows x 3 columns]"
      ]
     },
     "execution_count": 74,
     "metadata": {},
     "output_type": "execute_result"
    }
   ],
   "source": [
    "# reassociate original variable\n",
    "final = test_pred.join(df_multi['Wool_sucking'])\n",
    "final"
   ]
  },
  {
   "cell_type": "code",
   "execution_count": 75,
   "id": "899af8f5",
   "metadata": {},
   "outputs": [
    {
     "data": {
      "text/html": [
       "<div>\n",
       "<style scoped>\n",
       "    .dataframe tbody tr th:only-of-type {\n",
       "        vertical-align: middle;\n",
       "    }\n",
       "\n",
       "    .dataframe tbody tr th {\n",
       "        vertical-align: top;\n",
       "    }\n",
       "\n",
       "    .dataframe thead th {\n",
       "        text-align: right;\n",
       "    }\n",
       "</style>\n",
       "<table border=\"1\" class=\"dataframe\">\n",
       "  <thead>\n",
       "    <tr style=\"text-align: right;\">\n",
       "      <th></th>\n",
       "      <th>True</th>\n",
       "      <th>Predicted</th>\n",
       "      <th>Wool_sucking</th>\n",
       "    </tr>\n",
       "  </thead>\n",
       "  <tbody>\n",
       "    <tr>\n",
       "      <th>2212</th>\n",
       "      <td>0.0</td>\n",
       "      <td>1.0</td>\n",
       "      <td>0.0</td>\n",
       "    </tr>\n",
       "    <tr>\n",
       "      <th>413</th>\n",
       "      <td>0.0</td>\n",
       "      <td>1.0</td>\n",
       "      <td>0.0</td>\n",
       "    </tr>\n",
       "    <tr>\n",
       "      <th>1372</th>\n",
       "      <td>1.0</td>\n",
       "      <td>0.0</td>\n",
       "      <td>2.0</td>\n",
       "    </tr>\n",
       "    <tr>\n",
       "      <th>3607</th>\n",
       "      <td>1.0</td>\n",
       "      <td>0.0</td>\n",
       "      <td>3.0</td>\n",
       "    </tr>\n",
       "    <tr>\n",
       "      <th>4344</th>\n",
       "      <td>0.0</td>\n",
       "      <td>1.0</td>\n",
       "      <td>0.0</td>\n",
       "    </tr>\n",
       "    <tr>\n",
       "      <th>...</th>\n",
       "      <td>...</td>\n",
       "      <td>...</td>\n",
       "      <td>...</td>\n",
       "    </tr>\n",
       "    <tr>\n",
       "      <th>5066</th>\n",
       "      <td>0.0</td>\n",
       "      <td>1.0</td>\n",
       "      <td>0.0</td>\n",
       "    </tr>\n",
       "    <tr>\n",
       "      <th>4906</th>\n",
       "      <td>0.0</td>\n",
       "      <td>1.0</td>\n",
       "      <td>0.0</td>\n",
       "    </tr>\n",
       "    <tr>\n",
       "      <th>251</th>\n",
       "      <td>1.0</td>\n",
       "      <td>0.0</td>\n",
       "      <td>2.0</td>\n",
       "    </tr>\n",
       "    <tr>\n",
       "      <th>2388</th>\n",
       "      <td>0.0</td>\n",
       "      <td>1.0</td>\n",
       "      <td>0.0</td>\n",
       "    </tr>\n",
       "    <tr>\n",
       "      <th>2923</th>\n",
       "      <td>0.0</td>\n",
       "      <td>1.0</td>\n",
       "      <td>0.0</td>\n",
       "    </tr>\n",
       "  </tbody>\n",
       "</table>\n",
       "<p>626 rows × 3 columns</p>\n",
       "</div>"
      ],
      "text/plain": [
       "      True  Predicted  Wool_sucking\n",
       "2212   0.0        1.0           0.0\n",
       "413    0.0        1.0           0.0\n",
       "1372   1.0        0.0           2.0\n",
       "3607   1.0        0.0           3.0\n",
       "4344   0.0        1.0           0.0\n",
       "...    ...        ...           ...\n",
       "5066   0.0        1.0           0.0\n",
       "4906   0.0        1.0           0.0\n",
       "251    1.0        0.0           2.0\n",
       "2388   0.0        1.0           0.0\n",
       "2923   0.0        1.0           0.0\n",
       "\n",
       "[626 rows x 3 columns]"
      ]
     },
     "execution_count": 75,
     "metadata": {},
     "output_type": "execute_result"
    }
   ],
   "source": [
    "# should be 626\n",
    "mismatched = final[final['Predicted'] != final['True']]\n",
    "mismatched"
   ]
  },
  {
   "cell_type": "code",
   "execution_count": 76,
   "id": "784dff8a",
   "metadata": {},
   "outputs": [],
   "source": [
    "should_be_0 = mismatched[mismatched['True'] == 0]\n",
    "should_be_1 = mismatched[mismatched['True'] == 1]"
   ]
  },
  {
   "cell_type": "code",
   "execution_count": 77,
   "id": "473c4725",
   "metadata": {},
   "outputs": [
    {
     "data": {
      "text/plain": [
       "0.0    414\n",
       "1.0     66\n",
       "Name: Wool_sucking, dtype: int64"
      ]
     },
     "execution_count": 77,
     "metadata": {},
     "output_type": "execute_result"
    }
   ],
   "source": [
    "should_be_0['Wool_sucking'].value_counts()"
   ]
  },
  {
   "cell_type": "code",
   "execution_count": 78,
   "id": "bada05b1",
   "metadata": {},
   "outputs": [
    {
     "data": {
      "text/plain": [
       "2.0    47\n",
       "3.0    38\n",
       "4.0    37\n",
       "5.0    22\n",
       "6.0     2\n",
       "Name: Wool_sucking, dtype: int64"
      ]
     },
     "execution_count": 78,
     "metadata": {},
     "output_type": "execute_result"
    }
   ],
   "source": [
    "should_be_1['Wool_sucking'].value_counts()"
   ]
  },
  {
   "cell_type": "code",
   "execution_count": 79,
   "id": "e9713979",
   "metadata": {},
   "outputs": [
    {
     "data": {
      "text/plain": [
       "0.0    414\n",
       "1.0     66\n",
       "2.0     47\n",
       "3.0     38\n",
       "4.0     37\n",
       "5.0     22\n",
       "6.0      2\n",
       "Name: Wool_sucking, dtype: int64"
      ]
     },
     "execution_count": 79,
     "metadata": {},
     "output_type": "execute_result"
    }
   ],
   "source": [
    "mismatched['Wool_sucking'].value_counts()"
   ]
  },
  {
   "cell_type": "markdown",
   "id": "1b9cbc0a",
   "metadata": {},
   "source": [
    "# Recap:\n",
    "\n",
    "Only the binary classifiers did a good job! We tried Logistic Regression, a Random Forest, and KNN.\n",
    "\n",
    "We will be carrying on with the following model: \n",
    "`log_rus` (LogisticRegression with default parameters trained on randomly undersampled data.)  \n",
    "\n",
    "It has the highest recall, which is important because initial modelling suggested that would be my dataset's weakness. "
   ]
  },
  {
   "cell_type": "code",
   "execution_count": 162,
   "id": "05ad75cc",
   "metadata": {
    "scrolled": true
   },
   "outputs": [
    {
     "data": {
      "text/html": [
       "<div>\n",
       "<style scoped>\n",
       "    .dataframe tbody tr th:only-of-type {\n",
       "        vertical-align: middle;\n",
       "    }\n",
       "\n",
       "    .dataframe tbody tr th {\n",
       "        vertical-align: top;\n",
       "    }\n",
       "\n",
       "    .dataframe thead th {\n",
       "        text-align: right;\n",
       "    }\n",
       "</style>\n",
       "<table border=\"1\" class=\"dataframe\">\n",
       "  <thead>\n",
       "    <tr style=\"text-align: right;\">\n",
       "      <th></th>\n",
       "      <th>Model</th>\n",
       "      <th>Recall</th>\n",
       "      <th>F1</th>\n",
       "      <th>Precision</th>\n",
       "      <th>Accuracy</th>\n",
       "    </tr>\n",
       "  </thead>\n",
       "  <tbody>\n",
       "    <tr>\n",
       "      <th>11</th>\n",
       "      <td>Random Forest RUS Binary</td>\n",
       "      <td>0.67</td>\n",
       "      <td>0.47</td>\n",
       "      <td>0.36</td>\n",
       "      <td>0.62</td>\n",
       "    </tr>\n",
       "    <tr>\n",
       "      <th>24</th>\n",
       "      <td>\"Tuned\" Binary LogReg RUS Threshold Adjusted</td>\n",
       "      <td>0.65</td>\n",
       "      <td>0.47</td>\n",
       "      <td>0.36</td>\n",
       "      <td>0.62</td>\n",
       "    </tr>\n",
       "    <tr>\n",
       "      <th>23</th>\n",
       "      <td>\"Hand-Tuned\" Binary LogReg RUS</td>\n",
       "      <td>0.65</td>\n",
       "      <td>0.47</td>\n",
       "      <td>0.36</td>\n",
       "      <td>0.62</td>\n",
       "    </tr>\n",
       "    <tr>\n",
       "      <th>14</th>\n",
       "      <td>Log Reg Binary RUS</td>\n",
       "      <td>0.64</td>\n",
       "      <td>0.46</td>\n",
       "      <td>0.36</td>\n",
       "      <td>0.63</td>\n",
       "    </tr>\n",
       "    <tr>\n",
       "      <th>13</th>\n",
       "      <td>Log Reg Binary ROS</td>\n",
       "      <td>0.64</td>\n",
       "      <td>0.46</td>\n",
       "      <td>0.37</td>\n",
       "      <td>0.63</td>\n",
       "    </tr>\n",
       "    <tr>\n",
       "      <th>20</th>\n",
       "      <td>Binary KNN k=3 RUS</td>\n",
       "      <td>0.54</td>\n",
       "      <td>0.41</td>\n",
       "      <td>0.33</td>\n",
       "      <td>0.6</td>\n",
       "    </tr>\n",
       "    <tr>\n",
       "      <th>21</th>\n",
       "      <td>Binary KNN k=3 ROS</td>\n",
       "      <td>0.47</td>\n",
       "      <td>0.38</td>\n",
       "      <td>0.32</td>\n",
       "      <td>0.61</td>\n",
       "    </tr>\n",
       "    <tr>\n",
       "      <th>10</th>\n",
       "      <td>Random Forest ROS Binary</td>\n",
       "      <td>0.34</td>\n",
       "      <td>0.37</td>\n",
       "      <td>0.41</td>\n",
       "      <td>0.71</td>\n",
       "    </tr>\n",
       "    <tr>\n",
       "      <th>12</th>\n",
       "      <td>Log Reg Binary SMOTE</td>\n",
       "      <td>0.29</td>\n",
       "      <td>0.36</td>\n",
       "      <td>0.46</td>\n",
       "      <td>0.74</td>\n",
       "    </tr>\n",
       "    <tr>\n",
       "      <th>8</th>\n",
       "      <td>Hand-Tuned Random Forest Binary</td>\n",
       "      <td>0.29</td>\n",
       "      <td>0.36</td>\n",
       "      <td>0.45</td>\n",
       "      <td>0.73</td>\n",
       "    </tr>\n",
       "    <tr>\n",
       "      <th>6</th>\n",
       "      <td>Tuned Random Forest Binary</td>\n",
       "      <td>0.28</td>\n",
       "      <td>0.34</td>\n",
       "      <td>0.43</td>\n",
       "      <td>0.73</td>\n",
       "    </tr>\n",
       "    <tr>\n",
       "      <th>9</th>\n",
       "      <td>Random Forest SMOTE Binary</td>\n",
       "      <td>0.26</td>\n",
       "      <td>0.32</td>\n",
       "      <td>0.41</td>\n",
       "      <td>0.72</td>\n",
       "    </tr>\n",
       "    <tr>\n",
       "      <th>16</th>\n",
       "      <td>Binary KNN k=3</td>\n",
       "      <td>0.22</td>\n",
       "      <td>0.26</td>\n",
       "      <td>0.34</td>\n",
       "      <td>0.7</td>\n",
       "    </tr>\n",
       "    <tr>\n",
       "      <th>17</th>\n",
       "      <td>Binary KNN k=3 All Scaled</td>\n",
       "      <td>0.22</td>\n",
       "      <td>0.26</td>\n",
       "      <td>0.32</td>\n",
       "      <td>0.69</td>\n",
       "    </tr>\n",
       "    <tr>\n",
       "      <th>18</th>\n",
       "      <td>Binary KNN k=3 Age Scaled</td>\n",
       "      <td>0.2</td>\n",
       "      <td>0.25</td>\n",
       "      <td>0.32</td>\n",
       "      <td>0.69</td>\n",
       "    </tr>\n",
       "    <tr>\n",
       "      <th>1</th>\n",
       "      <td>Default Logistic Regression Multiclass</td>\n",
       "      <td>0.13</td>\n",
       "      <td>0.11</td>\n",
       "      <td>0.11</td>\n",
       "      <td>0.68</td>\n",
       "    </tr>\n",
       "    <tr>\n",
       "      <th>5</th>\n",
       "      <td>Default Random Forest Multiclass</td>\n",
       "      <td>0.13</td>\n",
       "      <td>0.11</td>\n",
       "      <td>0.18</td>\n",
       "      <td>0.68</td>\n",
       "    </tr>\n",
       "    <tr>\n",
       "      <th>19</th>\n",
       "      <td>Multiclass KNN k=3</td>\n",
       "      <td>0.13</td>\n",
       "      <td>0.12</td>\n",
       "      <td>0.13</td>\n",
       "      <td>0.64</td>\n",
       "    </tr>\n",
       "    <tr>\n",
       "      <th>2</th>\n",
       "      <td>Default Ordinal Logistic Regression</td>\n",
       "      <td>0.13</td>\n",
       "      <td>0.11</td>\n",
       "      <td>0.11</td>\n",
       "      <td>0.68</td>\n",
       "    </tr>\n",
       "    <tr>\n",
       "      <th>7</th>\n",
       "      <td>Random Forest Binary class_weight=balanced</td>\n",
       "      <td>0.1</td>\n",
       "      <td>0.17</td>\n",
       "      <td>0.47</td>\n",
       "      <td>0.74</td>\n",
       "    </tr>\n",
       "    <tr>\n",
       "      <th>4</th>\n",
       "      <td>Default Random Forest Binary</td>\n",
       "      <td>0.1</td>\n",
       "      <td>0.17</td>\n",
       "      <td>0.52</td>\n",
       "      <td>0.75</td>\n",
       "    </tr>\n",
       "    <tr>\n",
       "      <th>3</th>\n",
       "      <td>\"Tuned\" Log Reg Binary</td>\n",
       "      <td>0.09</td>\n",
       "      <td>0.15</td>\n",
       "      <td>0.66</td>\n",
       "      <td>0.76</td>\n",
       "    </tr>\n",
       "    <tr>\n",
       "      <th>22</th>\n",
       "      <td>\"Tuned\" Binary LogReg RUS</td>\n",
       "      <td>0.09</td>\n",
       "      <td>0.15</td>\n",
       "      <td>0.66</td>\n",
       "      <td>0.76</td>\n",
       "    </tr>\n",
       "    <tr>\n",
       "      <th>0</th>\n",
       "      <td>Default Logistic Regression Binary</td>\n",
       "      <td>0.09</td>\n",
       "      <td>0.15</td>\n",
       "      <td>0.66</td>\n",
       "      <td>0.76</td>\n",
       "    </tr>\n",
       "    <tr>\n",
       "      <th>15</th>\n",
       "      <td>Log Reg Multiclass RUS</td>\n",
       "      <td>0.01</td>\n",
       "      <td>0.02</td>\n",
       "      <td>0.13</td>\n",
       "      <td>0.03</td>\n",
       "    </tr>\n",
       "  </tbody>\n",
       "</table>\n",
       "</div>"
      ],
      "text/plain": [
       "                                           Model Recall    F1 Precision  \\\n",
       "11                      Random Forest RUS Binary   0.67  0.47      0.36   \n",
       "24  \"Tuned\" Binary LogReg RUS Threshold Adjusted   0.65  0.47      0.36   \n",
       "23                \"Hand-Tuned\" Binary LogReg RUS   0.65  0.47      0.36   \n",
       "14                            Log Reg Binary RUS   0.64  0.46      0.36   \n",
       "13                            Log Reg Binary ROS   0.64  0.46      0.37   \n",
       "20                            Binary KNN k=3 RUS   0.54  0.41      0.33   \n",
       "21                            Binary KNN k=3 ROS   0.47  0.38      0.32   \n",
       "10                      Random Forest ROS Binary   0.34  0.37      0.41   \n",
       "12                          Log Reg Binary SMOTE   0.29  0.36      0.46   \n",
       "8                Hand-Tuned Random Forest Binary   0.29  0.36      0.45   \n",
       "6                     Tuned Random Forest Binary   0.28  0.34      0.43   \n",
       "9                     Random Forest SMOTE Binary   0.26  0.32      0.41   \n",
       "16                                Binary KNN k=3   0.22  0.26      0.34   \n",
       "17                     Binary KNN k=3 All Scaled   0.22  0.26      0.32   \n",
       "18                     Binary KNN k=3 Age Scaled    0.2  0.25      0.32   \n",
       "1         Default Logistic Regression Multiclass   0.13  0.11      0.11   \n",
       "5               Default Random Forest Multiclass   0.13  0.11      0.18   \n",
       "19                            Multiclass KNN k=3   0.13  0.12      0.13   \n",
       "2            Default Ordinal Logistic Regression   0.13  0.11      0.11   \n",
       "7     Random Forest Binary class_weight=balanced    0.1  0.17      0.47   \n",
       "4                   Default Random Forest Binary    0.1  0.17      0.52   \n",
       "3                         \"Tuned\" Log Reg Binary   0.09  0.15      0.66   \n",
       "22                     \"Tuned\" Binary LogReg RUS   0.09  0.15      0.66   \n",
       "0             Default Logistic Regression Binary   0.09  0.15      0.66   \n",
       "15                        Log Reg Multiclass RUS   0.01  0.02      0.13   \n",
       "\n",
       "   Accuracy  \n",
       "11     0.62  \n",
       "24     0.62  \n",
       "23     0.62  \n",
       "14     0.63  \n",
       "13     0.63  \n",
       "20      0.6  \n",
       "21     0.61  \n",
       "10     0.71  \n",
       "12     0.74  \n",
       "8      0.73  \n",
       "6      0.73  \n",
       "9      0.72  \n",
       "16      0.7  \n",
       "17     0.69  \n",
       "18     0.69  \n",
       "1      0.68  \n",
       "5      0.68  \n",
       "19     0.64  \n",
       "2      0.68  \n",
       "7      0.74  \n",
       "4      0.75  \n",
       "3      0.76  \n",
       "22     0.76  \n",
       "0      0.76  \n",
       "15     0.03  "
      ]
     },
     "execution_count": 162,
     "metadata": {},
     "output_type": "execute_result"
    }
   ],
   "source": [
    "master_scores.sort_values('Recall', ascending=False)"
   ]
  },
  {
   "cell_type": "code",
   "execution_count": 80,
   "id": "9f42d4c4",
   "metadata": {},
   "outputs": [
    {
     "ename": "NameError",
     "evalue": "name 'bos' is not defined",
     "output_type": "error",
     "traceback": [
      "\u001b[1;31m---------------------------------------------------------------------------\u001b[0m",
      "\u001b[1;31mNameError\u001b[0m                                 Traceback (most recent call last)",
      "Input \u001b[1;32mIn [80]\u001b[0m, in \u001b[0;36m<cell line: 6>\u001b[1;34m()\u001b[0m\n\u001b[0;32m      3\u001b[0m \u001b[38;5;28;01mfrom\u001b[39;00m \u001b[38;5;21;01mstatsmodels\u001b[39;00m\u001b[38;5;21;01m.\u001b[39;00m\u001b[38;5;21;01mformula\u001b[39;00m\u001b[38;5;21;01m.\u001b[39;00m\u001b[38;5;21;01mapi\u001b[39;00m \u001b[38;5;28;01mimport\u001b[39;00m ols\n\u001b[0;32m      4\u001b[0m \u001b[38;5;28;01mimport\u001b[39;00m \u001b[38;5;21;01mstatsmodels\u001b[39;00m\u001b[38;5;21;01m.\u001b[39;00m\u001b[38;5;21;01mformula\u001b[39;00m\u001b[38;5;21;01m.\u001b[39;00m\u001b[38;5;21;01mapi\u001b[39;00m \u001b[38;5;28;01mas\u001b[39;00m \u001b[38;5;21;01msmf\u001b[39;00m\n\u001b[1;32m----> 6\u001b[0m m \u001b[38;5;241m=\u001b[39m smf\u001b[38;5;241m.\u001b[39mols(formula \u001b[38;5;241m=\u001b[39m \u001b[38;5;124m'\u001b[39m\u001b[38;5;124mPRICE ~ AGE + TAX\u001b[39m\u001b[38;5;124m'\u001b[39m,data \u001b[38;5;241m=\u001b[39m \u001b[43mbos\u001b[49m)\u001b[38;5;241m.\u001b[39mfit()\n\u001b[0;32m      7\u001b[0m \u001b[38;5;28mprint\u001b[39m(m\u001b[38;5;241m.\u001b[39msummary())\n",
      "\u001b[1;31mNameError\u001b[0m: name 'bos' is not defined"
     ]
    }
   ],
   "source": [
    "# andrea code snippet\n",
    "# Import regression modules\n",
    "#import statsmodels.api as sm\n",
    "#from statsmodels.formula.api import ols\n",
    "#import statsmodels.formula.api as smf\n",
    "\n",
    "#m = smf.ols(formula = 'PRICE ~ AGE + TAX',data = bos).fit()\n",
    "#print(m.summary())"
   ]
  }
 ],
 "metadata": {
  "kernelspec": {
   "display_name": "Python 3 (ipykernel)",
   "language": "python",
   "name": "python3"
  },
  "language_info": {
   "codemirror_mode": {
    "name": "ipython",
    "version": 3
   },
   "file_extension": ".py",
   "mimetype": "text/x-python",
   "name": "python",
   "nbconvert_exporter": "python",
   "pygments_lexer": "ipython3",
   "version": "3.9.12"
  }
 },
 "nbformat": 4,
 "nbformat_minor": 5
}
