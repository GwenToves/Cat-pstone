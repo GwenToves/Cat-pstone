{
 "cells": [
  {
   "cell_type": "markdown",
   "id": "ff2495ca",
   "metadata": {},
   "source": [
    "<div style=\"background-color: blue; padding: 10px; color: white;\">\n",
    "<h2>1. Import Necessary Libraries and Packages\n",
    "</div>\n"
   ]
  },
  {
   "cell_type": "code",
   "execution_count": 1,
   "id": "0a1e0141",
   "metadata": {},
   "outputs": [
    {
     "name": "stdout",
     "output_type": "stream",
     "text": [
      "Requirement already satisfied: xgboost in c:\\users\\gwent\\anaconda3\\lib\\site-packages (1.7.5)\n",
      "Requirement already satisfied: scipy in c:\\users\\gwent\\anaconda3\\lib\\site-packages (from xgboost) (1.7.3)\n",
      "Requirement already satisfied: numpy in c:\\users\\gwent\\anaconda3\\lib\\site-packages (from xgboost) (1.21.5)\n"
     ]
    }
   ],
   "source": [
    "! pip install xgboost"
   ]
  },
  {
   "cell_type": "code",
   "execution_count": 49,
   "id": "b45c811d",
   "metadata": {},
   "outputs": [],
   "source": [
    "from imblearn.under_sampling import RandomUnderSampler\n",
    "from sklearn.decomposition import PCA\n",
    "from imblearn.over_sampling import RandomOverSampler\n",
    "from sklearn.preprocessing import MinMaxScaler, StandardScaler\n",
    "from sklearn.model_selection import train_test_split, GridSearchCV\n",
    "from sklearn.linear_model import LogisticRegression\n",
    "from sklearn.metrics import roc_curve, roc_auc_score, \\\n",
    "                            make_scorer, \\\n",
    "                            accuracy_score,precision_score, recall_score, f1_score, \\\n",
    "                            confusion_matrix, ConfusionMatrixDisplay\n",
    "from sklearn.ensemble import RandomForestClassifier\n",
    "from scipy.stats import kendalltau, spearmanr\n",
    "import time\n",
    "import pandas as pd\n",
    "import numpy as np\n",
    "import os\n",
    "import matplotlib.pyplot as plt\n",
    "import matplotlib.colors as mcolors\n",
    "import seaborn as sns\n",
    "import scipy.stats as stats\n",
    "import xgboost as xgb\n",
    "\n",
    "import warnings\n",
    "warnings.filterwarnings('ignore')\n",
    "\n",
    "# set random state\n",
    "np.random.seed(42)"
   ]
  },
  {
   "cell_type": "markdown",
   "id": "bb3bc465",
   "metadata": {},
   "source": [
    "### This is how we will keep a running comparison of all the models and their various tuned counterparts: "
   ]
  },
  {
   "cell_type": "code",
   "execution_count": 3,
   "id": "85989c38",
   "metadata": {},
   "outputs": [],
   "source": [
    "# dataframe for scores amongst models\n",
    "master_scores = pd.DataFrame(columns=['Model','Recall', 'F1', 'Precision', 'Accuracy'])"
   ]
  },
  {
   "cell_type": "code",
   "execution_count": 4,
   "id": "a25c1ae2",
   "metadata": {},
   "outputs": [],
   "source": [
    "# add_to_master(model_description, y_true, y_predicted, binary=True)\n",
    "def add_to_master(model_description, y_test, y_pred, binary=True):\n",
    "    '''\n",
    "    Adds a new row to the running score DataFrame `master_scores` \n",
    "    and functions for adding both binary and multiclass scores. \n",
    "    '''\n",
    "    global master_scores\n",
    "    if binary == True:\n",
    "        # Evalution Metrics\n",
    "        accuracy = accuracy_score(y_test, y_pred)\n",
    "        precision = precision_score(y_test, y_pred)\n",
    "        recall = recall_score(y_test, y_pred)\n",
    "        f1 = f1_score(y_test, y_pred)\n",
    "\n",
    "        # add to master_scores\n",
    "        new_row = {\n",
    "            'Model': model_description,\n",
    "            'Recall': round(recall,2), \n",
    "            'F1': round(f1, 2), \n",
    "            'Precision': round(precision, 2), \n",
    "            'Accuracy': round(accuracy, 2)}\n",
    "        \n",
    "        master_scores = master_scores.append(new_row, ignore_index=True)   \n",
    "    \n",
    "    else:\n",
    "        accuracy = accuracy_score(y_test, y_pred)\n",
    "        precision = precision_score(y_test, y_pred, average='macro') # I chose macro since we have less of the sucklers \n",
    "        recall = recall_score(y_test, y_pred, average='macro')       # and I want their accuracy to be meaningful\n",
    "        f1 = f1_score(y_test, y_pred, average='macro')\n",
    "\n",
    "\n",
    "        # add to master_scores\n",
    "        new_row = {\n",
    "            'Model': model_description,\n",
    "            'Recall': round(recall,2), \n",
    "            'F1': round(f1, 2), \n",
    "            'Precision': round(precision, 2), \n",
    "            'Accuracy': round(accuracy, 2)}\n",
    "        master_scores = master_scores.append(new_row, ignore_index=True)\n",
    "    return master_scores"
   ]
  },
  {
   "cell_type": "markdown",
   "id": "cabdf590",
   "metadata": {},
   "source": [
    "<div style=\"background-color: blue; padding: 10px; color: white;\">\n",
    "<h2>2. Read in Data\n",
    "</div>\n"
   ]
  },
  {
   "cell_type": "code",
   "execution_count": 5,
   "id": "988d86e7",
   "metadata": {},
   "outputs": [
    {
     "data": {
      "text/html": [
       "<div>\n",
       "<style scoped>\n",
       "    .dataframe tbody tr th:only-of-type {\n",
       "        vertical-align: middle;\n",
       "    }\n",
       "\n",
       "    .dataframe tbody tr th {\n",
       "        vertical-align: top;\n",
       "    }\n",
       "\n",
       "    .dataframe thead th {\n",
       "        text-align: right;\n",
       "    }\n",
       "</style>\n",
       "<table border=\"1\" class=\"dataframe\">\n",
       "  <thead>\n",
       "    <tr style=\"text-align: right;\">\n",
       "      <th></th>\n",
       "      <th>Age</th>\n",
       "      <th>Gender</th>\n",
       "      <th>Neuter_status</th>\n",
       "      <th>Breed_group</th>\n",
       "      <th>Weaning_age</th>\n",
       "      <th>Outdoors</th>\n",
       "      <th>Other_cats</th>\n",
       "      <th>Activity_level</th>\n",
       "      <th>Contact_people</th>\n",
       "      <th>Aggression_stranger</th>\n",
       "      <th>Aggression_owner</th>\n",
       "      <th>Aggression_cats</th>\n",
       "      <th>Shyness_novel</th>\n",
       "      <th>Shyness_strangers</th>\n",
       "      <th>Grooming</th>\n",
       "      <th>Wool_sucking</th>\n",
       "      <th>Behaviour_problem</th>\n",
       "    </tr>\n",
       "  </thead>\n",
       "  <tbody>\n",
       "    <tr>\n",
       "      <th>0</th>\n",
       "      <td>4.0274</td>\n",
       "      <td>2</td>\n",
       "      <td>1</td>\n",
       "      <td>BEN</td>\n",
       "      <td>8</td>\n",
       "      <td>0</td>\n",
       "      <td>1</td>\n",
       "      <td>4</td>\n",
       "      <td>5</td>\n",
       "      <td>1</td>\n",
       "      <td>1</td>\n",
       "      <td>1</td>\n",
       "      <td>2</td>\n",
       "      <td>1</td>\n",
       "      <td>1.0</td>\n",
       "      <td>0.0</td>\n",
       "      <td>1.0</td>\n",
       "    </tr>\n",
       "    <tr>\n",
       "      <th>1</th>\n",
       "      <td>2.1096</td>\n",
       "      <td>2</td>\n",
       "      <td>1</td>\n",
       "      <td>BEN</td>\n",
       "      <td>8</td>\n",
       "      <td>0</td>\n",
       "      <td>1</td>\n",
       "      <td>5</td>\n",
       "      <td>4</td>\n",
       "      <td>1</td>\n",
       "      <td>1</td>\n",
       "      <td>1</td>\n",
       "      <td>3</td>\n",
       "      <td>3</td>\n",
       "      <td>1.0</td>\n",
       "      <td>0.0</td>\n",
       "      <td>1.0</td>\n",
       "    </tr>\n",
       "    <tr>\n",
       "      <th>2</th>\n",
       "      <td>7.6822</td>\n",
       "      <td>1</td>\n",
       "      <td>1</td>\n",
       "      <td>BUR</td>\n",
       "      <td>4</td>\n",
       "      <td>0</td>\n",
       "      <td>1</td>\n",
       "      <td>4</td>\n",
       "      <td>5</td>\n",
       "      <td>1</td>\n",
       "      <td>1</td>\n",
       "      <td>1</td>\n",
       "      <td>2</td>\n",
       "      <td>1</td>\n",
       "      <td>4.0</td>\n",
       "      <td>3.0</td>\n",
       "      <td>2.0</td>\n",
       "    </tr>\n",
       "    <tr>\n",
       "      <th>3</th>\n",
       "      <td>5.0027</td>\n",
       "      <td>1</td>\n",
       "      <td>1</td>\n",
       "      <td>BUR</td>\n",
       "      <td>4</td>\n",
       "      <td>4</td>\n",
       "      <td>0</td>\n",
       "      <td>5</td>\n",
       "      <td>5</td>\n",
       "      <td>1</td>\n",
       "      <td>1</td>\n",
       "      <td>2</td>\n",
       "      <td>1</td>\n",
       "      <td>1</td>\n",
       "      <td>1.0</td>\n",
       "      <td>0.0</td>\n",
       "      <td>1.0</td>\n",
       "    </tr>\n",
       "    <tr>\n",
       "      <th>4</th>\n",
       "      <td>5.0137</td>\n",
       "      <td>1</td>\n",
       "      <td>1</td>\n",
       "      <td>EUR</td>\n",
       "      <td>4</td>\n",
       "      <td>5</td>\n",
       "      <td>1</td>\n",
       "      <td>4</td>\n",
       "      <td>5</td>\n",
       "      <td>1</td>\n",
       "      <td>1</td>\n",
       "      <td>1</td>\n",
       "      <td>2</td>\n",
       "      <td>1</td>\n",
       "      <td>1.0</td>\n",
       "      <td>0.0</td>\n",
       "      <td>1.0</td>\n",
       "    </tr>\n",
       "    <tr>\n",
       "      <th>...</th>\n",
       "      <td>...</td>\n",
       "      <td>...</td>\n",
       "      <td>...</td>\n",
       "      <td>...</td>\n",
       "      <td>...</td>\n",
       "      <td>...</td>\n",
       "      <td>...</td>\n",
       "      <td>...</td>\n",
       "      <td>...</td>\n",
       "      <td>...</td>\n",
       "      <td>...</td>\n",
       "      <td>...</td>\n",
       "      <td>...</td>\n",
       "      <td>...</td>\n",
       "      <td>...</td>\n",
       "      <td>...</td>\n",
       "      <td>...</td>\n",
       "    </tr>\n",
       "    <tr>\n",
       "      <th>5691</th>\n",
       "      <td>11.1151</td>\n",
       "      <td>1</td>\n",
       "      <td>1</td>\n",
       "      <td>NFO</td>\n",
       "      <td>4</td>\n",
       "      <td>3</td>\n",
       "      <td>1</td>\n",
       "      <td>3</td>\n",
       "      <td>5</td>\n",
       "      <td>1</td>\n",
       "      <td>1</td>\n",
       "      <td>1</td>\n",
       "      <td>1</td>\n",
       "      <td>1</td>\n",
       "      <td>1.0</td>\n",
       "      <td>4.0</td>\n",
       "      <td>2.0</td>\n",
       "    </tr>\n",
       "    <tr>\n",
       "      <th>5692</th>\n",
       "      <td>6.3644</td>\n",
       "      <td>1</td>\n",
       "      <td>0</td>\n",
       "      <td>NFO</td>\n",
       "      <td>4</td>\n",
       "      <td>5</td>\n",
       "      <td>1</td>\n",
       "      <td>4</td>\n",
       "      <td>3</td>\n",
       "      <td>1</td>\n",
       "      <td>1</td>\n",
       "      <td>1</td>\n",
       "      <td>2</td>\n",
       "      <td>2</td>\n",
       "      <td>1.0</td>\n",
       "      <td>0.0</td>\n",
       "      <td>1.0</td>\n",
       "    </tr>\n",
       "    <tr>\n",
       "      <th>5693</th>\n",
       "      <td>3.1205</td>\n",
       "      <td>1</td>\n",
       "      <td>1</td>\n",
       "      <td>NFO</td>\n",
       "      <td>4</td>\n",
       "      <td>4</td>\n",
       "      <td>1</td>\n",
       "      <td>4</td>\n",
       "      <td>5</td>\n",
       "      <td>1</td>\n",
       "      <td>1</td>\n",
       "      <td>1</td>\n",
       "      <td>2</td>\n",
       "      <td>1</td>\n",
       "      <td>3.0</td>\n",
       "      <td>0.0</td>\n",
       "      <td>1.0</td>\n",
       "    </tr>\n",
       "    <tr>\n",
       "      <th>5694</th>\n",
       "      <td>3.6274</td>\n",
       "      <td>1</td>\n",
       "      <td>1</td>\n",
       "      <td>NFO</td>\n",
       "      <td>5</td>\n",
       "      <td>1</td>\n",
       "      <td>1</td>\n",
       "      <td>5</td>\n",
       "      <td>3</td>\n",
       "      <td>1</td>\n",
       "      <td>1</td>\n",
       "      <td>1</td>\n",
       "      <td>4</td>\n",
       "      <td>3</td>\n",
       "      <td>2.0</td>\n",
       "      <td>4.0</td>\n",
       "      <td>1.0</td>\n",
       "    </tr>\n",
       "    <tr>\n",
       "      <th>5695</th>\n",
       "      <td>7.1452</td>\n",
       "      <td>1</td>\n",
       "      <td>1</td>\n",
       "      <td>NFO</td>\n",
       "      <td>4</td>\n",
       "      <td>4</td>\n",
       "      <td>1</td>\n",
       "      <td>4</td>\n",
       "      <td>5</td>\n",
       "      <td>1</td>\n",
       "      <td>1</td>\n",
       "      <td>3</td>\n",
       "      <td>2</td>\n",
       "      <td>1</td>\n",
       "      <td>1.0</td>\n",
       "      <td>0.0</td>\n",
       "      <td>2.0</td>\n",
       "    </tr>\n",
       "  </tbody>\n",
       "</table>\n",
       "<p>5696 rows × 17 columns</p>\n",
       "</div>"
      ],
      "text/plain": [
       "          Age  Gender  Neuter_status Breed_group  Weaning_age  Outdoors  \\\n",
       "0      4.0274       2              1         BEN            8         0   \n",
       "1      2.1096       2              1         BEN            8         0   \n",
       "2      7.6822       1              1         BUR            4         0   \n",
       "3      5.0027       1              1         BUR            4         4   \n",
       "4      5.0137       1              1         EUR            4         5   \n",
       "...       ...     ...            ...         ...          ...       ...   \n",
       "5691  11.1151       1              1         NFO            4         3   \n",
       "5692   6.3644       1              0         NFO            4         5   \n",
       "5693   3.1205       1              1         NFO            4         4   \n",
       "5694   3.6274       1              1         NFO            5         1   \n",
       "5695   7.1452       1              1         NFO            4         4   \n",
       "\n",
       "      Other_cats  Activity_level  Contact_people  Aggression_stranger  \\\n",
       "0              1               4               5                    1   \n",
       "1              1               5               4                    1   \n",
       "2              1               4               5                    1   \n",
       "3              0               5               5                    1   \n",
       "4              1               4               5                    1   \n",
       "...          ...             ...             ...                  ...   \n",
       "5691           1               3               5                    1   \n",
       "5692           1               4               3                    1   \n",
       "5693           1               4               5                    1   \n",
       "5694           1               5               3                    1   \n",
       "5695           1               4               5                    1   \n",
       "\n",
       "      Aggression_owner  Aggression_cats  Shyness_novel  Shyness_strangers  \\\n",
       "0                    1                1              2                  1   \n",
       "1                    1                1              3                  3   \n",
       "2                    1                1              2                  1   \n",
       "3                    1                2              1                  1   \n",
       "4                    1                1              2                  1   \n",
       "...                ...              ...            ...                ...   \n",
       "5691                 1                1              1                  1   \n",
       "5692                 1                1              2                  2   \n",
       "5693                 1                1              2                  1   \n",
       "5694                 1                1              4                  3   \n",
       "5695                 1                3              2                  1   \n",
       "\n",
       "      Grooming  Wool_sucking  Behaviour_problem  \n",
       "0          1.0           0.0                1.0  \n",
       "1          1.0           0.0                1.0  \n",
       "2          4.0           3.0                2.0  \n",
       "3          1.0           0.0                1.0  \n",
       "4          1.0           0.0                1.0  \n",
       "...        ...           ...                ...  \n",
       "5691       1.0           4.0                2.0  \n",
       "5692       1.0           0.0                1.0  \n",
       "5693       3.0           0.0                1.0  \n",
       "5694       2.0           4.0                1.0  \n",
       "5695       1.0           0.0                2.0  \n",
       "\n",
       "[5696 rows x 17 columns]"
      ]
     },
     "execution_count": 5,
     "metadata": {},
     "output_type": "execute_result"
    }
   ],
   "source": [
    "df = pd.read_csv('./Data/cat_clean.csv')\n",
    "df"
   ]
  },
  {
   "cell_type": "markdown",
   "id": "3df80029",
   "metadata": {},
   "source": [
    "<div style=\"background-color: blue; padding: 10px; color: white;\">\n",
    "<h2>3. Explore Data\n",
    "</div>\n"
   ]
  },
  {
   "cell_type": "code",
   "execution_count": 6,
   "id": "8960663a",
   "metadata": {},
   "outputs": [
    {
     "data": {
      "text/html": [
       "<div>\n",
       "<style scoped>\n",
       "    .dataframe tbody tr th:only-of-type {\n",
       "        vertical-align: middle;\n",
       "    }\n",
       "\n",
       "    .dataframe tbody tr th {\n",
       "        vertical-align: top;\n",
       "    }\n",
       "\n",
       "    .dataframe thead th {\n",
       "        text-align: right;\n",
       "    }\n",
       "</style>\n",
       "<table border=\"1\" class=\"dataframe\">\n",
       "  <thead>\n",
       "    <tr style=\"text-align: right;\">\n",
       "      <th></th>\n",
       "      <th>Age</th>\n",
       "      <th>Gender</th>\n",
       "      <th>Neuter_status</th>\n",
       "      <th>Weaning_age</th>\n",
       "      <th>Outdoors</th>\n",
       "      <th>Other_cats</th>\n",
       "      <th>Activity_level</th>\n",
       "      <th>Contact_people</th>\n",
       "      <th>Aggression_stranger</th>\n",
       "      <th>Aggression_owner</th>\n",
       "      <th>Aggression_cats</th>\n",
       "      <th>Shyness_novel</th>\n",
       "      <th>Shyness_strangers</th>\n",
       "      <th>Grooming</th>\n",
       "      <th>Wool_sucking</th>\n",
       "      <th>Behaviour_problem</th>\n",
       "    </tr>\n",
       "  </thead>\n",
       "  <tbody>\n",
       "    <tr>\n",
       "      <th>count</th>\n",
       "      <td>5696.000000</td>\n",
       "      <td>5696.000000</td>\n",
       "      <td>5696.000000</td>\n",
       "      <td>5696.000000</td>\n",
       "      <td>5696.000000</td>\n",
       "      <td>5696.000000</td>\n",
       "      <td>5696.000000</td>\n",
       "      <td>5696.000000</td>\n",
       "      <td>5696.000000</td>\n",
       "      <td>5696.000000</td>\n",
       "      <td>5696.000000</td>\n",
       "      <td>5696.000000</td>\n",
       "      <td>5696.000000</td>\n",
       "      <td>5696.000000</td>\n",
       "      <td>5696.000000</td>\n",
       "      <td>5696.000000</td>\n",
       "    </tr>\n",
       "    <tr>\n",
       "      <th>mean</th>\n",
       "      <td>4.752602</td>\n",
       "      <td>1.539326</td>\n",
       "      <td>0.779670</td>\n",
       "      <td>4.619031</td>\n",
       "      <td>2.547753</td>\n",
       "      <td>0.847788</td>\n",
       "      <td>3.770190</td>\n",
       "      <td>4.088834</td>\n",
       "      <td>1.116397</td>\n",
       "      <td>1.096559</td>\n",
       "      <td>1.583743</td>\n",
       "      <td>2.025632</td>\n",
       "      <td>1.884480</td>\n",
       "      <td>1.789150</td>\n",
       "      <td>0.912395</td>\n",
       "      <td>1.070400</td>\n",
       "    </tr>\n",
       "    <tr>\n",
       "      <th>std</th>\n",
       "      <td>3.768478</td>\n",
       "      <td>0.498495</td>\n",
       "      <td>0.414506</td>\n",
       "      <td>1.576234</td>\n",
       "      <td>1.911887</td>\n",
       "      <td>0.359258</td>\n",
       "      <td>0.864699</td>\n",
       "      <td>0.878686</td>\n",
       "      <td>0.418163</td>\n",
       "      <td>0.368394</td>\n",
       "      <td>0.839547</td>\n",
       "      <td>0.996769</td>\n",
       "      <td>1.051775</td>\n",
       "      <td>0.997606</td>\n",
       "      <td>1.544499</td>\n",
       "      <td>0.384687</td>\n",
       "    </tr>\n",
       "    <tr>\n",
       "      <th>min</th>\n",
       "      <td>0.167100</td>\n",
       "      <td>1.000000</td>\n",
       "      <td>0.000000</td>\n",
       "      <td>1.000000</td>\n",
       "      <td>0.000000</td>\n",
       "      <td>0.000000</td>\n",
       "      <td>1.000000</td>\n",
       "      <td>1.000000</td>\n",
       "      <td>1.000000</td>\n",
       "      <td>1.000000</td>\n",
       "      <td>1.000000</td>\n",
       "      <td>1.000000</td>\n",
       "      <td>1.000000</td>\n",
       "      <td>1.000000</td>\n",
       "      <td>0.000000</td>\n",
       "      <td>0.000000</td>\n",
       "    </tr>\n",
       "    <tr>\n",
       "      <th>25%</th>\n",
       "      <td>1.789000</td>\n",
       "      <td>1.000000</td>\n",
       "      <td>1.000000</td>\n",
       "      <td>4.000000</td>\n",
       "      <td>1.000000</td>\n",
       "      <td>1.000000</td>\n",
       "      <td>3.000000</td>\n",
       "      <td>4.000000</td>\n",
       "      <td>1.000000</td>\n",
       "      <td>1.000000</td>\n",
       "      <td>1.000000</td>\n",
       "      <td>1.000000</td>\n",
       "      <td>1.000000</td>\n",
       "      <td>1.000000</td>\n",
       "      <td>0.000000</td>\n",
       "      <td>1.000000</td>\n",
       "    </tr>\n",
       "    <tr>\n",
       "      <th>50%</th>\n",
       "      <td>3.886300</td>\n",
       "      <td>2.000000</td>\n",
       "      <td>1.000000</td>\n",
       "      <td>4.000000</td>\n",
       "      <td>2.000000</td>\n",
       "      <td>1.000000</td>\n",
       "      <td>4.000000</td>\n",
       "      <td>4.000000</td>\n",
       "      <td>1.000000</td>\n",
       "      <td>1.000000</td>\n",
       "      <td>1.000000</td>\n",
       "      <td>2.000000</td>\n",
       "      <td>2.000000</td>\n",
       "      <td>1.000000</td>\n",
       "      <td>0.000000</td>\n",
       "      <td>1.000000</td>\n",
       "    </tr>\n",
       "    <tr>\n",
       "      <th>75%</th>\n",
       "      <td>6.778100</td>\n",
       "      <td>2.000000</td>\n",
       "      <td>1.000000</td>\n",
       "      <td>5.000000</td>\n",
       "      <td>5.000000</td>\n",
       "      <td>1.000000</td>\n",
       "      <td>4.000000</td>\n",
       "      <td>5.000000</td>\n",
       "      <td>1.000000</td>\n",
       "      <td>1.000000</td>\n",
       "      <td>2.000000</td>\n",
       "      <td>3.000000</td>\n",
       "      <td>2.000000</td>\n",
       "      <td>3.000000</td>\n",
       "      <td>2.000000</td>\n",
       "      <td>1.000000</td>\n",
       "    </tr>\n",
       "    <tr>\n",
       "      <th>max</th>\n",
       "      <td>24.811000</td>\n",
       "      <td>2.000000</td>\n",
       "      <td>1.000000</td>\n",
       "      <td>8.000000</td>\n",
       "      <td>5.000000</td>\n",
       "      <td>1.000000</td>\n",
       "      <td>5.000000</td>\n",
       "      <td>5.000000</td>\n",
       "      <td>5.000000</td>\n",
       "      <td>5.000000</td>\n",
       "      <td>5.000000</td>\n",
       "      <td>5.000000</td>\n",
       "      <td>5.000000</td>\n",
       "      <td>5.000000</td>\n",
       "      <td>7.000000</td>\n",
       "      <td>3.000000</td>\n",
       "    </tr>\n",
       "  </tbody>\n",
       "</table>\n",
       "</div>"
      ],
      "text/plain": [
       "               Age       Gender  Neuter_status  Weaning_age     Outdoors  \\\n",
       "count  5696.000000  5696.000000    5696.000000  5696.000000  5696.000000   \n",
       "mean      4.752602     1.539326       0.779670     4.619031     2.547753   \n",
       "std       3.768478     0.498495       0.414506     1.576234     1.911887   \n",
       "min       0.167100     1.000000       0.000000     1.000000     0.000000   \n",
       "25%       1.789000     1.000000       1.000000     4.000000     1.000000   \n",
       "50%       3.886300     2.000000       1.000000     4.000000     2.000000   \n",
       "75%       6.778100     2.000000       1.000000     5.000000     5.000000   \n",
       "max      24.811000     2.000000       1.000000     8.000000     5.000000   \n",
       "\n",
       "        Other_cats  Activity_level  Contact_people  Aggression_stranger  \\\n",
       "count  5696.000000     5696.000000     5696.000000          5696.000000   \n",
       "mean      0.847788        3.770190        4.088834             1.116397   \n",
       "std       0.359258        0.864699        0.878686             0.418163   \n",
       "min       0.000000        1.000000        1.000000             1.000000   \n",
       "25%       1.000000        3.000000        4.000000             1.000000   \n",
       "50%       1.000000        4.000000        4.000000             1.000000   \n",
       "75%       1.000000        4.000000        5.000000             1.000000   \n",
       "max       1.000000        5.000000        5.000000             5.000000   \n",
       "\n",
       "       Aggression_owner  Aggression_cats  Shyness_novel  Shyness_strangers  \\\n",
       "count       5696.000000      5696.000000    5696.000000        5696.000000   \n",
       "mean           1.096559         1.583743       2.025632           1.884480   \n",
       "std            0.368394         0.839547       0.996769           1.051775   \n",
       "min            1.000000         1.000000       1.000000           1.000000   \n",
       "25%            1.000000         1.000000       1.000000           1.000000   \n",
       "50%            1.000000         1.000000       2.000000           2.000000   \n",
       "75%            1.000000         2.000000       3.000000           2.000000   \n",
       "max            5.000000         5.000000       5.000000           5.000000   \n",
       "\n",
       "          Grooming  Wool_sucking  Behaviour_problem  \n",
       "count  5696.000000   5696.000000        5696.000000  \n",
       "mean      1.789150      0.912395           1.070400  \n",
       "std       0.997606      1.544499           0.384687  \n",
       "min       1.000000      0.000000           0.000000  \n",
       "25%       1.000000      0.000000           1.000000  \n",
       "50%       1.000000      0.000000           1.000000  \n",
       "75%       3.000000      2.000000           1.000000  \n",
       "max       5.000000      7.000000           3.000000  "
      ]
     },
     "execution_count": 6,
     "metadata": {},
     "output_type": "execute_result"
    }
   ],
   "source": [
    "df.describe()"
   ]
  },
  {
   "cell_type": "markdown",
   "id": "2ab9be40",
   "metadata": {},
   "source": [
    "###  3.1 Target Feature Class Distribution\n",
    "I forget what the class distribution of my target feature `Wool_sucking` look like. A relatively balanced distribution is really important for most algorithms.  "
   ]
  },
  {
   "cell_type": "code",
   "execution_count": 7,
   "id": "1855536b",
   "metadata": {},
   "outputs": [
    {
     "data": {
      "text/plain": [
       "0.0    3891\n",
       "4.0     421\n",
       "2.0     403\n",
       "3.0     378\n",
       "1.0     368\n",
       "5.0     207\n",
       "6.0      26\n",
       "7.0       2\n",
       "Name: Wool_sucking, dtype: int64"
      ]
     },
     "execution_count": 7,
     "metadata": {},
     "output_type": "execute_result"
    }
   ],
   "source": [
    "df['Wool_sucking'].value_counts()"
   ]
  },
  {
   "cell_type": "markdown",
   "id": "88c78eb0",
   "metadata": {},
   "source": [
    "Wow! Quite imbalanced. I think for the sake of model performance, I will compress the 6's and 7's into the 5 category. As a reminder, in the original dataset 5 = daily, 6 = many times per day, 7 = most of the day, which I feel like can all be summed up under just \"daily.\" Multiclass algorithms tend to do best when each class has at least 100 samples (defintely not 26 or 2!). "
   ]
  },
  {
   "cell_type": "code",
   "execution_count": 8,
   "id": "73d4129e",
   "metadata": {},
   "outputs": [
    {
     "data": {
      "text/plain": [
       "0.0    3891\n",
       "4.0     421\n",
       "2.0     403\n",
       "3.0     378\n",
       "1.0     368\n",
       "5.0     235\n",
       "Name: ws_compressed, dtype: int64"
      ]
     },
     "execution_count": 8,
     "metadata": {},
     "output_type": "execute_result"
    }
   ],
   "source": [
    "# assign 6's (many times per day) and 7's (most of the day) to 5 (daily) \n",
    "df_comp = df.copy()\n",
    "df_comp['ws_compressed'] = df_comp['Wool_sucking'].replace({6:5, 7:5})\n",
    "df_comp.drop(columns='Wool_sucking')\n",
    "df_comp['ws_compressed'].value_counts()"
   ]
  },
  {
   "cell_type": "markdown",
   "id": "c31f7b7d",
   "metadata": {},
   "source": [
    "### Behavior Problem Recode"
   ]
  },
  {
   "cell_type": "code",
   "execution_count": 9,
   "id": "5a3a4a68",
   "metadata": {},
   "outputs": [
    {
     "data": {
      "text/plain": [
       "1.0    5035\n",
       "2.0     426\n",
       "0.0     165\n",
       "3.0      70\n",
       "Name: Behaviour_problem, dtype: int64"
      ]
     },
     "execution_count": 9,
     "metadata": {},
     "output_type": "execute_result"
    }
   ],
   "source": [
    "df_comp.Behaviour_problem.value_counts()"
   ]
  },
  {
   "cell_type": "markdown",
   "id": "3600c20b",
   "metadata": {},
   "source": [
    "Similarly, `Behaviour_problem` has quite the imbalance and, upon further inspection, the original scores are \"Does your cat have a behavior problem? 0=I don't know, 1=no, 2=yes, self-diagnosed, 3=yes, diagnosed by a veterinarian.\" So, I'm going to binarize this as a simple yes/no because class 3 is not going to perform well in modelling. "
   ]
  },
  {
   "cell_type": "code",
   "execution_count": 10,
   "id": "651d6585",
   "metadata": {},
   "outputs": [
    {
     "data": {
      "text/plain": [
       "0.0    5200\n",
       "1.0     496\n",
       "Name: Behaviour_problem, dtype: int64"
      ]
     },
     "execution_count": 10,
     "metadata": {},
     "output_type": "execute_result"
    }
   ],
   "source": [
    "# Recode Behaviour_problem to binary\n",
    "df_comp['Behaviour_problem'].replace([1, 2, 3], [0, 1, 1], inplace=True)\n",
    "df_comp['Behaviour_problem'].value_counts()"
   ]
  },
  {
   "cell_type": "markdown",
   "id": "bc357ae7",
   "metadata": {},
   "source": [
    "<div style=\"background-color: blue; padding: 10px; color: white;\">\n",
    "<h2>4. Create Training/Test Data</h2>\n",
    "</div>\n"
   ]
  },
  {
   "cell_type": "code",
   "execution_count": 11,
   "id": "712a3ece",
   "metadata": {},
   "outputs": [
    {
     "data": {
      "text/plain": [
       "19"
      ]
     },
     "execution_count": 11,
     "metadata": {},
     "output_type": "execute_result"
    }
   ],
   "source": [
    "# how many breed groups are there?\n",
    "len(df_comp['Breed_group'].value_counts())"
   ]
  },
  {
   "cell_type": "code",
   "execution_count": 12,
   "id": "bd0cdf7c",
   "metadata": {},
   "outputs": [
    {
     "data": {
      "text/html": [
       "<div>\n",
       "<style scoped>\n",
       "    .dataframe tbody tr th:only-of-type {\n",
       "        vertical-align: middle;\n",
       "    }\n",
       "\n",
       "    .dataframe tbody tr th {\n",
       "        vertical-align: top;\n",
       "    }\n",
       "\n",
       "    .dataframe thead th {\n",
       "        text-align: right;\n",
       "    }\n",
       "</style>\n",
       "<table border=\"1\" class=\"dataframe\">\n",
       "  <thead>\n",
       "    <tr style=\"text-align: right;\">\n",
       "      <th></th>\n",
       "      <th>BG_ABY</th>\n",
       "      <th>BG_BEN</th>\n",
       "      <th>BG_BRI</th>\n",
       "      <th>BG_BUR</th>\n",
       "      <th>BG_CRX</th>\n",
       "      <th>BG_DRX</th>\n",
       "      <th>BG_EUR</th>\n",
       "      <th>BG_HCS</th>\n",
       "      <th>BG_KOR</th>\n",
       "      <th>BG_MCO</th>\n",
       "      <th>...</th>\n",
       "      <th>Contact_people</th>\n",
       "      <th>Aggression_stranger</th>\n",
       "      <th>Aggression_owner</th>\n",
       "      <th>Aggression_cats</th>\n",
       "      <th>Shyness_novel</th>\n",
       "      <th>Shyness_strangers</th>\n",
       "      <th>Grooming</th>\n",
       "      <th>Wool_sucking</th>\n",
       "      <th>Behaviour_problem</th>\n",
       "      <th>ws_compressed</th>\n",
       "    </tr>\n",
       "  </thead>\n",
       "  <tbody>\n",
       "    <tr>\n",
       "      <th>0</th>\n",
       "      <td>0</td>\n",
       "      <td>1</td>\n",
       "      <td>0</td>\n",
       "      <td>0</td>\n",
       "      <td>0</td>\n",
       "      <td>0</td>\n",
       "      <td>0</td>\n",
       "      <td>0</td>\n",
       "      <td>0</td>\n",
       "      <td>0</td>\n",
       "      <td>...</td>\n",
       "      <td>5</td>\n",
       "      <td>1</td>\n",
       "      <td>1</td>\n",
       "      <td>1</td>\n",
       "      <td>2</td>\n",
       "      <td>1</td>\n",
       "      <td>1.0</td>\n",
       "      <td>0.0</td>\n",
       "      <td>0.0</td>\n",
       "      <td>0.0</td>\n",
       "    </tr>\n",
       "    <tr>\n",
       "      <th>1</th>\n",
       "      <td>0</td>\n",
       "      <td>1</td>\n",
       "      <td>0</td>\n",
       "      <td>0</td>\n",
       "      <td>0</td>\n",
       "      <td>0</td>\n",
       "      <td>0</td>\n",
       "      <td>0</td>\n",
       "      <td>0</td>\n",
       "      <td>0</td>\n",
       "      <td>...</td>\n",
       "      <td>4</td>\n",
       "      <td>1</td>\n",
       "      <td>1</td>\n",
       "      <td>1</td>\n",
       "      <td>3</td>\n",
       "      <td>3</td>\n",
       "      <td>1.0</td>\n",
       "      <td>0.0</td>\n",
       "      <td>0.0</td>\n",
       "      <td>0.0</td>\n",
       "    </tr>\n",
       "    <tr>\n",
       "      <th>2</th>\n",
       "      <td>0</td>\n",
       "      <td>0</td>\n",
       "      <td>0</td>\n",
       "      <td>1</td>\n",
       "      <td>0</td>\n",
       "      <td>0</td>\n",
       "      <td>0</td>\n",
       "      <td>0</td>\n",
       "      <td>0</td>\n",
       "      <td>0</td>\n",
       "      <td>...</td>\n",
       "      <td>5</td>\n",
       "      <td>1</td>\n",
       "      <td>1</td>\n",
       "      <td>1</td>\n",
       "      <td>2</td>\n",
       "      <td>1</td>\n",
       "      <td>4.0</td>\n",
       "      <td>3.0</td>\n",
       "      <td>1.0</td>\n",
       "      <td>3.0</td>\n",
       "    </tr>\n",
       "    <tr>\n",
       "      <th>3</th>\n",
       "      <td>0</td>\n",
       "      <td>0</td>\n",
       "      <td>0</td>\n",
       "      <td>1</td>\n",
       "      <td>0</td>\n",
       "      <td>0</td>\n",
       "      <td>0</td>\n",
       "      <td>0</td>\n",
       "      <td>0</td>\n",
       "      <td>0</td>\n",
       "      <td>...</td>\n",
       "      <td>5</td>\n",
       "      <td>1</td>\n",
       "      <td>1</td>\n",
       "      <td>2</td>\n",
       "      <td>1</td>\n",
       "      <td>1</td>\n",
       "      <td>1.0</td>\n",
       "      <td>0.0</td>\n",
       "      <td>0.0</td>\n",
       "      <td>0.0</td>\n",
       "    </tr>\n",
       "    <tr>\n",
       "      <th>4</th>\n",
       "      <td>0</td>\n",
       "      <td>0</td>\n",
       "      <td>0</td>\n",
       "      <td>0</td>\n",
       "      <td>0</td>\n",
       "      <td>0</td>\n",
       "      <td>1</td>\n",
       "      <td>0</td>\n",
       "      <td>0</td>\n",
       "      <td>0</td>\n",
       "      <td>...</td>\n",
       "      <td>5</td>\n",
       "      <td>1</td>\n",
       "      <td>1</td>\n",
       "      <td>1</td>\n",
       "      <td>2</td>\n",
       "      <td>1</td>\n",
       "      <td>1.0</td>\n",
       "      <td>0.0</td>\n",
       "      <td>0.0</td>\n",
       "      <td>0.0</td>\n",
       "    </tr>\n",
       "  </tbody>\n",
       "</table>\n",
       "<p>5 rows × 36 columns</p>\n",
       "</div>"
      ],
      "text/plain": [
       "   BG_ABY  BG_BEN  BG_BRI  BG_BUR  BG_CRX  BG_DRX  BG_EUR  BG_HCS  BG_KOR  \\\n",
       "0       0       1       0       0       0       0       0       0       0   \n",
       "1       0       1       0       0       0       0       0       0       0   \n",
       "2       0       0       0       1       0       0       0       0       0   \n",
       "3       0       0       0       1       0       0       0       0       0   \n",
       "4       0       0       0       0       0       0       1       0       0   \n",
       "\n",
       "   BG_MCO  ...  Contact_people  Aggression_stranger  Aggression_owner  \\\n",
       "0       0  ...               5                    1                 1   \n",
       "1       0  ...               4                    1                 1   \n",
       "2       0  ...               5                    1                 1   \n",
       "3       0  ...               5                    1                 1   \n",
       "4       0  ...               5                    1                 1   \n",
       "\n",
       "   Aggression_cats  Shyness_novel  Shyness_strangers  Grooming  Wool_sucking  \\\n",
       "0                1              2                  1       1.0           0.0   \n",
       "1                1              3                  3       1.0           0.0   \n",
       "2                1              2                  1       4.0           3.0   \n",
       "3                2              1                  1       1.0           0.0   \n",
       "4                1              2                  1       1.0           0.0   \n",
       "\n",
       "   Behaviour_problem  ws_compressed  \n",
       "0                0.0            0.0  \n",
       "1                0.0            0.0  \n",
       "2                1.0            3.0  \n",
       "3                0.0            0.0  \n",
       "4                0.0            0.0  \n",
       "\n",
       "[5 rows x 36 columns]"
      ]
     },
     "execution_count": 12,
     "metadata": {},
     "output_type": "execute_result"
    }
   ],
   "source": [
    "# most algorithms can't handle nominal variables, so let's one-hot encode those guys! \n",
    "df_comp_encoded = pd.concat([pd.get_dummies(df_comp['Breed_group'], prefix=\"BG\"), df_comp], axis=1).drop(columns='Breed_group')\n",
    "df_comp_encoded.head()"
   ]
  },
  {
   "cell_type": "code",
   "execution_count": 13,
   "id": "4fa2d3e9",
   "metadata": {},
   "outputs": [],
   "source": [
    "X = df_comp_encoded.drop(columns=[\"ws_compressed\", \"Wool_sucking\"])\n",
    "y = df_comp_encoded[\"ws_compressed\"]"
   ]
  },
  {
   "cell_type": "code",
   "execution_count": 14,
   "id": "87a87720",
   "metadata": {},
   "outputs": [],
   "source": [
    "# I still have some serious class imablance for my wool-suckers, hence stratify to maintain that imbalance for train/test sets\n",
    "X_train, X_test, y_train, y_test = train_test_split(X, y, test_size=0.3, random_state=42, stratify=y)"
   ]
  },
  {
   "cell_type": "markdown",
   "id": "0d6fbc73",
   "metadata": {},
   "source": [
    "<div style=\"background-color: blue; padding: 10px; color: white;\">\n",
    "<h2>5. Checking for Multicollinearity</h2>\n",
    "<p>Note: Any preprocessing or EDA for feature engineering purposes should always be done on training set because we should operate like the test set has NEVER been seen. This minimizes risk of data leakage and therefore increases chance of generalizability. Most of the models I will be using can handle multicollinearity, but I would like to see what we're working with anyway. </p>\n",
    "</div>"
   ]
  },
  {
   "cell_type": "code",
   "execution_count": 15,
   "id": "31b7fc70",
   "metadata": {},
   "outputs": [],
   "source": [
    "# organizing by variable type\n",
    "continuous_variable = X_train['Age']\n",
    "breed_groups = X_train.iloc[:, :19]\n",
    "dichotomous_variables = pd.concat([X_train[['Gender', 'Neuter_status', 'Other_cats', 'Behaviour_problem']], breed_groups],\n",
    "                                  axis=1)\n",
    "ordinal_variables = X_train[['Weaning_age', 'Outdoors', 'Activity_level', \n",
    "                             'Contact_people', 'Aggression_stranger', 'Aggression_owner', 'Aggression_cats',\n",
    "                            'Shyness_novel', 'Shyness_strangers', 'Grooming']]"
   ]
  },
  {
   "cell_type": "markdown",
   "id": "6f74b7d1",
   "metadata": {},
   "source": [
    "I opted to employ Kendall's tau as the correlation measure due to its specific suitability for capturing the relationships between ordinal pairs. By focusing on the direction of the pairwise relationships rather than the magnitude, Kendall's tau can account for the varying magnitudes observed in these Likert-like scales, ensuring a more robust assessment of the ordinal associations within the data."
   ]
  },
  {
   "cell_type": "code",
   "execution_count": 16,
   "id": "6a9be285",
   "metadata": {},
   "outputs": [
    {
     "data": {
      "image/png": "[encoded data removed]",
      "text/plain": [
       "<Figure size 1080x576 with 2 Axes>"
      ]
     },
     "metadata": {
      "needs_background": "light"
     },
     "output_type": "display_data"
    }
   ],
   "source": [
    "# Kendall's Tau for Correlation Between Ordinal Variables\n",
    "kendall_corr = ordinal_variables.corr(method='kendall')\n",
    "plt.figure(figsize=(15, 8))\n",
    "sns.heatmap(kendall_corr, annot=True, cmap='coolwarm', vmin=-1, vmax=1);"
   ]
  },
  {
   "cell_type": "markdown",
   "id": "f436c20e",
   "metadata": {},
   "source": [
    "I figured the aggression with people (stranger or owner) would be correlated. Likewise for the two shyness features. I don't think I will need to do any feature selection/extraction here since I think the model that would work best for this dataset all handle multicollinearity quite well. If necessary, I think a simple average of the two people aggression features to create a new feature Aggression_people and dropping the parents could be a good solution. Likewise with the shyness features. "
   ]
  },
  {
   "cell_type": "markdown",
   "id": "5c3ca603",
   "metadata": {},
   "source": [
    "Point biserial correlation is used when you have one continuous variable and one dichotomous variable. Biserial correlation is used when you have two continuous variables, but one of them is artificially dichotomized. As the latter condition is not accurate here I will be using the former metric. "
   ]
  },
  {
   "cell_type": "code",
   "execution_count": 17,
   "id": "411532a2",
   "metadata": {},
   "outputs": [
    {
     "data": {
      "image/png": "[encoded data removed]",
      "text/plain": [
       "<Figure size 1080x432 with 2 Axes>"
      ]
     },
     "metadata": {
      "needs_background": "light"
     },
     "output_type": "display_data"
    }
   ],
   "source": [
    "# Biserial Correlation Coefficient for dichXordinal if we treat ordinal_variables as continuous\n",
    "biserial = pd.concat([dichotomous_variables, ordinal_variables, continuous_variable], axis=1)\n",
    "correlation_matrix = pd.DataFrame(index=biserial.columns, columns=biserial.columns)\n",
    "for i, column_i in enumerate(biserial.columns):\n",
    "    for j, column_j in enumerate(biserial.columns):\n",
    "        if i != j:\n",
    "            corr, p_value = stats.pointbiserialr(biserial[column_i], biserial[column_j])\n",
    "            correlation_matrix.at[column_i, column_j] = round(corr, 2)\n",
    "heatmap_matrix = correlation_matrix.iloc[:23,23:] #drops anything not dich on \"continuous\"\n",
    "plt.figure(figsize=(15, 6))\n",
    "sns.heatmap(heatmap_matrix.astype(float), annot=True, cmap='coolwarm', vmin=-1, vmax=1)\n",
    "\n",
    "# Add title and labels\n",
    "plt.title('Biserial Correlation Heatmap')\n",
    "plt.xlabel('Dichotomous')\n",
    "plt.ylabel('Ordinal');"
   ]
  },
  {
   "cell_type": "code",
   "execution_count": 18,
   "id": "3a3b5cc0",
   "metadata": {},
   "outputs": [
    {
     "data": {
      "image/png": "[encoded data removed]",
      "text/plain": [
       "<Figure size 1080x576 with 2 Axes>"
      ]
     },
     "metadata": {
      "needs_background": "light"
     },
     "output_type": "display_data"
    }
   ],
   "source": [
    "# Spearman's rho for contXordinal\n",
    "spearman = pd.concat([continuous_variable, ordinal_variables], axis=1)\n",
    "\n",
    "spearman_matrix = spearman.corr(method='spearman')\n",
    "\n",
    "spearman_matrix = spearman_matrix.iloc[1:, [0]]\n",
    "\n",
    "plt.figure(figsize=(15, 8))\n",
    "sns.heatmap(spearman_matrix, annot=True, cmap='coolwarm', vmin=-1, vmax=1);"
   ]
  },
  {
   "cell_type": "code",
   "execution_count": 19,
   "id": "5759d3a1",
   "metadata": {},
   "outputs": [
    {
     "data": {
      "image/png": "[encoded data removed]",
      "text/plain": [
       "<Figure size 1440x576 with 2 Axes>"
      ]
     },
     "metadata": {
      "needs_background": "light"
     },
     "output_type": "display_data"
    }
   ],
   "source": [
    "# phi coefficient for dichXdich\n",
    "# Create an empty correlation matrix\n",
    "dichotomous_columns = dichotomous_variables.columns\n",
    "correlation_matrix = pd.DataFrame(index=dichotomous_columns, columns=dichotomous_columns)\n",
    "\n",
    "# Calculate phi coefficient for each pair of columns\n",
    "for i in range(len(dichotomous_columns)):\n",
    "    for j in range(i+1, len(dichotomous_columns)):\n",
    "        column1 = dichotomous_variables[dichotomous_columns[i]]\n",
    "        column2 = dichotomous_variables[dichotomous_columns[j]]\n",
    "        contingency_table = pd.crosstab(column1, column2)\n",
    "        n = np.sum(contingency_table.values)\n",
    "        n11 = contingency_table.iloc[1, 1]\n",
    "        n10 = contingency_table.iloc[1, 0]\n",
    "        n01 = contingency_table.iloc[0, 1]\n",
    "        n00 = contingency_table.iloc[0, 0]\n",
    "        phi = round((n11 * n00 - n10 * n01) / np.sqrt((n10 + n11) * (n00 + n01) * (n10 + n01) * (n00 + n11)),2)\n",
    "        correlation_matrix.loc[dichotomous_columns[i], dichotomous_columns[j]] = phi\n",
    "        correlation_matrix.loc[dichotomous_columns[j], dichotomous_columns[i]] = phi\n",
    "\n",
    "# Convert the correlation matrix values to numeric type\n",
    "correlation_matrix = correlation_matrix.astype(float)\n",
    "\n",
    "# Plot the correlation matrix as a heatmap\n",
    "plt.figure(figsize=(20, 8))\n",
    "sns.heatmap(correlation_matrix, annot=True, cmap='coolwarm', vmin=-1, vmax=1);"
   ]
  },
  {
   "cell_type": "markdown",
   "id": "c8aedb20",
   "metadata": {},
   "source": [
    "That's about as comprehensive and into the weeds as I'm willing to get. It looks like the only real concerns are those shyness traits and the aggression (towards people) traits. The models I'm going to be using are typically resistant to multicollinearity, and they don't seem to be *very* strongly correlated, but I want my coefficients to be interpretable, so I am going to go ahead and replace those four columns with their two aggregate counterparts. "
   ]
  },
  {
   "cell_type": "markdown",
   "id": "93f5f033",
   "metadata": {},
   "source": [
    "## Addressing Multicollinearity"
   ]
  },
  {
   "cell_type": "code",
   "execution_count": 20,
   "id": "0d872899",
   "metadata": {},
   "outputs": [
    {
     "data": {
      "text/plain": [
       "Index(['BG_ABY', 'BG_BEN', 'BG_BRI', 'BG_BUR', 'BG_CRX', 'BG_DRX', 'BG_EUR',\n",
       "       'BG_HCS', 'BG_KOR', 'BG_MCO', 'BG_NFO', 'BG_ORI', 'BG_PER', 'BG_RAG',\n",
       "       'BG_RUS', 'BG_SBI', 'BG_SIB', 'BG_TUV', 'BG_other', 'Age', 'Gender',\n",
       "       'Neuter_status', 'Weaning_age', 'Outdoors', 'Other_cats',\n",
       "       'Activity_level', 'Contact_people', 'Aggression_cats', 'Grooming',\n",
       "       'Behaviour_problem', 'agg_shy', 'agg_aggress_people'],\n",
       "      dtype='object')"
      ]
     },
     "execution_count": 20,
     "metadata": {},
     "output_type": "execute_result"
    }
   ],
   "source": [
    "# making agg columns for training set \n",
    "X_train['agg_shy'] = (X_train['Shyness_novel'] + X_train['Shyness_strangers']) / 2\n",
    "X_train['agg_aggress_people'] = (X_train['Aggression_owner'] + X_train['Aggression_stranger']) / 2 \n",
    "X_train.drop(columns=['Shyness_novel', 'Shyness_strangers', 'Aggression_stranger', 'Aggression_owner'], inplace=True)\n",
    "X_train.columns"
   ]
  },
  {
   "cell_type": "code",
   "execution_count": 21,
   "id": "acd3e5e9",
   "metadata": {},
   "outputs": [
    {
     "data": {
      "text/plain": [
       "Index(['BG_ABY', 'BG_BEN', 'BG_BRI', 'BG_BUR', 'BG_CRX', 'BG_DRX', 'BG_EUR',\n",
       "       'BG_HCS', 'BG_KOR', 'BG_MCO', 'BG_NFO', 'BG_ORI', 'BG_PER', 'BG_RAG',\n",
       "       'BG_RUS', 'BG_SBI', 'BG_SIB', 'BG_TUV', 'BG_other', 'Age', 'Gender',\n",
       "       'Neuter_status', 'Weaning_age', 'Outdoors', 'Other_cats',\n",
       "       'Activity_level', 'Contact_people', 'Aggression_cats', 'Grooming',\n",
       "       'Behaviour_problem', 'agg_shy', 'agg_aggress_people'],\n",
       "      dtype='object')"
      ]
     },
     "execution_count": 21,
     "metadata": {},
     "output_type": "execute_result"
    }
   ],
   "source": [
    "# making agg columns for testing set\n",
    "X_test['agg_shy'] = (X_test['Shyness_novel'] + X_test['Shyness_strangers']) / 2\n",
    "X_test['agg_aggress_people'] = (X_test['Aggression_owner'] + X_test['Aggression_stranger']) / 2\n",
    "X_test.drop(columns=['Shyness_novel', 'Shyness_strangers', 'Aggression_stranger', 'Aggression_owner'], inplace=True)\n",
    "X_test.columns"
   ]
  },
  {
   "cell_type": "markdown",
   "id": "92a51500",
   "metadata": {},
   "source": [
    "<div style=\"background-color: blue; padding: 10px; color: white;\">\n",
    "<h1>6. Modelling</h1>\n",
    "<p> Random Forest. XGBoost. Multinomial Logistic Regression. </p>\n",
    "</div>\n"
   ]
  },
  {
   "cell_type": "markdown",
   "id": "daea9032",
   "metadata": {},
   "source": [
    "## 6.1 Random Forest\n",
    "Tried and true. Robust to multicollinearity. Can capture non-linear relationships. Can highlight feature importance. \n",
    "Not as interpretable (no coefficients in the same sense as there would be with linear . "
   ]
  },
  {
   "cell_type": "code",
   "execution_count": 22,
   "id": "d0b3f5d4",
   "metadata": {},
   "outputs": [
    {
     "name": "stderr",
     "output_type": "stream",
     "text": [
      "C:\\Users\\gwent\\AppData\\Local\\Temp\\ipykernel_24816\\386060749.py:39: FutureWarning: The frame.append method is deprecated and will be removed from pandas in a future version. Use pandas.concat instead.\n",
      "  master_scores = master_scores.append(new_row, ignore_index=True)\n"
     ]
    },
    {
     "data": {
      "text/html": [
       "<div>\n",
       "<style scoped>\n",
       "    .dataframe tbody tr th:only-of-type {\n",
       "        vertical-align: middle;\n",
       "    }\n",
       "\n",
       "    .dataframe tbody tr th {\n",
       "        vertical-align: top;\n",
       "    }\n",
       "\n",
       "    .dataframe thead th {\n",
       "        text-align: right;\n",
       "    }\n",
       "</style>\n",
       "<table border=\"1\" class=\"dataframe\">\n",
       "  <thead>\n",
       "    <tr style=\"text-align: right;\">\n",
       "      <th></th>\n",
       "      <th>Model</th>\n",
       "      <th>Recall</th>\n",
       "      <th>F1</th>\n",
       "      <th>Precision</th>\n",
       "      <th>Accuracy</th>\n",
       "    </tr>\n",
       "  </thead>\n",
       "  <tbody>\n",
       "    <tr>\n",
       "      <th>0</th>\n",
       "      <td>Random Forest Multiclass (6)</td>\n",
       "      <td>0.17</td>\n",
       "      <td>0.14</td>\n",
       "      <td>0.29</td>\n",
       "      <td>0.68</td>\n",
       "    </tr>\n",
       "  </tbody>\n",
       "</table>\n",
       "</div>"
      ],
      "text/plain": [
       "                          Model Recall    F1 Precision Accuracy\n",
       "0  Random Forest Multiclass (6)   0.17  0.14      0.29     0.68"
      ]
     },
     "execution_count": 22,
     "metadata": {},
     "output_type": "execute_result"
    }
   ],
   "source": [
    "# How does the RandomForestClassifier() perform? I am also going to add class_weights=balanced as there is still plenty imbalance.\n",
    "rf = RandomForestClassifier(class_weight='balanced')\n",
    "rf.fit(X_train, y_train)\n",
    "y_pred = rf.predict(X_test)\n",
    "add_to_master(\"Random Forest Multiclass (6)\", y_test, y_pred, binary=False)"
   ]
  },
  {
   "cell_type": "code",
   "execution_count": 23,
   "id": "6d0beaca",
   "metadata": {},
   "outputs": [
    {
     "data": {
      "image/png": "[encoded data removed]",
      "text/plain": [
       "<Figure size 432x288 with 2 Axes>"
      ]
     },
     "metadata": {
      "needs_background": "light"
     },
     "output_type": "display_data"
    }
   ],
   "source": [
    "cm = confusion_matrix(y_test, y_pred, labels=rf.classes_)\n",
    "disp = ConfusionMatrixDisplay(confusion_matrix=cm, display_labels=rf.classes_)\n",
    "disp.plot()\n",
    "plt.show();"
   ]
  },
  {
   "cell_type": "markdown",
   "id": "b9cae167",
   "metadata": {},
   "source": [
    "It's not doing super well, even with dropping compressing those couple of classes with few samples. Let's see how it does if I compress the categories further into 3 groups: **Not Suckers/0** (0's (never)), **Infrequent Suckers/1** (1's (1-3x/lifetime), 2's (1-12x/year), 3's (1-4x/month)), and **Frequent Suckers/2** (4's (1-3x/week), 5's (daily), 6's (many times/day), and  7's (most of the day)). I think this will stil capture the variance that is relevant to the problem at hand: is this cat I'm looking to adopt going to do this thing I find really cute?  \n",
    "* 0 : 0\n",
    "* 1: 1, 2, 3\n",
    "* 2: 4, 5, 6, 7"
   ]
  },
  {
   "cell_type": "markdown",
   "id": "66b31030",
   "metadata": {},
   "source": [
    "## 6.2 Compressing Even Further to Mitigate Class-Imbalance-Related Performance "
   ]
  },
  {
   "cell_type": "code",
   "execution_count": 24,
   "id": "64d19fc8",
   "metadata": {},
   "outputs": [
    {
     "data": {
      "text/plain": [
       "0.0    1168\n",
       "1.0     344\n",
       "2.0     197\n",
       "Name: ws_compressed, dtype: int64"
      ]
     },
     "execution_count": 24,
     "metadata": {},
     "output_type": "execute_result"
    }
   ],
   "source": [
    "# remember: the 6's and 7's are already in 5 at this point, and 1 is already in group 1!\n",
    "y_train.replace([2, 3, 4, 5], [1, 1, 2, 2], inplace=True)\n",
    "y_train.value_counts()\n",
    "\n",
    "y_test.replace([2, 3, 4, 5], [1, 1, 2, 2], inplace=True)\n",
    "y_test.value_counts()"
   ]
  },
  {
   "cell_type": "code",
   "execution_count": 25,
   "id": "bf554c97",
   "metadata": {},
   "outputs": [
    {
     "name": "stderr",
     "output_type": "stream",
     "text": [
      "C:\\Users\\gwent\\AppData\\Local\\Temp\\ipykernel_24816\\386060749.py:39: FutureWarning: The frame.append method is deprecated and will be removed from pandas in a future version. Use pandas.concat instead.\n",
      "  master_scores = master_scores.append(new_row, ignore_index=True)\n"
     ]
    },
    {
     "data": {
      "image/png": "[encoded data removed]",
      "text/plain": [
       "<Figure size 432x288 with 2 Axes>"
      ]
     },
     "metadata": {
      "needs_background": "light"
     },
     "output_type": "display_data"
    }
   ],
   "source": [
    "# trying RF default on newly compressed y\n",
    "rf = RandomForestClassifier(class_weight='balanced')\n",
    "rf.fit(X_train, y_train)\n",
    "y_pred = rf.predict(X_test)\n",
    "add_to_master(\"Random Forest Multiclass (3)\", y_test, y_pred, binary=False)\n",
    "\n",
    "# confusion matrix, so we can get a more detailed view of its performance \n",
    "cm = confusion_matrix(y_test, y_pred, labels=rf.classes_)\n",
    "disp = ConfusionMatrixDisplay(confusion_matrix=cm, display_labels=rf.classes_)\n",
    "disp.plot()\n",
    "plt.show();"
   ]
  },
  {
   "cell_type": "code",
   "execution_count": 26,
   "id": "ceafd38c",
   "metadata": {},
   "outputs": [
    {
     "data": {
      "text/html": [
       "<div>\n",
       "<style scoped>\n",
       "    .dataframe tbody tr th:only-of-type {\n",
       "        vertical-align: middle;\n",
       "    }\n",
       "\n",
       "    .dataframe tbody tr th {\n",
       "        vertical-align: top;\n",
       "    }\n",
       "\n",
       "    .dataframe thead th {\n",
       "        text-align: right;\n",
       "    }\n",
       "</style>\n",
       "<table border=\"1\" class=\"dataframe\">\n",
       "  <thead>\n",
       "    <tr style=\"text-align: right;\">\n",
       "      <th></th>\n",
       "      <th>Model</th>\n",
       "      <th>Recall</th>\n",
       "      <th>F1</th>\n",
       "      <th>Precision</th>\n",
       "      <th>Accuracy</th>\n",
       "    </tr>\n",
       "  </thead>\n",
       "  <tbody>\n",
       "    <tr>\n",
       "      <th>0</th>\n",
       "      <td>Random Forest Multiclass (6)</td>\n",
       "      <td>0.17</td>\n",
       "      <td>0.14</td>\n",
       "      <td>0.29</td>\n",
       "      <td>0.68</td>\n",
       "    </tr>\n",
       "    <tr>\n",
       "      <th>1</th>\n",
       "      <td>Random Forest Multiclass (3)</td>\n",
       "      <td>0.35</td>\n",
       "      <td>0.32</td>\n",
       "      <td>0.44</td>\n",
       "      <td>0.68</td>\n",
       "    </tr>\n",
       "  </tbody>\n",
       "</table>\n",
       "</div>"
      ],
      "text/plain": [
       "                          Model Recall    F1 Precision Accuracy\n",
       "0  Random Forest Multiclass (6)   0.17  0.14      0.29     0.68\n",
       "1  Random Forest Multiclass (3)   0.35  0.32      0.44     0.68"
      ]
     },
     "execution_count": 26,
     "metadata": {},
     "output_type": "execute_result"
    }
   ],
   "source": [
    "master_scores.head()"
   ]
  },
  {
   "cell_type": "markdown",
   "id": "62dafe37",
   "metadata": {},
   "source": [
    "## 6.3 Incorporating Resampling Methods to Address Class Imbalance"
   ]
  },
  {
   "cell_type": "markdown",
   "id": "662e0abf",
   "metadata": {},
   "source": [
    "Still not doing too hot (but certainly better!). The model is still just predicting the majority class for most cases. I think it's time for a little resampling. I'm going to try random under sampling and random over sampling.  "
   ]
  },
  {
   "cell_type": "code",
   "execution_count": 27,
   "id": "e5569751",
   "metadata": {},
   "outputs": [],
   "source": [
    "rus = RandomUnderSampler()\n",
    "X_resampled_rus, y_resampled_rus = rus.fit_resample(X_train, y_train)\n",
    "\n",
    "ros = RandomOverSampler()\n",
    "X_resampled_ros, y_resampled_ros = ros.fit_resample(X_train, y_train)"
   ]
  },
  {
   "cell_type": "code",
   "execution_count": 28,
   "id": "a7276639",
   "metadata": {},
   "outputs": [
    {
     "name": "stderr",
     "output_type": "stream",
     "text": [
      "C:\\Users\\gwent\\AppData\\Local\\Temp\\ipykernel_24816\\386060749.py:39: FutureWarning: The frame.append method is deprecated and will be removed from pandas in a future version. Use pandas.concat instead.\n",
      "  master_scores = master_scores.append(new_row, ignore_index=True)\n"
     ]
    },
    {
     "data": {
      "image/png": "[encoded data removed]",
      "text/plain": [
       "<Figure size 432x288 with 2 Axes>"
      ]
     },
     "metadata": {
      "needs_background": "light"
     },
     "output_type": "display_data"
    },
    {
     "name": "stderr",
     "output_type": "stream",
     "text": [
      "C:\\Users\\gwent\\AppData\\Local\\Temp\\ipykernel_24816\\386060749.py:39: FutureWarning: The frame.append method is deprecated and will be removed from pandas in a future version. Use pandas.concat instead.\n",
      "  master_scores = master_scores.append(new_row, ignore_index=True)\n"
     ]
    },
    {
     "data": {
      "image/png": "[encoded data removed]",
      "text/plain": [
       "<Figure size 432x288 with 2 Axes>"
      ]
     },
     "metadata": {
      "needs_background": "light"
     },
     "output_type": "display_data"
    }
   ],
   "source": [
    "# no class_weights='balanced' here as it is redundant\n",
    "rf= RandomForestClassifier(random_state=42)\n",
    "rf.fit(X_resampled_rus, y_resampled_rus)\n",
    "y_pred = rf.predict(X_test)\n",
    "add_to_master(\"RUS Random Forest (3)\", y_test, y_pred, binary=False)\n",
    "\n",
    "cm = confusion_matrix(y_test, y_pred, labels=rf.classes_)\n",
    "disp = ConfusionMatrixDisplay(confusion_matrix=cm, display_labels=rf.classes_)\n",
    "disp.plot()\n",
    "plt.title(\"RUS\")\n",
    "plt.show()\n",
    "\n",
    "rf= RandomForestClassifier(random_state=42)\n",
    "rf.fit(X_resampled_ros, y_resampled_ros)\n",
    "y_pred = rf.predict(X_test)\n",
    "add_to_master(\"ROS Random Forest (3)\", y_test, y_pred, binary=False)\n",
    "\n",
    "cm = confusion_matrix(y_test, y_pred, labels=rf.classes_)\n",
    "disp = ConfusionMatrixDisplay(confusion_matrix=cm, display_labels=rf.classes_)\n",
    "disp.plot()\n",
    "plt.title(\"ROS\")\n",
    "plt.show()"
   ]
  },
  {
   "cell_type": "code",
   "execution_count": 29,
   "id": "34a8fbd3",
   "metadata": {},
   "outputs": [
    {
     "data": {
      "text/html": [
       "<div>\n",
       "<style scoped>\n",
       "    .dataframe tbody tr th:only-of-type {\n",
       "        vertical-align: middle;\n",
       "    }\n",
       "\n",
       "    .dataframe tbody tr th {\n",
       "        vertical-align: top;\n",
       "    }\n",
       "\n",
       "    .dataframe thead th {\n",
       "        text-align: right;\n",
       "    }\n",
       "</style>\n",
       "<table border=\"1\" class=\"dataframe\">\n",
       "  <thead>\n",
       "    <tr style=\"text-align: right;\">\n",
       "      <th></th>\n",
       "      <th>Model</th>\n",
       "      <th>Recall</th>\n",
       "      <th>F1</th>\n",
       "      <th>Precision</th>\n",
       "      <th>Accuracy</th>\n",
       "    </tr>\n",
       "  </thead>\n",
       "  <tbody>\n",
       "    <tr>\n",
       "      <th>2</th>\n",
       "      <td>RUS Random Forest (3)</td>\n",
       "      <td>0.44</td>\n",
       "      <td>0.39</td>\n",
       "      <td>0.41</td>\n",
       "      <td>0.47</td>\n",
       "    </tr>\n",
       "    <tr>\n",
       "      <th>3</th>\n",
       "      <td>ROS Random Forest (3)</td>\n",
       "      <td>0.39</td>\n",
       "      <td>0.39</td>\n",
       "      <td>0.44</td>\n",
       "      <td>0.66</td>\n",
       "    </tr>\n",
       "    <tr>\n",
       "      <th>1</th>\n",
       "      <td>Random Forest Multiclass (3)</td>\n",
       "      <td>0.35</td>\n",
       "      <td>0.32</td>\n",
       "      <td>0.44</td>\n",
       "      <td>0.68</td>\n",
       "    </tr>\n",
       "    <tr>\n",
       "      <th>0</th>\n",
       "      <td>Random Forest Multiclass (6)</td>\n",
       "      <td>0.17</td>\n",
       "      <td>0.14</td>\n",
       "      <td>0.29</td>\n",
       "      <td>0.68</td>\n",
       "    </tr>\n",
       "  </tbody>\n",
       "</table>\n",
       "</div>"
      ],
      "text/plain": [
       "                          Model Recall    F1 Precision Accuracy\n",
       "2         RUS Random Forest (3)   0.44  0.39      0.41     0.47\n",
       "3         ROS Random Forest (3)   0.39  0.39      0.44     0.66\n",
       "1  Random Forest Multiclass (3)   0.35  0.32      0.44     0.68\n",
       "0  Random Forest Multiclass (6)   0.17  0.14      0.29     0.68"
      ]
     },
     "execution_count": 29,
     "metadata": {},
     "output_type": "execute_result"
    }
   ],
   "source": [
    "master_scores.sort_values('Recall', ascending=False).head()"
   ]
  },
  {
   "cell_type": "markdown",
   "id": "50ff9ec4",
   "metadata": {},
   "source": [
    "I would say recall is the most important metric for our purposes as it highlights the suckers. I'm not super pleased with how the RUS model had quite a few false positives for the 0's. I want to try these resampling methods on the two other algorithms."
   ]
  },
  {
   "cell_type": "markdown",
   "id": "1572c44e",
   "metadata": {},
   "source": [
    "## 6.4 Multinomial Logistic Regression with Regularization \n",
    "The regularization should address that pesk multicollinearity if it's an issue. Logistic regression's coefficients are typically pretty interpretable, but only if the underlying relationship is linear. However, regularization worsens the interpretability since Lasso will shrink some feature's coefficients to 0 (which is how it handles multicollinearity) and Ridge does not drive them to zero, but still distributes its penalty across correlated features evenly which results in less meaningful variability. "
   ]
  },
  {
   "cell_type": "markdown",
   "id": "f962ce7a",
   "metadata": {},
   "source": [
    "### 6.4.1 Lasso RUS"
   ]
  },
  {
   "cell_type": "code",
   "execution_count": 30,
   "id": "2c6c5036",
   "metadata": {},
   "outputs": [
    {
     "name": "stderr",
     "output_type": "stream",
     "text": [
      "C:\\Users\\gwent\\anaconda3\\lib\\site-packages\\sklearn\\linear_model\\_sag.py:352: ConvergenceWarning: The max_iter was reached which means the coef_ did not converge\n",
      "  warnings.warn(\n"
     ]
    }
   ],
   "source": [
    "# MULTINOMIAL LOGISTIC REGRESSION - RUS LASSO\n",
    "# scaling because we are applying regularization \n",
    "scaler = MinMaxScaler(feature_range=(0,5))\n",
    "\n",
    "scaler.fit(X_train)\n",
    "X_train_scaled = scaler.transform(X_resampled_rus)\n",
    "X_test_scaled = scaler.transform(X_test)\n",
    "\n",
    "# Instantiate model, multinomial can only handle saga solver when penalty=l1\n",
    "logs = LogisticRegression(multi_class='multinomial', penalty='l1', solver='saga').fit(X_train_scaled, y_resampled_rus)\n",
    "\n",
    "# Calculate Prediction\n",
    "y_pred = logs.predict(X_test_scaled)"
   ]
  },
  {
   "cell_type": "code",
   "execution_count": 31,
   "id": "de7b03f4",
   "metadata": {},
   "outputs": [
    {
     "data": {
      "image/png": "[encoded data removed]",
      "text/plain": [
       "<Figure size 432x288 with 2 Axes>"
      ]
     },
     "metadata": {
      "needs_background": "light"
     },
     "output_type": "display_data"
    }
   ],
   "source": [
    "cms = confusion_matrix(y_test, y_pred)\n",
    "disps = ConfusionMatrixDisplay(confusion_matrix=cms)\n",
    "disps.plot()\n",
    "plt.title('LASSO RUS')\n",
    "plt.show()"
   ]
  },
  {
   "cell_type": "code",
   "execution_count": 32,
   "id": "7f5c83f6",
   "metadata": {},
   "outputs": [
    {
     "name": "stderr",
     "output_type": "stream",
     "text": [
      "C:\\Users\\gwent\\AppData\\Local\\Temp\\ipykernel_24816\\386060749.py:39: FutureWarning: The frame.append method is deprecated and will be removed from pandas in a future version. Use pandas.concat instead.\n",
      "  master_scores = master_scores.append(new_row, ignore_index=True)\n"
     ]
    },
    {
     "data": {
      "text/html": [
       "<div>\n",
       "<style scoped>\n",
       "    .dataframe tbody tr th:only-of-type {\n",
       "        vertical-align: middle;\n",
       "    }\n",
       "\n",
       "    .dataframe tbody tr th {\n",
       "        vertical-align: top;\n",
       "    }\n",
       "\n",
       "    .dataframe thead th {\n",
       "        text-align: right;\n",
       "    }\n",
       "</style>\n",
       "<table border=\"1\" class=\"dataframe\">\n",
       "  <thead>\n",
       "    <tr style=\"text-align: right;\">\n",
       "      <th></th>\n",
       "      <th>Model</th>\n",
       "      <th>Recall</th>\n",
       "      <th>F1</th>\n",
       "      <th>Precision</th>\n",
       "      <th>Accuracy</th>\n",
       "    </tr>\n",
       "  </thead>\n",
       "  <tbody>\n",
       "    <tr>\n",
       "      <th>2</th>\n",
       "      <td>RUS Random Forest (3)</td>\n",
       "      <td>0.44</td>\n",
       "      <td>0.39</td>\n",
       "      <td>0.41</td>\n",
       "      <td>0.47</td>\n",
       "    </tr>\n",
       "    <tr>\n",
       "      <th>4</th>\n",
       "      <td>Lasso RUS</td>\n",
       "      <td>0.44</td>\n",
       "      <td>0.4</td>\n",
       "      <td>0.42</td>\n",
       "      <td>0.5</td>\n",
       "    </tr>\n",
       "    <tr>\n",
       "      <th>3</th>\n",
       "      <td>ROS Random Forest (3)</td>\n",
       "      <td>0.39</td>\n",
       "      <td>0.39</td>\n",
       "      <td>0.44</td>\n",
       "      <td>0.66</td>\n",
       "    </tr>\n",
       "    <tr>\n",
       "      <th>1</th>\n",
       "      <td>Random Forest Multiclass (3)</td>\n",
       "      <td>0.35</td>\n",
       "      <td>0.32</td>\n",
       "      <td>0.44</td>\n",
       "      <td>0.68</td>\n",
       "    </tr>\n",
       "    <tr>\n",
       "      <th>0</th>\n",
       "      <td>Random Forest Multiclass (6)</td>\n",
       "      <td>0.17</td>\n",
       "      <td>0.14</td>\n",
       "      <td>0.29</td>\n",
       "      <td>0.68</td>\n",
       "    </tr>\n",
       "  </tbody>\n",
       "</table>\n",
       "</div>"
      ],
      "text/plain": [
       "                          Model Recall    F1 Precision Accuracy\n",
       "2         RUS Random Forest (3)   0.44  0.39      0.41     0.47\n",
       "4                     Lasso RUS   0.44   0.4      0.42      0.5\n",
       "3         ROS Random Forest (3)   0.39  0.39      0.44     0.66\n",
       "1  Random Forest Multiclass (3)   0.35  0.32      0.44     0.68\n",
       "0  Random Forest Multiclass (6)   0.17  0.14      0.29     0.68"
      ]
     },
     "execution_count": 32,
     "metadata": {},
     "output_type": "execute_result"
    }
   ],
   "source": [
    "# add_to_master(model_description, binary=True, y_true, y_predicted, df)\n",
    "add_to_master('Lasso RUS', y_test, y_pred, binary=False)\n",
    "\n",
    "master_scores.sort_values('Recall', ascending=False).head()"
   ]
  },
  {
   "cell_type": "markdown",
   "id": "62e108c7",
   "metadata": {},
   "source": [
    "### 6.4.2 Lasso ROS"
   ]
  },
  {
   "cell_type": "code",
   "execution_count": 42,
   "id": "bb4f2ff2",
   "metadata": {},
   "outputs": [],
   "source": [
    "# MULTINOMIAL LOGISTIC REGRESSION - ROS LASSO\n",
    "# scaling because we are applying regularization \n",
    "scaler = MinMaxScaler(feature_range=(0,5))\n",
    "\n",
    "scaler.fit(X_train)\n",
    "X_train_scaled = scaler.transform(X_resampled_ros)\n",
    "X_test_scaled = scaler.transform(X_test)\n",
    "\n",
    "# Instantiate model, multinomial can only handle saga solver when penalty=l1\n",
    "log_lasso_ros = LogisticRegression(multi_class='multinomial', penalty='l1', solver='saga').fit(X_train_scaled, y_resampled_ros)\n",
    "\n",
    "# Calculate Prediction\n",
    "y_pred = logs.predict(X_test_scaled)"
   ]
  },
  {
   "cell_type": "code",
   "execution_count": 34,
   "id": "c1fb6711",
   "metadata": {},
   "outputs": [
    {
     "name": "stderr",
     "output_type": "stream",
     "text": [
      "C:\\Users\\gwent\\AppData\\Local\\Temp\\ipykernel_24816\\386060749.py:39: FutureWarning: The frame.append method is deprecated and will be removed from pandas in a future version. Use pandas.concat instead.\n",
      "  master_scores = master_scores.append(new_row, ignore_index=True)\n"
     ]
    },
    {
     "data": {
      "text/html": [
       "<div>\n",
       "<style scoped>\n",
       "    .dataframe tbody tr th:only-of-type {\n",
       "        vertical-align: middle;\n",
       "    }\n",
       "\n",
       "    .dataframe tbody tr th {\n",
       "        vertical-align: top;\n",
       "    }\n",
       "\n",
       "    .dataframe thead th {\n",
       "        text-align: right;\n",
       "    }\n",
       "</style>\n",
       "<table border=\"1\" class=\"dataframe\">\n",
       "  <thead>\n",
       "    <tr style=\"text-align: right;\">\n",
       "      <th></th>\n",
       "      <th>Model</th>\n",
       "      <th>Recall</th>\n",
       "      <th>F1</th>\n",
       "      <th>Precision</th>\n",
       "      <th>Accuracy</th>\n",
       "    </tr>\n",
       "  </thead>\n",
       "  <tbody>\n",
       "    <tr>\n",
       "      <th>2</th>\n",
       "      <td>RUS Random Forest (3)</td>\n",
       "      <td>0.44</td>\n",
       "      <td>0.39</td>\n",
       "      <td>0.41</td>\n",
       "      <td>0.47</td>\n",
       "    </tr>\n",
       "    <tr>\n",
       "      <th>4</th>\n",
       "      <td>Lasso RUS</td>\n",
       "      <td>0.44</td>\n",
       "      <td>0.4</td>\n",
       "      <td>0.42</td>\n",
       "      <td>0.5</td>\n",
       "    </tr>\n",
       "    <tr>\n",
       "      <th>5</th>\n",
       "      <td>Lasso ROS</td>\n",
       "      <td>0.43</td>\n",
       "      <td>0.39</td>\n",
       "      <td>0.41</td>\n",
       "      <td>0.49</td>\n",
       "    </tr>\n",
       "    <tr>\n",
       "      <th>3</th>\n",
       "      <td>ROS Random Forest (3)</td>\n",
       "      <td>0.39</td>\n",
       "      <td>0.39</td>\n",
       "      <td>0.44</td>\n",
       "      <td>0.66</td>\n",
       "    </tr>\n",
       "    <tr>\n",
       "      <th>1</th>\n",
       "      <td>Random Forest Multiclass (3)</td>\n",
       "      <td>0.35</td>\n",
       "      <td>0.32</td>\n",
       "      <td>0.44</td>\n",
       "      <td>0.68</td>\n",
       "    </tr>\n",
       "  </tbody>\n",
       "</table>\n",
       "</div>"
      ],
      "text/plain": [
       "                          Model Recall    F1 Precision Accuracy\n",
       "2         RUS Random Forest (3)   0.44  0.39      0.41     0.47\n",
       "4                     Lasso RUS   0.44   0.4      0.42      0.5\n",
       "5                     Lasso ROS   0.43  0.39      0.41     0.49\n",
       "3         ROS Random Forest (3)   0.39  0.39      0.44     0.66\n",
       "1  Random Forest Multiclass (3)   0.35  0.32      0.44     0.68"
      ]
     },
     "execution_count": 34,
     "metadata": {},
     "output_type": "execute_result"
    }
   ],
   "source": [
    "# add_to_master(model_description, binary=True, y_true, y_predicted, df)\n",
    "add_to_master('LASSO ROS', y_test, y_pred, binary=False)\n",
    "\n",
    "master_scores.sort_values('Recall', ascending=False).head()"
   ]
  },
  {
   "cell_type": "markdown",
   "id": "9005f5d4",
   "metadata": {},
   "source": [
    "### 6.4.3 Ridge RUS"
   ]
  },
  {
   "cell_type": "code",
   "execution_count": 35,
   "id": "960c1a8c",
   "metadata": {},
   "outputs": [],
   "source": [
    "# MULTINOMIAL LOGISTIC REGRESSION - RUS RIDGE\n",
    "# scaling because we are applying regularization \n",
    "scaler = MinMaxScaler(feature_range=(0,5))\n",
    "\n",
    "scaler.fit(X_train)\n",
    "X_train_scaled = scaler.transform(X_resampled_rus)\n",
    "X_test_scaled = scaler.transform(X_test)\n",
    "\n",
    "# Instantiate model, multinomial can only handle saga solver when penalty=l1\n",
    "logs = LogisticRegression(multi_class='multinomial', penalty='l2', solver='lbfgs', max_iter=200).fit(X_train_scaled, y_resampled_rus)\n",
    "\n",
    "# Calculate Prediction\n",
    "y_pred = logs.predict(X_test_scaled)"
   ]
  },
  {
   "cell_type": "code",
   "execution_count": 36,
   "id": "b00a3b70",
   "metadata": {},
   "outputs": [
    {
     "data": {
      "image/png": "[encoded data removed]",
      "text/plain": [
       "<Figure size 432x288 with 2 Axes>"
      ]
     },
     "metadata": {
      "needs_background": "light"
     },
     "output_type": "display_data"
    }
   ],
   "source": [
    "cms = confusion_matrix(y_test, y_pred)\n",
    "disps = ConfusionMatrixDisplay(confusion_matrix=cms)\n",
    "disps.plot()\n",
    "plt.title('RIDGE RUS')\n",
    "plt.show()"
   ]
  },
  {
   "cell_type": "code",
   "execution_count": 37,
   "id": "024c0f93",
   "metadata": {},
   "outputs": [
    {
     "name": "stderr",
     "output_type": "stream",
     "text": [
      "C:\\Users\\gwent\\AppData\\Local\\Temp\\ipykernel_24816\\386060749.py:39: FutureWarning: The frame.append method is deprecated and will be removed from pandas in a future version. Use pandas.concat instead.\n",
      "  master_scores = master_scores.append(new_row, ignore_index=True)\n"
     ]
    },
    {
     "data": {
      "text/html": [
       "<div>\n",
       "<style scoped>\n",
       "    .dataframe tbody tr th:only-of-type {\n",
       "        vertical-align: middle;\n",
       "    }\n",
       "\n",
       "    .dataframe tbody tr th {\n",
       "        vertical-align: top;\n",
       "    }\n",
       "\n",
       "    .dataframe thead th {\n",
       "        text-align: right;\n",
       "    }\n",
       "</style>\n",
       "<table border=\"1\" class=\"dataframe\">\n",
       "  <thead>\n",
       "    <tr style=\"text-align: right;\">\n",
       "      <th></th>\n",
       "      <th>Model</th>\n",
       "      <th>Recall</th>\n",
       "      <th>F1</th>\n",
       "      <th>Precision</th>\n",
       "      <th>Accuracy</th>\n",
       "    </tr>\n",
       "  </thead>\n",
       "  <tbody>\n",
       "    <tr>\n",
       "      <th>2</th>\n",
       "      <td>RUS Random Forest (3)</td>\n",
       "      <td>0.44</td>\n",
       "      <td>0.39</td>\n",
       "      <td>0.41</td>\n",
       "      <td>0.47</td>\n",
       "    </tr>\n",
       "    <tr>\n",
       "      <th>4</th>\n",
       "      <td>Lasso RUS</td>\n",
       "      <td>0.44</td>\n",
       "      <td>0.4</td>\n",
       "      <td>0.42</td>\n",
       "      <td>0.5</td>\n",
       "    </tr>\n",
       "    <tr>\n",
       "      <th>6</th>\n",
       "      <td>RIDGE RUS</td>\n",
       "      <td>0.44</td>\n",
       "      <td>0.4</td>\n",
       "      <td>0.42</td>\n",
       "      <td>0.5</td>\n",
       "    </tr>\n",
       "    <tr>\n",
       "      <th>5</th>\n",
       "      <td>Lasso ROS</td>\n",
       "      <td>0.43</td>\n",
       "      <td>0.39</td>\n",
       "      <td>0.41</td>\n",
       "      <td>0.49</td>\n",
       "    </tr>\n",
       "    <tr>\n",
       "      <th>3</th>\n",
       "      <td>ROS Random Forest (3)</td>\n",
       "      <td>0.39</td>\n",
       "      <td>0.39</td>\n",
       "      <td>0.44</td>\n",
       "      <td>0.66</td>\n",
       "    </tr>\n",
       "  </tbody>\n",
       "</table>\n",
       "</div>"
      ],
      "text/plain": [
       "                   Model Recall    F1 Precision Accuracy\n",
       "2  RUS Random Forest (3)   0.44  0.39      0.41     0.47\n",
       "4              Lasso RUS   0.44   0.4      0.42      0.5\n",
       "6              RIDGE RUS   0.44   0.4      0.42      0.5\n",
       "5              Lasso ROS   0.43  0.39      0.41     0.49\n",
       "3  ROS Random Forest (3)   0.39  0.39      0.44     0.66"
      ]
     },
     "execution_count": 37,
     "metadata": {},
     "output_type": "execute_result"
    }
   ],
   "source": [
    "# add_to_master(model_description, binary=True, y_true, y_predicted, df)\n",
    "add_to_master('RIDGE RUS', y_test, y_pred, binary=False)\n",
    "\n",
    "master_scores.sort_values('Recall', ascending=False).head()"
   ]
  },
  {
   "cell_type": "markdown",
   "id": "277d4efa",
   "metadata": {},
   "source": [
    "### 6.4.1 Ridge ROS"
   ]
  },
  {
   "cell_type": "code",
   "execution_count": 38,
   "id": "956ed0a0",
   "metadata": {},
   "outputs": [
    {
     "name": "stderr",
     "output_type": "stream",
     "text": [
      "C:\\Users\\gwent\\anaconda3\\lib\\site-packages\\sklearn\\linear_model\\_logistic.py:814: ConvergenceWarning: lbfgs failed to converge (status=1):\n",
      "STOP: TOTAL NO. of ITERATIONS REACHED LIMIT.\n",
      "\n",
      "Increase the number of iterations (max_iter) or scale the data as shown in:\n",
      "    https://scikit-learn.org/stable/modules/preprocessing.html\n",
      "Please also refer to the documentation for alternative solver options:\n",
      "    https://scikit-learn.org/stable/modules/linear_model.html#logistic-regression\n",
      "  n_iter_i = _check_optimize_result(\n"
     ]
    }
   ],
   "source": [
    "# ROS RIDGE\n",
    "# scaling because we are applying regularization \n",
    "scaler = MinMaxScaler(feature_range=(0,5))\n",
    "\n",
    "scaler.fit(X_train)\n",
    "X_train_scaled = scaler.transform(X_resampled_ros)\n",
    "X_test_scaled = scaler.transform(X_test)\n",
    "\n",
    "# Instantiate model, multinomial can only handle saga solver when penalty=l1\n",
    "logs = LogisticRegression(multi_class='multinomial', penalty='l2', solver='lbfgs', max_iter=200).fit(X_train_scaled, y_resampled_ros)\n",
    "\n",
    "# Calculate Prediction\n",
    "y_pred = logs.predict(X_test_scaled)"
   ]
  },
  {
   "cell_type": "code",
   "execution_count": 39,
   "id": "c3131817",
   "metadata": {},
   "outputs": [
    {
     "name": "stderr",
     "output_type": "stream",
     "text": [
      "C:\\Users\\gwent\\AppData\\Local\\Temp\\ipykernel_24816\\386060749.py:39: FutureWarning: The frame.append method is deprecated and will be removed from pandas in a future version. Use pandas.concat instead.\n",
      "  master_scores = master_scores.append(new_row, ignore_index=True)\n"
     ]
    },
    {
     "data": {
      "text/html": [
       "<div>\n",
       "<style scoped>\n",
       "    .dataframe tbody tr th:only-of-type {\n",
       "        vertical-align: middle;\n",
       "    }\n",
       "\n",
       "    .dataframe tbody tr th {\n",
       "        vertical-align: top;\n",
       "    }\n",
       "\n",
       "    .dataframe thead th {\n",
       "        text-align: right;\n",
       "    }\n",
       "</style>\n",
       "<table border=\"1\" class=\"dataframe\">\n",
       "  <thead>\n",
       "    <tr style=\"text-align: right;\">\n",
       "      <th></th>\n",
       "      <th>Model</th>\n",
       "      <th>Recall</th>\n",
       "      <th>F1</th>\n",
       "      <th>Precision</th>\n",
       "      <th>Accuracy</th>\n",
       "    </tr>\n",
       "  </thead>\n",
       "  <tbody>\n",
       "    <tr>\n",
       "      <th>2</th>\n",
       "      <td>RUS Random Forest (3)</td>\n",
       "      <td>0.44</td>\n",
       "      <td>0.39</td>\n",
       "      <td>0.41</td>\n",
       "      <td>0.47</td>\n",
       "    </tr>\n",
       "    <tr>\n",
       "      <th>4</th>\n",
       "      <td>Lasso RUS</td>\n",
       "      <td>0.44</td>\n",
       "      <td>0.4</td>\n",
       "      <td>0.42</td>\n",
       "      <td>0.5</td>\n",
       "    </tr>\n",
       "    <tr>\n",
       "      <th>6</th>\n",
       "      <td>RIDGE RUS</td>\n",
       "      <td>0.44</td>\n",
       "      <td>0.4</td>\n",
       "      <td>0.42</td>\n",
       "      <td>0.5</td>\n",
       "    </tr>\n",
       "    <tr>\n",
       "      <th>5</th>\n",
       "      <td>Lasso ROS</td>\n",
       "      <td>0.43</td>\n",
       "      <td>0.39</td>\n",
       "      <td>0.41</td>\n",
       "      <td>0.49</td>\n",
       "    </tr>\n",
       "    <tr>\n",
       "      <th>7</th>\n",
       "      <td>Ridge Multinomial Logistic Regression ROS</td>\n",
       "      <td>0.43</td>\n",
       "      <td>0.39</td>\n",
       "      <td>0.41</td>\n",
       "      <td>0.49</td>\n",
       "    </tr>\n",
       "  </tbody>\n",
       "</table>\n",
       "</div>"
      ],
      "text/plain": [
       "                                       Model Recall    F1 Precision Accuracy\n",
       "2                      RUS Random Forest (3)   0.44  0.39      0.41     0.47\n",
       "4                                  Lasso RUS   0.44   0.4      0.42      0.5\n",
       "6                                  RIDGE RUS   0.44   0.4      0.42      0.5\n",
       "5                                  Lasso ROS   0.43  0.39      0.41     0.49\n",
       "7  Ridge Multinomial Logistic Regression ROS   0.43  0.39      0.41     0.49"
      ]
     },
     "execution_count": 39,
     "metadata": {},
     "output_type": "execute_result"
    }
   ],
   "source": [
    "# add_to_master(model_description, binary=True, y_true, y_predicted, df)\n",
    "add_to_master('RIDGE ROS', y_test, y_pred, binary=False)\n",
    "\n",
    "master_scores.sort_values('Recall', ascending=False).head()"
   ]
  },
  {
   "cell_type": "markdown",
   "id": "2ea37f0d",
   "metadata": {},
   "source": [
    "Certainly some improvement. Starting to see some higher recall scores without having to sacrific accuracy as much. Still not doing *well*, though. "
   ]
  },
  {
   "cell_type": "markdown",
   "id": "6a618fd9",
   "metadata": {},
   "source": [
    "## 6.4 Gradient Boost\n",
    "I'm expecting this to be the top performer. Great with multicollinearity, class imbalance, nonlinear relationships, and can highlight feature importance. Still suffers from a lack of absolute interpretabliity like other ensemble methods. "
   ]
  },
  {
   "cell_type": "code",
   "execution_count": 40,
   "id": "20539007",
   "metadata": {},
   "outputs": [
    {
     "name": "stderr",
     "output_type": "stream",
     "text": [
      "C:\\Users\\gwent\\AppData\\Local\\Temp\\ipykernel_24816\\386060749.py:39: FutureWarning: The frame.append method is deprecated and will be removed from pandas in a future version. Use pandas.concat instead.\n",
      "  master_scores = master_scores.append(new_row, ignore_index=True)\n"
     ]
    },
    {
     "data": {
      "image/png": "[encoded data removed]",
      "text/plain": [
       "<Figure size 432x288 with 2 Axes>"
      ]
     },
     "metadata": {
      "needs_background": "light"
     },
     "output_type": "display_data"
    },
    {
     "name": "stderr",
     "output_type": "stream",
     "text": [
      "C:\\Users\\gwent\\AppData\\Local\\Temp\\ipykernel_24816\\386060749.py:39: FutureWarning: The frame.append method is deprecated and will be removed from pandas in a future version. Use pandas.concat instead.\n",
      "  master_scores = master_scores.append(new_row, ignore_index=True)\n"
     ]
    },
    {
     "data": {
      "image/png": "[encoded data removed]",
      "text/plain": [
       "<Figure size 432x288 with 2 Axes>"
      ]
     },
     "metadata": {
      "needs_background": "light"
     },
     "output_type": "display_data"
    }
   ],
   "source": [
    "# RUS\n",
    "xgb_clf = xgb.XGBClassifier()\n",
    "xgb_clf.fit(X_resampled_rus, y_resampled_rus)\n",
    "y_pred = xgb_clf.predict(X_test)\n",
    "add_to_master('XGB RUS', y_test, y_pred, binary=False)\n",
    "\n",
    "cms = confusion_matrix(y_test, y_pred)\n",
    "disps = ConfusionMatrixDisplay(confusion_matrix=cms)\n",
    "disps.plot()\n",
    "plt.title('XGB RUS')\n",
    "plt.show()\n",
    "\n",
    "# ROS\n",
    "xgb_clf = xgb.XGBClassifier()\n",
    "xgb_clf.fit(X_resampled_ros, y_resampled_ros)\n",
    "y_pred = xgb_clf.predict(X_test)\n",
    "add_to_master('XGB ROS', y_test, y_pred, binary=False)\n",
    "\n",
    "cms = confusion_matrix(y_test, y_pred)\n",
    "disps = ConfusionMatrixDisplay(confusion_matrix=cms)\n",
    "disps.plot()\n",
    "plt.title('XGB ROS')\n",
    "plt.show()"
   ]
  },
  {
   "cell_type": "code",
   "execution_count": 43,
   "id": "ff68b6f1",
   "metadata": {},
   "outputs": [
    {
     "data": {
      "text/html": [
       "<div>\n",
       "<style scoped>\n",
       "    .dataframe tbody tr th:only-of-type {\n",
       "        vertical-align: middle;\n",
       "    }\n",
       "\n",
       "    .dataframe tbody tr th {\n",
       "        vertical-align: top;\n",
       "    }\n",
       "\n",
       "    .dataframe thead th {\n",
       "        text-align: right;\n",
       "    }\n",
       "</style>\n",
       "<table border=\"1\" class=\"dataframe\">\n",
       "  <thead>\n",
       "    <tr style=\"text-align: right;\">\n",
       "      <th></th>\n",
       "      <th>Model</th>\n",
       "      <th>Recall</th>\n",
       "      <th>F1</th>\n",
       "      <th>Precision</th>\n",
       "      <th>Accuracy</th>\n",
       "    </tr>\n",
       "  </thead>\n",
       "  <tbody>\n",
       "    <tr>\n",
       "      <th>4</th>\n",
       "      <td>Lasso RUS</td>\n",
       "      <td>0.44</td>\n",
       "      <td>0.4</td>\n",
       "      <td>0.42</td>\n",
       "      <td>0.5</td>\n",
       "    </tr>\n",
       "    <tr>\n",
       "      <th>6</th>\n",
       "      <td>RIDGE RUS</td>\n",
       "      <td>0.44</td>\n",
       "      <td>0.4</td>\n",
       "      <td>0.42</td>\n",
       "      <td>0.5</td>\n",
       "    </tr>\n",
       "    <tr>\n",
       "      <th>2</th>\n",
       "      <td>RUS Random Forest (3)</td>\n",
       "      <td>0.44</td>\n",
       "      <td>0.39</td>\n",
       "      <td>0.41</td>\n",
       "      <td>0.47</td>\n",
       "    </tr>\n",
       "    <tr>\n",
       "      <th>5</th>\n",
       "      <td>Lasso ROS</td>\n",
       "      <td>0.43</td>\n",
       "      <td>0.39</td>\n",
       "      <td>0.41</td>\n",
       "      <td>0.49</td>\n",
       "    </tr>\n",
       "    <tr>\n",
       "      <th>7</th>\n",
       "      <td>Ridge Multinomial Logistic Regression ROS</td>\n",
       "      <td>0.43</td>\n",
       "      <td>0.39</td>\n",
       "      <td>0.41</td>\n",
       "      <td>0.49</td>\n",
       "    </tr>\n",
       "    <tr>\n",
       "      <th>9</th>\n",
       "      <td>XGB ROS</td>\n",
       "      <td>0.41</td>\n",
       "      <td>0.41</td>\n",
       "      <td>0.41</td>\n",
       "      <td>0.59</td>\n",
       "    </tr>\n",
       "    <tr>\n",
       "      <th>8</th>\n",
       "      <td>XGB RUS</td>\n",
       "      <td>0.41</td>\n",
       "      <td>0.37</td>\n",
       "      <td>0.39</td>\n",
       "      <td>0.44</td>\n",
       "    </tr>\n",
       "    <tr>\n",
       "      <th>3</th>\n",
       "      <td>ROS Random Forest (3)</td>\n",
       "      <td>0.39</td>\n",
       "      <td>0.39</td>\n",
       "      <td>0.44</td>\n",
       "      <td>0.66</td>\n",
       "    </tr>\n",
       "    <tr>\n",
       "      <th>1</th>\n",
       "      <td>Random Forest Multiclass (3)</td>\n",
       "      <td>0.35</td>\n",
       "      <td>0.32</td>\n",
       "      <td>0.44</td>\n",
       "      <td>0.68</td>\n",
       "    </tr>\n",
       "    <tr>\n",
       "      <th>0</th>\n",
       "      <td>Random Forest Multiclass (6)</td>\n",
       "      <td>0.17</td>\n",
       "      <td>0.14</td>\n",
       "      <td>0.29</td>\n",
       "      <td>0.68</td>\n",
       "    </tr>\n",
       "  </tbody>\n",
       "</table>\n",
       "</div>"
      ],
      "text/plain": [
       "                                       Model Recall    F1 Precision Accuracy\n",
       "4                                  Lasso RUS   0.44   0.4      0.42      0.5\n",
       "6                                  RIDGE RUS   0.44   0.4      0.42      0.5\n",
       "2                      RUS Random Forest (3)   0.44  0.39      0.41     0.47\n",
       "5                                  Lasso ROS   0.43  0.39      0.41     0.49\n",
       "7  Ridge Multinomial Logistic Regression ROS   0.43  0.39      0.41     0.49\n",
       "9                                    XGB ROS   0.41  0.41      0.41     0.59\n",
       "8                                    XGB RUS   0.41  0.37      0.39     0.44\n",
       "3                      ROS Random Forest (3)   0.39  0.39      0.44     0.66\n",
       "1               Random Forest Multiclass (3)   0.35  0.32      0.44     0.68\n",
       "0               Random Forest Multiclass (6)   0.17  0.14      0.29     0.68"
      ]
     },
     "execution_count": 43,
     "metadata": {},
     "output_type": "execute_result"
    }
   ],
   "source": [
    "master_scores.sort_values(['Recall', 'Accuracy'], ascending=False)"
   ]
  },
  {
   "cell_type": "markdown",
   "id": "432c9dda",
   "metadata": {},
   "source": [
    "## 6.5 Tuning Hyperparameter on Best-Performing Model Thus Far"
   ]
  },
  {
   "cell_type": "markdown",
   "id": "02108173",
   "metadata": {},
   "source": [
    "Surprisingly, Lasso Regularized Multinomial Logistic Regression trained on Randomly Under-Sampled majority classes has won! The only issue is, I don't think I can really tune it that much more. I guess I'll see if changing C has any effect. Ridge If not, I will try to tune the XGB ROS model as it has the next highest recall/accuracy pair. "
   ]
  },
  {
   "cell_type": "code",
   "execution_count": 44,
   "id": "012c0431",
   "metadata": {},
   "outputs": [
    {
     "data": {
      "text/plain": [
       "LogisticRegression(multi_class='multinomial', penalty='l1', solver='saga')"
      ]
     },
     "execution_count": 44,
     "metadata": {},
     "output_type": "execute_result"
    }
   ],
   "source": [
    "# MULTINOMIAL LOGISTIC REGRESSION - ROS LASSO\n",
    "# scaling because we are applying regularization \n",
    "scaler = MinMaxScaler(feature_range=(0,5))\n",
    "\n",
    "scaler.fit(X_train)\n",
    "X_train_scaled = scaler.transform(X_resampled_ros)\n",
    "X_test_scaled = scaler.transform(X_test)\n",
    "\n",
    "# Instantiate model, multinomial can only handle saga solver when penalty=l1\n",
    "log_lasso_ros = LogisticRegression(multi_class='multinomial', penalty='l1', solver='saga').fit(X_train_scaled, y_resampled_ros)\n",
    "\n",
    "# Calculate Prediction\n",
    "y_pred = logs.predict(X_test_scaled)"
   ]
  },
  {
   "cell_type": "code",
   "execution_count": 56,
   "id": "d7570fce",
   "metadata": {},
   "outputs": [
    {
     "data": {
      "text/html": [
       "<div>\n",
       "<style scoped>\n",
       "    .dataframe tbody tr th:only-of-type {\n",
       "        vertical-align: middle;\n",
       "    }\n",
       "\n",
       "    .dataframe tbody tr th {\n",
       "        vertical-align: top;\n",
       "    }\n",
       "\n",
       "    .dataframe thead th {\n",
       "        text-align: right;\n",
       "    }\n",
       "</style>\n",
       "<table border=\"1\" class=\"dataframe\">\n",
       "  <thead>\n",
       "    <tr style=\"text-align: right;\">\n",
       "      <th></th>\n",
       "      <th>mean_fit_time</th>\n",
       "      <th>std_fit_time</th>\n",
       "      <th>mean_score_time</th>\n",
       "      <th>std_score_time</th>\n",
       "      <th>param_C</th>\n",
       "      <th>params</th>\n",
       "      <th>split0_test_score</th>\n",
       "      <th>split1_test_score</th>\n",
       "      <th>split2_test_score</th>\n",
       "      <th>split3_test_score</th>\n",
       "      <th>split4_test_score</th>\n",
       "      <th>mean_test_score</th>\n",
       "      <th>std_test_score</th>\n",
       "      <th>rank_test_score</th>\n",
       "    </tr>\n",
       "  </thead>\n",
       "  <tbody>\n",
       "    <tr>\n",
       "      <th>0</th>\n",
       "      <td>0.106919</td>\n",
       "      <td>0.006101</td>\n",
       "      <td>0.001397</td>\n",
       "      <td>0.000477</td>\n",
       "      <td>0.01</td>\n",
       "      <td>{'C': 0.01}</td>\n",
       "      <td>0.471110</td>\n",
       "      <td>0.480436</td>\n",
       "      <td>0.468181</td>\n",
       "      <td>0.467024</td>\n",
       "      <td>0.489877</td>\n",
       "      <td>0.475326</td>\n",
       "      <td>0.008667</td>\n",
       "      <td>5</td>\n",
       "    </tr>\n",
       "    <tr>\n",
       "      <th>1</th>\n",
       "      <td>0.161176</td>\n",
       "      <td>0.027609</td>\n",
       "      <td>0.001188</td>\n",
       "      <td>0.000403</td>\n",
       "      <td>0.1</td>\n",
       "      <td>{'C': 0.1}</td>\n",
       "      <td>0.479695</td>\n",
       "      <td>0.482895</td>\n",
       "      <td>0.490847</td>\n",
       "      <td>0.462106</td>\n",
       "      <td>0.474546</td>\n",
       "      <td>0.478018</td>\n",
       "      <td>0.009554</td>\n",
       "      <td>4</td>\n",
       "    </tr>\n",
       "    <tr>\n",
       "      <th>2</th>\n",
       "      <td>0.430473</td>\n",
       "      <td>0.022143</td>\n",
       "      <td>0.001536</td>\n",
       "      <td>0.000524</td>\n",
       "      <td>1</td>\n",
       "      <td>{'C': 1}</td>\n",
       "      <td>0.482758</td>\n",
       "      <td>0.485349</td>\n",
       "      <td>0.487175</td>\n",
       "      <td>0.464554</td>\n",
       "      <td>0.476990</td>\n",
       "      <td>0.479365</td>\n",
       "      <td>0.008165</td>\n",
       "      <td>1</td>\n",
       "    </tr>\n",
       "    <tr>\n",
       "      <th>3</th>\n",
       "      <td>0.440055</td>\n",
       "      <td>0.007861</td>\n",
       "      <td>0.000966</td>\n",
       "      <td>0.000003</td>\n",
       "      <td>10</td>\n",
       "      <td>{'C': 10}</td>\n",
       "      <td>0.482758</td>\n",
       "      <td>0.485349</td>\n",
       "      <td>0.487176</td>\n",
       "      <td>0.464554</td>\n",
       "      <td>0.476377</td>\n",
       "      <td>0.479243</td>\n",
       "      <td>0.008204</td>\n",
       "      <td>2</td>\n",
       "    </tr>\n",
       "    <tr>\n",
       "      <th>4</th>\n",
       "      <td>0.428678</td>\n",
       "      <td>0.001713</td>\n",
       "      <td>0.001172</td>\n",
       "      <td>0.000396</td>\n",
       "      <td>100</td>\n",
       "      <td>{'C': 100}</td>\n",
       "      <td>0.482758</td>\n",
       "      <td>0.484124</td>\n",
       "      <td>0.487176</td>\n",
       "      <td>0.464554</td>\n",
       "      <td>0.476377</td>\n",
       "      <td>0.478998</td>\n",
       "      <td>0.008035</td>\n",
       "      <td>3</td>\n",
       "    </tr>\n",
       "  </tbody>\n",
       "</table>\n",
       "</div>"
      ],
      "text/plain": [
       "   mean_fit_time  std_fit_time  mean_score_time  std_score_time param_C  \\\n",
       "0       0.106919      0.006101         0.001397        0.000477    0.01   \n",
       "1       0.161176      0.027609         0.001188        0.000403     0.1   \n",
       "2       0.430473      0.022143         0.001536        0.000524       1   \n",
       "3       0.440055      0.007861         0.000966        0.000003      10   \n",
       "4       0.428678      0.001713         0.001172        0.000396     100   \n",
       "\n",
       "        params  split0_test_score  split1_test_score  split2_test_score  \\\n",
       "0  {'C': 0.01}           0.471110           0.480436           0.468181   \n",
       "1   {'C': 0.1}           0.479695           0.482895           0.490847   \n",
       "2     {'C': 1}           0.482758           0.485349           0.487175   \n",
       "3    {'C': 10}           0.482758           0.485349           0.487176   \n",
       "4   {'C': 100}           0.482758           0.484124           0.487176   \n",
       "\n",
       "   split3_test_score  split4_test_score  mean_test_score  std_test_score  \\\n",
       "0           0.467024           0.489877         0.475326        0.008667   \n",
       "1           0.462106           0.474546         0.478018        0.009554   \n",
       "2           0.464554           0.476990         0.479365        0.008165   \n",
       "3           0.464554           0.476377         0.479243        0.008204   \n",
       "4           0.464554           0.476377         0.478998        0.008035   \n",
       "\n",
       "   rank_test_score  \n",
       "0                5  \n",
       "1                4  \n",
       "2                1  \n",
       "3                2  \n",
       "4                3  "
      ]
     },
     "execution_count": 56,
     "metadata": {},
     "output_type": "execute_result"
    }
   ],
   "source": [
    "param_grid = {'C': [0.01, 0.1, 1, 10, 100]}\n",
    "grid_search = GridSearchCV(log_lasso_ros, param_grid, cv=5, scoring='recall_macro')\n",
    "\n",
    "grid_search.fit(X_train_scaled, y_resampled_ros)\n",
    "results = pd.DataFrame(grid_search.cv_results_)\n",
    "results.head()"
   ]
  },
  {
   "cell_type": "markdown",
   "id": "566c5af7",
   "metadata": {},
   "source": [
    "They were all fairly close in score, but C=0.01 has the lowest fit time, which isn't super important for our present problem, especially as we're talking fractions of a second here. But for best practices and sake of efficiency, I'm going to roll the dice with C=0.01."
   ]
  },
  {
   "cell_type": "code",
   "execution_count": 58,
   "id": "46de902e",
   "metadata": {},
   "outputs": [
    {
     "data": {
      "text/html": [
       "<div>\n",
       "<style scoped>\n",
       "    .dataframe tbody tr th:only-of-type {\n",
       "        vertical-align: middle;\n",
       "    }\n",
       "\n",
       "    .dataframe tbody tr th {\n",
       "        vertical-align: top;\n",
       "    }\n",
       "\n",
       "    .dataframe thead th {\n",
       "        text-align: right;\n",
       "    }\n",
       "</style>\n",
       "<table border=\"1\" class=\"dataframe\">\n",
       "  <thead>\n",
       "    <tr style=\"text-align: right;\">\n",
       "      <th></th>\n",
       "      <th>Model</th>\n",
       "      <th>Recall</th>\n",
       "      <th>F1</th>\n",
       "      <th>Precision</th>\n",
       "      <th>Accuracy</th>\n",
       "    </tr>\n",
       "  </thead>\n",
       "  <tbody>\n",
       "    <tr>\n",
       "      <th>10</th>\n",
       "      <td>Tuned Lasso ROS</td>\n",
       "      <td>0.44</td>\n",
       "      <td>0.4</td>\n",
       "      <td>0.41</td>\n",
       "      <td>0.52</td>\n",
       "    </tr>\n",
       "    <tr>\n",
       "      <th>11</th>\n",
       "      <td>Tuned Lasso ROS</td>\n",
       "      <td>0.44</td>\n",
       "      <td>0.4</td>\n",
       "      <td>0.41</td>\n",
       "      <td>0.52</td>\n",
       "    </tr>\n",
       "    <tr>\n",
       "      <th>13</th>\n",
       "      <td>Lasso ROS Tuned</td>\n",
       "      <td>0.44</td>\n",
       "      <td>0.4</td>\n",
       "      <td>0.41</td>\n",
       "      <td>0.52</td>\n",
       "    </tr>\n",
       "    <tr>\n",
       "      <th>14</th>\n",
       "      <td>Lasso ROS Tuned</td>\n",
       "      <td>0.44</td>\n",
       "      <td>0.4</td>\n",
       "      <td>0.41</td>\n",
       "      <td>0.52</td>\n",
       "    </tr>\n",
       "    <tr>\n",
       "      <th>4</th>\n",
       "      <td>Lasso RUS</td>\n",
       "      <td>0.44</td>\n",
       "      <td>0.4</td>\n",
       "      <td>0.42</td>\n",
       "      <td>0.5</td>\n",
       "    </tr>\n",
       "    <tr>\n",
       "      <th>6</th>\n",
       "      <td>RIDGE RUS</td>\n",
       "      <td>0.44</td>\n",
       "      <td>0.4</td>\n",
       "      <td>0.42</td>\n",
       "      <td>0.5</td>\n",
       "    </tr>\n",
       "    <tr>\n",
       "      <th>2</th>\n",
       "      <td>RUS Random Forest (3)</td>\n",
       "      <td>0.44</td>\n",
       "      <td>0.39</td>\n",
       "      <td>0.41</td>\n",
       "      <td>0.47</td>\n",
       "    </tr>\n",
       "    <tr>\n",
       "      <th>5</th>\n",
       "      <td>Lasso ROS</td>\n",
       "      <td>0.43</td>\n",
       "      <td>0.39</td>\n",
       "      <td>0.41</td>\n",
       "      <td>0.49</td>\n",
       "    </tr>\n",
       "    <tr>\n",
       "      <th>7</th>\n",
       "      <td>Ridge Multinomial Logistic Regression ROS</td>\n",
       "      <td>0.43</td>\n",
       "      <td>0.39</td>\n",
       "      <td>0.41</td>\n",
       "      <td>0.49</td>\n",
       "    </tr>\n",
       "    <tr>\n",
       "      <th>12</th>\n",
       "      <td>Tuned Lasso ROS</td>\n",
       "      <td>0.43</td>\n",
       "      <td>0.39</td>\n",
       "      <td>0.41</td>\n",
       "      <td>0.49</td>\n",
       "    </tr>\n",
       "    <tr>\n",
       "      <th>9</th>\n",
       "      <td>XGB ROS</td>\n",
       "      <td>0.41</td>\n",
       "      <td>0.41</td>\n",
       "      <td>0.41</td>\n",
       "      <td>0.59</td>\n",
       "    </tr>\n",
       "    <tr>\n",
       "      <th>8</th>\n",
       "      <td>XGB RUS</td>\n",
       "      <td>0.41</td>\n",
       "      <td>0.37</td>\n",
       "      <td>0.39</td>\n",
       "      <td>0.44</td>\n",
       "    </tr>\n",
       "    <tr>\n",
       "      <th>3</th>\n",
       "      <td>ROS Random Forest (3)</td>\n",
       "      <td>0.39</td>\n",
       "      <td>0.39</td>\n",
       "      <td>0.44</td>\n",
       "      <td>0.66</td>\n",
       "    </tr>\n",
       "    <tr>\n",
       "      <th>1</th>\n",
       "      <td>Random Forest Multiclass (3)</td>\n",
       "      <td>0.35</td>\n",
       "      <td>0.32</td>\n",
       "      <td>0.44</td>\n",
       "      <td>0.68</td>\n",
       "    </tr>\n",
       "    <tr>\n",
       "      <th>0</th>\n",
       "      <td>Random Forest Multiclass (6)</td>\n",
       "      <td>0.17</td>\n",
       "      <td>0.14</td>\n",
       "      <td>0.29</td>\n",
       "      <td>0.68</td>\n",
       "    </tr>\n",
       "  </tbody>\n",
       "</table>\n",
       "</div>"
      ],
      "text/plain": [
       "                                        Model Recall    F1 Precision Accuracy\n",
       "10                            Tuned Lasso ROS   0.44   0.4      0.41     0.52\n",
       "11                            Tuned Lasso ROS   0.44   0.4      0.41     0.52\n",
       "13                            Lasso ROS Tuned   0.44   0.4      0.41     0.52\n",
       "14                            Lasso ROS Tuned   0.44   0.4      0.41     0.52\n",
       "4                                   Lasso RUS   0.44   0.4      0.42      0.5\n",
       "6                                   RIDGE RUS   0.44   0.4      0.42      0.5\n",
       "2                       RUS Random Forest (3)   0.44  0.39      0.41     0.47\n",
       "5                                   Lasso ROS   0.43  0.39      0.41     0.49\n",
       "7   Ridge Multinomial Logistic Regression ROS   0.43  0.39      0.41     0.49\n",
       "12                            Tuned Lasso ROS   0.43  0.39      0.41     0.49\n",
       "9                                     XGB ROS   0.41  0.41      0.41     0.59\n",
       "8                                     XGB RUS   0.41  0.37      0.39     0.44\n",
       "3                       ROS Random Forest (3)   0.39  0.39      0.44     0.66\n",
       "1                Random Forest Multiclass (3)   0.35  0.32      0.44     0.68\n",
       "0                Random Forest Multiclass (6)   0.17  0.14      0.29     0.68"
      ]
     },
     "execution_count": 58,
     "metadata": {},
     "output_type": "execute_result"
    }
   ],
   "source": [
    "lass_ros_tuned = LogisticRegression(multi_class='multinomial', \n",
    "                                    penalty='l1', solver='saga', C=0.01).fit(X_train_scaled, y_resampled_ros)\n",
    "lass_ros_tuned.fit(X_train_scaled, y_resampled_ros)\n",
    "y_pred = lass_ros_tuned.predict(X_test_scaled)\n",
    "add_to_master('Lasso ROS Tuned', y_test, y_pred, binary=False)\n",
    "master_scores.sort_values(['Recall', 'Accuracy'], ascending=False)"
   ]
  },
  {
   "cell_type": "markdown",
   "id": "8041fb00",
   "metadata": {},
   "source": [
    "## 6.6 Choose a Model!"
   ]
  },
  {
   "cell_type": "markdown",
   "id": "83b3482d",
   "metadata": {},
   "source": [
    "Well the tuned model certainly did better, even if marginally so. So I'm going to choose that one. "
   ]
  },
  {
   "cell_type": "code",
   "execution_count": 59,
   "id": "dba824ab",
   "metadata": {},
   "outputs": [
    {
     "data": {
      "text/plain": [
       "LogisticRegression(C=0.01, multi_class='multinomial', penalty='l1',\n",
       "                   solver='saga')"
      ]
     },
     "execution_count": 59,
     "metadata": {},
     "output_type": "execute_result"
    }
   ],
   "source": [
    "lass_ros_tuned"
   ]
  },
  {
   "cell_type": "markdown",
   "id": "d2bc521f",
   "metadata": {},
   "source": [
    "<div style=\"background-color: blue; padding: 10px; color: white;\">\n",
    "<h1>7. Digging Deeper into Performance for Chosen Model </h1>\n",
    "<p> I want to know where specifically it made misclassifications, especially in pairing the original scores back up with the compressed ones. I assume most of the mistakes are in the 6 and 7 categories. </p>\n",
    "</div>"
   ]
  },
  {
   "cell_type": "markdown",
   "id": "3a231f67",
   "metadata": {},
   "source": [
    "### Question: When you reassociate the original class pre-binarization, which ones is it getting wrong most often?"
   ]
  },
  {
   "cell_type": "code",
   "execution_count": 1,
   "id": "a64aff61",
   "metadata": {},
   "outputs": [
    {
     "ename": "NameError",
     "evalue": "name 'pd' is not defined",
     "output_type": "error",
     "traceback": [
      "\u001b[1;31m---------------------------------------------------------------------------\u001b[0m",
      "\u001b[1;31mNameError\u001b[0m                                 Traceback (most recent call last)",
      "Input \u001b[1;32mIn [1]\u001b[0m, in \u001b[0;36m<cell line: 1>\u001b[1;34m()\u001b[0m\n\u001b[1;32m----> 1\u001b[0m test_pred \u001b[38;5;241m=\u001b[39m \u001b[43mpd\u001b[49m\u001b[38;5;241m.\u001b[39mDataFrame({\u001b[38;5;124m'\u001b[39m\u001b[38;5;124mTrue\u001b[39m\u001b[38;5;124m'\u001b[39m: y_test, \u001b[38;5;124m'\u001b[39m\u001b[38;5;124mPredicted\u001b[39m\u001b[38;5;124m'\u001b[39m: y_pred})\n",
      "\u001b[1;31mNameError\u001b[0m: name 'pd' is not defined"
     ]
    }
   ],
   "source": [
    "test_pred = pd.DataFrame({'True': y_test, 'Predicted': y_pred})"
   ]
  },
  {
   "cell_type": "code",
   "execution_count": null,
   "id": "3fa4d234",
   "metadata": {},
   "outputs": [],
   "source": [
    "test_pred"
   ]
  },
  {
   "cell_type": "code",
   "execution_count": null,
   "id": "651b85fe",
   "metadata": {},
   "outputs": [],
   "source": [
    "# reassociate original variable\n",
    "final = test_pred.join(df_multi['Wool_sucking'])\n",
    "final"
   ]
  },
  {
   "cell_type": "code",
   "execution_count": null,
   "id": "899af8f5",
   "metadata": {},
   "outputs": [],
   "source": [
    "# should be 626\n",
    "mismatched = final[final['Predicted'] != final['True']]\n",
    "mismatched"
   ]
  },
  {
   "cell_type": "code",
   "execution_count": null,
   "id": "784dff8a",
   "metadata": {},
   "outputs": [],
   "source": [
    "should_be_0 = mismatched[mismatched['True'] == 0]\n",
    "should_be_1 = mismatched[mismatched['True'] == 1]"
   ]
  },
  {
   "cell_type": "code",
   "execution_count": null,
   "id": "473c4725",
   "metadata": {},
   "outputs": [],
   "source": [
    "should_be_0['Wool_sucking'].value_counts()"
   ]
  },
  {
   "cell_type": "code",
   "execution_count": null,
   "id": "bada05b1",
   "metadata": {},
   "outputs": [],
   "source": [
    "should_be_1['Wool_sucking'].value_counts()"
   ]
  },
  {
   "cell_type": "code",
   "execution_count": null,
   "id": "e9713979",
   "metadata": {},
   "outputs": [],
   "source": [
    "mismatched['Wool_sucking'].value_counts()"
   ]
  },
  {
   "cell_type": "markdown",
   "id": "a5ecd626",
   "metadata": {},
   "source": [
    "<div style=\"background-color: blue; padding: 10px; color: white;\">\n",
    "<h1>8. Conclusion</h1>\n",
    "<p> What's the final model? Why?</p>\n",
    "</div>"
   ]
  },
  {
   "cell_type": "code",
   "execution_count": null,
   "id": "05ad75cc",
   "metadata": {
    "scrolled": false
   },
   "outputs": [],
   "source": [
    "master_scores.sort_values('Recall', ascending=False)"
   ]
  }
 ],
 "metadata": {
  "kernelspec": {
   "display_name": "Python 3 (ipykernel)",
   "language": "python",
   "name": "python3"
  },
  "language_info": {
   "codemirror_mode": {
    "name": "ipython",
    "version": 3
   },
   "file_extension": ".py",
   "mimetype": "text/x-python",
   "name": "python",
   "nbconvert_exporter": "python",
   "pygments_lexer": "ipython3",
   "version": "3.9.12"
  }
 },
 "nbformat": 4,
 "nbformat_minor": 5
}
