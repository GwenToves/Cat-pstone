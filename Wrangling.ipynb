{
 "cells": [
  {
   "cell_type": "code",
   "execution_count": 1,
   "id": "507b084b",
   "metadata": {},
   "outputs": [],
   "source": [
    "import pandas as pd\n",
    "import matplotlib.pyplot as plt\n",
    "import seaborn as sns\n",
    "import numpy as np\n",
    "import os\n",
    "from sb_utils import save_file\n",
    "sns.set()"
   ]
  },
  {
   "cell_type": "markdown",
   "id": "ea121fde",
   "metadata": {},
   "source": [
    "Fun fact: sns stands for [Samuel Norman Seaborn](https://en.wikipedia.org/wiki/Sam_Seaborn), a character from \"The West Wing\" (1999). "
   ]
  },
  {
   "cell_type": "markdown",
   "id": "67bca224",
   "metadata": {},
   "source": [
    "# Read in \"raw\" data"
   ]
  },
  {
   "cell_type": "markdown",
   "id": "7a137882",
   "metadata": {},
   "source": [
    "I saw raw in quotations because this is a dataset from a finished study, so it is relatively clean already. "
   ]
  },
  {
   "cell_type": "code",
   "execution_count": 2,
   "id": "e13652aa",
   "metadata": {},
   "outputs": [],
   "source": [
    "cat_data = pd.read_excel('cat_data.xlsx')"
   ]
  },
  {
   "cell_type": "code",
   "execution_count": 3,
   "id": "921aaa3a",
   "metadata": {},
   "outputs": [
    {
     "data": {
      "text/html": [
       "<div>\n",
       "<style scoped>\n",
       "    .dataframe tbody tr th:only-of-type {\n",
       "        vertical-align: middle;\n",
       "    }\n",
       "\n",
       "    .dataframe tbody tr th {\n",
       "        vertical-align: top;\n",
       "    }\n",
       "\n",
       "    .dataframe thead th {\n",
       "        text-align: right;\n",
       "    }\n",
       "</style>\n",
       "<table border=\"1\" class=\"dataframe\">\n",
       "  <thead>\n",
       "    <tr style=\"text-align: right;\">\n",
       "      <th></th>\n",
       "      <th>ID_number</th>\n",
       "      <th>Age</th>\n",
       "      <th>Gender</th>\n",
       "      <th>Neuter_status</th>\n",
       "      <th>Breed_group</th>\n",
       "      <th>Weaning_age</th>\n",
       "      <th>Outdoors</th>\n",
       "      <th>Other_cats</th>\n",
       "      <th>Activity_level</th>\n",
       "      <th>Contact_people</th>\n",
       "      <th>...</th>\n",
       "      <th>Aggression_owner</th>\n",
       "      <th>Aggression_cats</th>\n",
       "      <th>Shyness_novel</th>\n",
       "      <th>Shyness_strangers</th>\n",
       "      <th>Grooming</th>\n",
       "      <th>Wool_sucking</th>\n",
       "      <th>Behaviour_problem</th>\n",
       "      <th>Aggression_component</th>\n",
       "      <th>Shyness_component</th>\n",
       "      <th>Extraversion_component</th>\n",
       "    </tr>\n",
       "  </thead>\n",
       "  <tbody>\n",
       "    <tr>\n",
       "      <th>0</th>\n",
       "      <td>1</td>\n",
       "      <td>4.0274</td>\n",
       "      <td>2</td>\n",
       "      <td>1</td>\n",
       "      <td>BEN</td>\n",
       "      <td>8</td>\n",
       "      <td>0</td>\n",
       "      <td>1</td>\n",
       "      <td>4</td>\n",
       "      <td>5</td>\n",
       "      <td>...</td>\n",
       "      <td>1</td>\n",
       "      <td>1</td>\n",
       "      <td>2</td>\n",
       "      <td>1</td>\n",
       "      <td>1.0</td>\n",
       "      <td>0.0</td>\n",
       "      <td>1.0</td>\n",
       "      <td>-0.392731</td>\n",
       "      <td>-0.364198</td>\n",
       "      <td>0.666318</td>\n",
       "    </tr>\n",
       "    <tr>\n",
       "      <th>1</th>\n",
       "      <td>2</td>\n",
       "      <td>2.1096</td>\n",
       "      <td>2</td>\n",
       "      <td>1</td>\n",
       "      <td>BEN</td>\n",
       "      <td>8</td>\n",
       "      <td>0</td>\n",
       "      <td>1</td>\n",
       "      <td>5</td>\n",
       "      <td>4</td>\n",
       "      <td>...</td>\n",
       "      <td>1</td>\n",
       "      <td>1</td>\n",
       "      <td>3</td>\n",
       "      <td>3</td>\n",
       "      <td>1.0</td>\n",
       "      <td>0.0</td>\n",
       "      <td>1.0</td>\n",
       "      <td>-0.633626</td>\n",
       "      <td>1.419777</td>\n",
       "      <td>0.994083</td>\n",
       "    </tr>\n",
       "    <tr>\n",
       "      <th>2</th>\n",
       "      <td>3</td>\n",
       "      <td>7.6822</td>\n",
       "      <td>1</td>\n",
       "      <td>1</td>\n",
       "      <td>BUR</td>\n",
       "      <td>4</td>\n",
       "      <td>0</td>\n",
       "      <td>1</td>\n",
       "      <td>4</td>\n",
       "      <td>5</td>\n",
       "      <td>...</td>\n",
       "      <td>1</td>\n",
       "      <td>1</td>\n",
       "      <td>2</td>\n",
       "      <td>1</td>\n",
       "      <td>4.0</td>\n",
       "      <td>3.0</td>\n",
       "      <td>2.0</td>\n",
       "      <td>-0.392731</td>\n",
       "      <td>-0.364198</td>\n",
       "      <td>0.666318</td>\n",
       "    </tr>\n",
       "    <tr>\n",
       "      <th>3</th>\n",
       "      <td>4</td>\n",
       "      <td>5.0027</td>\n",
       "      <td>1</td>\n",
       "      <td>1</td>\n",
       "      <td>BUR</td>\n",
       "      <td>4</td>\n",
       "      <td>4</td>\n",
       "      <td>0</td>\n",
       "      <td>5</td>\n",
       "      <td>5</td>\n",
       "      <td>...</td>\n",
       "      <td>1</td>\n",
       "      <td>2</td>\n",
       "      <td>1</td>\n",
       "      <td>1</td>\n",
       "      <td>1.0</td>\n",
       "      <td>0.0</td>\n",
       "      <td>1.0</td>\n",
       "      <td>0.090309</td>\n",
       "      <td>-0.780989</td>\n",
       "      <td>1.330449</td>\n",
       "    </tr>\n",
       "    <tr>\n",
       "      <th>4</th>\n",
       "      <td>5</td>\n",
       "      <td>5.0137</td>\n",
       "      <td>1</td>\n",
       "      <td>1</td>\n",
       "      <td>EUR</td>\n",
       "      <td>4</td>\n",
       "      <td>5</td>\n",
       "      <td>1</td>\n",
       "      <td>4</td>\n",
       "      <td>5</td>\n",
       "      <td>...</td>\n",
       "      <td>1</td>\n",
       "      <td>1</td>\n",
       "      <td>2</td>\n",
       "      <td>1</td>\n",
       "      <td>1.0</td>\n",
       "      <td>0.0</td>\n",
       "      <td>1.0</td>\n",
       "      <td>-0.392731</td>\n",
       "      <td>-0.364198</td>\n",
       "      <td>0.666318</td>\n",
       "    </tr>\n",
       "  </tbody>\n",
       "</table>\n",
       "<p>5 rows × 21 columns</p>\n",
       "</div>"
      ],
      "text/plain": [
       "   ID_number     Age  Gender  Neuter_status Breed_group  Weaning_age  \\\n",
       "0          1  4.0274       2              1         BEN            8   \n",
       "1          2  2.1096       2              1         BEN            8   \n",
       "2          3  7.6822       1              1         BUR            4   \n",
       "3          4  5.0027       1              1         BUR            4   \n",
       "4          5  5.0137       1              1         EUR            4   \n",
       "\n",
       "   Outdoors  Other_cats  Activity_level  Contact_people  ...  \\\n",
       "0         0           1               4               5  ...   \n",
       "1         0           1               5               4  ...   \n",
       "2         0           1               4               5  ...   \n",
       "3         4           0               5               5  ...   \n",
       "4         5           1               4               5  ...   \n",
       "\n",
       "   Aggression_owner  Aggression_cats  Shyness_novel  Shyness_strangers  \\\n",
       "0                 1                1              2                  1   \n",
       "1                 1                1              3                  3   \n",
       "2                 1                1              2                  1   \n",
       "3                 1                2              1                  1   \n",
       "4                 1                1              2                  1   \n",
       "\n",
       "   Grooming  Wool_sucking  Behaviour_problem  Aggression_component  \\\n",
       "0       1.0           0.0                1.0             -0.392731   \n",
       "1       1.0           0.0                1.0             -0.633626   \n",
       "2       4.0           3.0                2.0             -0.392731   \n",
       "3       1.0           0.0                1.0              0.090309   \n",
       "4       1.0           0.0                1.0             -0.392731   \n",
       "\n",
       "   Shyness_component  Extraversion_component  \n",
       "0          -0.364198                0.666318  \n",
       "1           1.419777                0.994083  \n",
       "2          -0.364198                0.666318  \n",
       "3          -0.780989                1.330449  \n",
       "4          -0.364198                0.666318  \n",
       "\n",
       "[5 rows x 21 columns]"
      ]
     },
     "execution_count": 3,
     "metadata": {},
     "output_type": "execute_result"
    }
   ],
   "source": [
    "cat_data.head()"
   ]
  },
  {
   "cell_type": "code",
   "execution_count": 4,
   "id": "1a99daf5",
   "metadata": {},
   "outputs": [
    {
     "data": {
      "text/html": [
       "<div>\n",
       "<style scoped>\n",
       "    .dataframe tbody tr th:only-of-type {\n",
       "        vertical-align: middle;\n",
       "    }\n",
       "\n",
       "    .dataframe tbody tr th {\n",
       "        vertical-align: top;\n",
       "    }\n",
       "\n",
       "    .dataframe thead th {\n",
       "        text-align: right;\n",
       "    }\n",
       "</style>\n",
       "<table border=\"1\" class=\"dataframe\">\n",
       "  <thead>\n",
       "    <tr style=\"text-align: right;\">\n",
       "      <th></th>\n",
       "      <th>ID_number</th>\n",
       "      <th>Age</th>\n",
       "      <th>Gender</th>\n",
       "      <th>Neuter_status</th>\n",
       "      <th>Weaning_age</th>\n",
       "      <th>Outdoors</th>\n",
       "      <th>Other_cats</th>\n",
       "      <th>Activity_level</th>\n",
       "      <th>Contact_people</th>\n",
       "      <th>Aggression_stranger</th>\n",
       "      <th>Aggression_owner</th>\n",
       "      <th>Aggression_cats</th>\n",
       "      <th>Shyness_novel</th>\n",
       "      <th>Shyness_strangers</th>\n",
       "      <th>Grooming</th>\n",
       "      <th>Wool_sucking</th>\n",
       "      <th>Behaviour_problem</th>\n",
       "      <th>Aggression_component</th>\n",
       "      <th>Shyness_component</th>\n",
       "      <th>Extraversion_component</th>\n",
       "    </tr>\n",
       "  </thead>\n",
       "  <tbody>\n",
       "    <tr>\n",
       "      <th>count</th>\n",
       "      <td>5726.000000</td>\n",
       "      <td>5726.000000</td>\n",
       "      <td>5726.000000</td>\n",
       "      <td>5726.000000</td>\n",
       "      <td>5726.000000</td>\n",
       "      <td>5726.000000</td>\n",
       "      <td>5726.000000</td>\n",
       "      <td>5726.000000</td>\n",
       "      <td>5726.000000</td>\n",
       "      <td>5726.000000</td>\n",
       "      <td>5726.000000</td>\n",
       "      <td>5726.000000</td>\n",
       "      <td>5726.000000</td>\n",
       "      <td>5726.000000</td>\n",
       "      <td>5683.000000</td>\n",
       "      <td>5696.000000</td>\n",
       "      <td>5719.000000</td>\n",
       "      <td>5726.000000</td>\n",
       "      <td>5726.000000</td>\n",
       "      <td>5.726000e+03</td>\n",
       "    </tr>\n",
       "    <tr>\n",
       "      <th>mean</th>\n",
       "      <td>2863.500000</td>\n",
       "      <td>4.753083</td>\n",
       "      <td>1.538945</td>\n",
       "      <td>0.779776</td>\n",
       "      <td>4.618407</td>\n",
       "      <td>2.546455</td>\n",
       "      <td>0.847363</td>\n",
       "      <td>3.771743</td>\n",
       "      <td>4.089067</td>\n",
       "      <td>1.116312</td>\n",
       "      <td>1.096577</td>\n",
       "      <td>1.584177</td>\n",
       "      <td>2.026546</td>\n",
       "      <td>1.884736</td>\n",
       "      <td>1.794123</td>\n",
       "      <td>0.912395</td>\n",
       "      <td>1.070467</td>\n",
       "      <td>-0.000003</td>\n",
       "      <td>-0.000003</td>\n",
       "      <td>-1.359264e-07</td>\n",
       "    </tr>\n",
       "    <tr>\n",
       "      <th>std</th>\n",
       "      <td>1653.098152</td>\n",
       "      <td>3.769304</td>\n",
       "      <td>0.498525</td>\n",
       "      <td>0.414434</td>\n",
       "      <td>1.576421</td>\n",
       "      <td>1.910538</td>\n",
       "      <td>0.359669</td>\n",
       "      <td>0.864301</td>\n",
       "      <td>0.878921</td>\n",
       "      <td>0.417632</td>\n",
       "      <td>0.368069</td>\n",
       "      <td>0.840766</td>\n",
       "      <td>0.996585</td>\n",
       "      <td>1.051672</td>\n",
       "      <td>0.998514</td>\n",
       "      <td>1.544499</td>\n",
       "      <td>0.384330</td>\n",
       "      <td>0.896939</td>\n",
       "      <td>0.999784</td>\n",
       "      <td>9.768488e-01</td>\n",
       "    </tr>\n",
       "    <tr>\n",
       "      <th>min</th>\n",
       "      <td>1.000000</td>\n",
       "      <td>0.167100</td>\n",
       "      <td>1.000000</td>\n",
       "      <td>0.000000</td>\n",
       "      <td>1.000000</td>\n",
       "      <td>0.000000</td>\n",
       "      <td>0.000000</td>\n",
       "      <td>1.000000</td>\n",
       "      <td>1.000000</td>\n",
       "      <td>1.000000</td>\n",
       "      <td>1.000000</td>\n",
       "      <td>1.000000</td>\n",
       "      <td>1.000000</td>\n",
       "      <td>1.000000</td>\n",
       "      <td>1.000000</td>\n",
       "      <td>0.000000</td>\n",
       "      <td>0.000000</td>\n",
       "      <td>-0.964370</td>\n",
       "      <td>-2.433800</td>\n",
       "      <td>-4.061199e+00</td>\n",
       "    </tr>\n",
       "    <tr>\n",
       "      <th>25%</th>\n",
       "      <td>1432.250000</td>\n",
       "      <td>1.789000</td>\n",
       "      <td>1.000000</td>\n",
       "      <td>1.000000</td>\n",
       "      <td>4.000000</td>\n",
       "      <td>1.000000</td>\n",
       "      <td>1.000000</td>\n",
       "      <td>3.000000</td>\n",
       "      <td>4.000000</td>\n",
       "      <td>1.000000</td>\n",
       "      <td>1.000000</td>\n",
       "      <td>1.000000</td>\n",
       "      <td>1.000000</td>\n",
       "      <td>1.000000</td>\n",
       "      <td>1.000000</td>\n",
       "      <td>0.000000</td>\n",
       "      <td>1.000000</td>\n",
       "      <td>-0.448792</td>\n",
       "      <td>-0.780989</td>\n",
       "      <td>-6.867931e-01</td>\n",
       "    </tr>\n",
       "    <tr>\n",
       "      <th>50%</th>\n",
       "      <td>2863.500000</td>\n",
       "      <td>3.879450</td>\n",
       "      <td>2.000000</td>\n",
       "      <td>1.000000</td>\n",
       "      <td>4.000000</td>\n",
       "      <td>2.000000</td>\n",
       "      <td>1.000000</td>\n",
       "      <td>4.000000</td>\n",
       "      <td>4.000000</td>\n",
       "      <td>1.000000</td>\n",
       "      <td>1.000000</td>\n",
       "      <td>1.000000</td>\n",
       "      <td>2.000000</td>\n",
       "      <td>2.000000</td>\n",
       "      <td>1.000000</td>\n",
       "      <td>0.000000</td>\n",
       "      <td>1.000000</td>\n",
       "      <td>-0.330445</td>\n",
       "      <td>-0.175096</td>\n",
       "      <td>-1.865431e-03</td>\n",
       "    </tr>\n",
       "    <tr>\n",
       "      <th>75%</th>\n",
       "      <td>4294.750000</td>\n",
       "      <td>6.778100</td>\n",
       "      <td>2.000000</td>\n",
       "      <td>1.000000</td>\n",
       "      <td>5.000000</td>\n",
       "      <td>5.000000</td>\n",
       "      <td>1.000000</td>\n",
       "      <td>4.000000</td>\n",
       "      <td>5.000000</td>\n",
       "      <td>1.000000</td>\n",
       "      <td>1.000000</td>\n",
       "      <td>2.000000</td>\n",
       "      <td>3.000000</td>\n",
       "      <td>2.000000</td>\n",
       "      <td>3.000000</td>\n",
       "      <td>2.000000</td>\n",
       "      <td>1.000000</td>\n",
       "      <td>0.072477</td>\n",
       "      <td>0.497528</td>\n",
       "      <td>7.201160e-01</td>\n",
       "    </tr>\n",
       "    <tr>\n",
       "      <th>max</th>\n",
       "      <td>5726.000000</td>\n",
       "      <td>24.811000</td>\n",
       "      <td>2.000000</td>\n",
       "      <td>1.000000</td>\n",
       "      <td>8.000000</td>\n",
       "      <td>5.000000</td>\n",
       "      <td>1.000000</td>\n",
       "      <td>5.000000</td>\n",
       "      <td>5.000000</td>\n",
       "      <td>5.000000</td>\n",
       "      <td>5.000000</td>\n",
       "      <td>5.000000</td>\n",
       "      <td>5.000000</td>\n",
       "      <td>5.000000</td>\n",
       "      <td>5.000000</td>\n",
       "      <td>7.000000</td>\n",
       "      <td>3.000000</td>\n",
       "      <td>9.644858</td>\n",
       "      <td>3.577881</td>\n",
       "      <td>1.997650e+00</td>\n",
       "    </tr>\n",
       "  </tbody>\n",
       "</table>\n",
       "</div>"
      ],
      "text/plain": [
       "         ID_number          Age       Gender  Neuter_status  Weaning_age  \\\n",
       "count  5726.000000  5726.000000  5726.000000    5726.000000  5726.000000   \n",
       "mean   2863.500000     4.753083     1.538945       0.779776     4.618407   \n",
       "std    1653.098152     3.769304     0.498525       0.414434     1.576421   \n",
       "min       1.000000     0.167100     1.000000       0.000000     1.000000   \n",
       "25%    1432.250000     1.789000     1.000000       1.000000     4.000000   \n",
       "50%    2863.500000     3.879450     2.000000       1.000000     4.000000   \n",
       "75%    4294.750000     6.778100     2.000000       1.000000     5.000000   \n",
       "max    5726.000000    24.811000     2.000000       1.000000     8.000000   \n",
       "\n",
       "          Outdoors   Other_cats  Activity_level  Contact_people  \\\n",
       "count  5726.000000  5726.000000     5726.000000     5726.000000   \n",
       "mean      2.546455     0.847363        3.771743        4.089067   \n",
       "std       1.910538     0.359669        0.864301        0.878921   \n",
       "min       0.000000     0.000000        1.000000        1.000000   \n",
       "25%       1.000000     1.000000        3.000000        4.000000   \n",
       "50%       2.000000     1.000000        4.000000        4.000000   \n",
       "75%       5.000000     1.000000        4.000000        5.000000   \n",
       "max       5.000000     1.000000        5.000000        5.000000   \n",
       "\n",
       "       Aggression_stranger  Aggression_owner  Aggression_cats  Shyness_novel  \\\n",
       "count          5726.000000       5726.000000      5726.000000    5726.000000   \n",
       "mean              1.116312          1.096577         1.584177       2.026546   \n",
       "std               0.417632          0.368069         0.840766       0.996585   \n",
       "min               1.000000          1.000000         1.000000       1.000000   \n",
       "25%               1.000000          1.000000         1.000000       1.000000   \n",
       "50%               1.000000          1.000000         1.000000       2.000000   \n",
       "75%               1.000000          1.000000         2.000000       3.000000   \n",
       "max               5.000000          5.000000         5.000000       5.000000   \n",
       "\n",
       "       Shyness_strangers     Grooming  Wool_sucking  Behaviour_problem  \\\n",
       "count        5726.000000  5683.000000   5696.000000        5719.000000   \n",
       "mean            1.884736     1.794123      0.912395           1.070467   \n",
       "std             1.051672     0.998514      1.544499           0.384330   \n",
       "min             1.000000     1.000000      0.000000           0.000000   \n",
       "25%             1.000000     1.000000      0.000000           1.000000   \n",
       "50%             2.000000     1.000000      0.000000           1.000000   \n",
       "75%             2.000000     3.000000      2.000000           1.000000   \n",
       "max             5.000000     5.000000      7.000000           3.000000   \n",
       "\n",
       "       Aggression_component  Shyness_component  Extraversion_component  \n",
       "count           5726.000000        5726.000000            5.726000e+03  \n",
       "mean              -0.000003          -0.000003           -1.359264e-07  \n",
       "std                0.896939           0.999784            9.768488e-01  \n",
       "min               -0.964370          -2.433800           -4.061199e+00  \n",
       "25%               -0.448792          -0.780989           -6.867931e-01  \n",
       "50%               -0.330445          -0.175096           -1.865431e-03  \n",
       "75%                0.072477           0.497528            7.201160e-01  \n",
       "max                9.644858           3.577881            1.997650e+00  "
      ]
     },
     "execution_count": 4,
     "metadata": {},
     "output_type": "execute_result"
    }
   ],
   "source": [
    "cat_data.describe()"
   ]
  },
  {
   "cell_type": "markdown",
   "id": "fd776a2c",
   "metadata": {},
   "source": [
    "5726 records. `Grooming`, `wool_sucking`, and `Behaviour_problem` are missing quite a few values. \n",
    "\n",
    "The aggression, shyness, and extraversion components are a result of PCA performed by the Salonen et al. on seven behaviour traits (activity level; contact to people; shyness towards strangers and novel objects, agression towards family members, strangers, and other cats). I will remove the three components at the end as they will create instances of multicollinearity with the features used to create them. "
   ]
  },
  {
   "cell_type": "markdown",
   "id": "f441be92",
   "metadata": {},
   "source": [
    "The excel file had relevant column descriptions as follows:\n",
    "* Age (in years)\n",
    "* Gender (1=male, 2=female)\n",
    "* Neuter (0=intact, 1=neutered)\n",
    "* Outdoors (0=never, 1=few times/year, 2=1-2 times/month, 3=1-2 times/week, 4=3-5 times/week, 5=daily) (I think I'll condense this one). \n",
    "* Other_cats (Are there other cats in the household? 0=no, 1=yes)\n",
    "* Activity_level, Contact_people, Aggression_stranger, Aggression_owner, Aggression_cats, Shyness_novel, Shyness_strangers, Grooming (excessive)(1-5, not at all, a little, moderately, a lot, very much). \n",
    "* Wool_sucking (0 = never, 1 = 1-3 times in the cat's lifetime, 2 = 1-12 times a year, 3 = 1-4 times a month, 4 = 1-3 times a week, 5 = daily, 6 = many times per day, 7 = most of the day)\n",
    "* Behaviour_problem (Does your cat have a behavior problem? 0=I don't know, 1=no, 2=yes, self-diagnosed, 3=yes, diagnosed by a veterinarian). \n",
    "\n",
    "\n",
    "**Breed_group**: \n",
    "ABY = Abyssinian, Somali, and Ocicat\n",
    "BEN = Bengal\n",
    "BRI = British Shorthair\n",
    "BUR = Burmese and Burmilla\n",
    "CRX = Cornish Rex\n",
    "DRX = Devon Rex\n",
    "EUR = European Shorthair\n",
    "HCS = house cat\n",
    "KOR = Korat\n",
    "MCO = Maine Coon\n",
    "NFO = Norwegian Forest Cat\n",
    "ORI = Balinese, Oriental Longhair, Oriental Shorthair, Seychellois Longhair, Seychellois Shorthair, and Siamese\n",
    "PER = Persian and Exotic\n",
    "RAG = Ragdoll\n",
    "RUS = Russian Blue\n",
    "SBI = Saint Birman\n",
    "SIB = Siberian and Neva Masquerade\n",
    "TUV = Turkish Van and Angora\n",
    "other = other breeds"
   ]
  },
  {
   "cell_type": "markdown",
   "id": "c5e4ebc1",
   "metadata": {},
   "source": [
    "## Removing rows with missing Wool_sucking"
   ]
  },
  {
   "cell_type": "code",
   "execution_count": 5,
   "id": "de18101c",
   "metadata": {},
   "outputs": [
    {
     "name": "stdout",
     "output_type": "stream",
     "text": [
      "<class 'pandas.core.frame.DataFrame'>\n",
      "Int64Index: 5696 entries, 0 to 5725\n",
      "Data columns (total 21 columns):\n",
      " #   Column                  Non-Null Count  Dtype  \n",
      "---  ------                  --------------  -----  \n",
      " 0   ID_number               5696 non-null   int64  \n",
      " 1   Age                     5696 non-null   float64\n",
      " 2   Gender                  5696 non-null   int64  \n",
      " 3   Neuter_status           5696 non-null   int64  \n",
      " 4   Breed_group             5696 non-null   object \n",
      " 5   Weaning_age             5696 non-null   int64  \n",
      " 6   Outdoors                5696 non-null   int64  \n",
      " 7   Other_cats              5696 non-null   int64  \n",
      " 8   Activity_level          5696 non-null   int64  \n",
      " 9   Contact_people          5696 non-null   int64  \n",
      " 10  Aggression_stranger     5696 non-null   int64  \n",
      " 11  Aggression_owner        5696 non-null   int64  \n",
      " 12  Aggression_cats         5696 non-null   int64  \n",
      " 13  Shyness_novel           5696 non-null   int64  \n",
      " 14  Shyness_strangers       5696 non-null   int64  \n",
      " 15  Grooming                5655 non-null   float64\n",
      " 16  Wool_sucking            5696 non-null   float64\n",
      " 17  Behaviour_problem       5689 non-null   float64\n",
      " 18  Aggression_component    5696 non-null   float64\n",
      " 19  Shyness_component       5696 non-null   float64\n",
      " 20  Extraversion_component  5696 non-null   float64\n",
      "dtypes: float64(7), int64(13), object(1)\n",
      "memory usage: 979.0+ KB\n"
     ]
    }
   ],
   "source": [
    "cat_data.dropna(subset=['Wool_sucking'], inplace=True)\n",
    "cat_data.info()"
   ]
  },
  {
   "cell_type": "markdown",
   "id": "28310d23",
   "metadata": {},
   "source": [
    "Now we just need to take care of the 41 missing `Grooming` elements. "
   ]
  },
  {
   "cell_type": "markdown",
   "id": "e4404d7f",
   "metadata": {},
   "source": [
    "## Filling Grooming"
   ]
  },
  {
   "cell_type": "code",
   "execution_count": 6,
   "id": "548ebf34",
   "metadata": {},
   "outputs": [
    {
     "data": {
      "text/plain": [
       "count    5655.000000\n",
       "mean        1.794872\n",
       "std         0.998943\n",
       "min         1.000000\n",
       "25%         1.000000\n",
       "50%         1.000000\n",
       "75%         3.000000\n",
       "max         5.000000\n",
       "Name: Grooming, dtype: float64"
      ]
     },
     "execution_count": 6,
     "metadata": {},
     "output_type": "execute_result"
    }
   ],
   "source": [
    "cat_data.Grooming.describe()"
   ]
  },
  {
   "cell_type": "code",
   "execution_count": 7,
   "id": "a462e792",
   "metadata": {},
   "outputs": [],
   "source": [
    "grooming_median = cat_data['Grooming'].mode()[0]\n",
    "cat_data.Grooming.fillna(grooming_median, inplace=True)"
   ]
  },
  {
   "cell_type": "code",
   "execution_count": 8,
   "id": "deb4302c",
   "metadata": {},
   "outputs": [
    {
     "name": "stdout",
     "output_type": "stream",
     "text": [
      "<class 'pandas.core.frame.DataFrame'>\n",
      "Int64Index: 5696 entries, 0 to 5725\n",
      "Data columns (total 21 columns):\n",
      " #   Column                  Non-Null Count  Dtype  \n",
      "---  ------                  --------------  -----  \n",
      " 0   ID_number               5696 non-null   int64  \n",
      " 1   Age                     5696 non-null   float64\n",
      " 2   Gender                  5696 non-null   int64  \n",
      " 3   Neuter_status           5696 non-null   int64  \n",
      " 4   Breed_group             5696 non-null   object \n",
      " 5   Weaning_age             5696 non-null   int64  \n",
      " 6   Outdoors                5696 non-null   int64  \n",
      " 7   Other_cats              5696 non-null   int64  \n",
      " 8   Activity_level          5696 non-null   int64  \n",
      " 9   Contact_people          5696 non-null   int64  \n",
      " 10  Aggression_stranger     5696 non-null   int64  \n",
      " 11  Aggression_owner        5696 non-null   int64  \n",
      " 12  Aggression_cats         5696 non-null   int64  \n",
      " 13  Shyness_novel           5696 non-null   int64  \n",
      " 14  Shyness_strangers       5696 non-null   int64  \n",
      " 15  Grooming                5696 non-null   float64\n",
      " 16  Wool_sucking            5696 non-null   float64\n",
      " 17  Behaviour_problem       5689 non-null   float64\n",
      " 18  Aggression_component    5696 non-null   float64\n",
      " 19  Shyness_component       5696 non-null   float64\n",
      " 20  Extraversion_component  5696 non-null   float64\n",
      "dtypes: float64(7), int64(13), object(1)\n",
      "memory usage: 979.0+ KB\n"
     ]
    }
   ],
   "source": [
    "cat_data.info()"
   ]
  },
  {
   "cell_type": "markdown",
   "id": "c1535045",
   "metadata": {},
   "source": [
    "## Distributions per feature"
   ]
  },
  {
   "cell_type": "code",
   "execution_count": 9,
   "id": "f0b3f59b",
   "metadata": {},
   "outputs": [
    {
     "data": {
      "image/png": "[encoded data removed]",
      "text/plain": [
       "<Figure size 1080x1080 with 20 Axes>"
      ]
     },
     "metadata": {},
     "output_type": "display_data"
    }
   ],
   "source": [
    "cat_data.hist(figsize = (15, 15));"
   ]
  },
  {
   "cell_type": "code",
   "execution_count": 10,
   "id": "62060340",
   "metadata": {},
   "outputs": [
    {
     "data": {
      "text/plain": [
       "False    5696\n",
       "Name: ID_number, dtype: int64"
      ]
     },
     "execution_count": 10,
     "metadata": {},
     "output_type": "execute_result"
    }
   ],
   "source": [
    "cat_data.ID_number.duplicated().value_counts() # no duplicates"
   ]
  },
  {
   "cell_type": "code",
   "execution_count": 11,
   "id": "71ebdfbc",
   "metadata": {},
   "outputs": [
    {
     "data": {
      "text/plain": [
       "2    0.539326\n",
       "1    0.460674\n",
       "Name: Gender, dtype: float64"
      ]
     },
     "execution_count": 11,
     "metadata": {},
     "output_type": "execute_result"
    }
   ],
   "source": [
    "cat_data.Gender.value_counts(normalize=True) # 1=female "
   ]
  },
  {
   "cell_type": "code",
   "execution_count": 12,
   "id": "a4a7580c",
   "metadata": {},
   "outputs": [
    {
     "data": {
      "text/plain": [
       "1.0    0.883811\n",
       "2.0    0.074881\n",
       "0.0    0.029003\n",
       "3.0    0.012304\n",
       "Name: Behaviour_problem, dtype: float64"
      ]
     },
     "execution_count": 12,
     "metadata": {},
     "output_type": "execute_result"
    }
   ],
   "source": [
    "cat_data.Behaviour_problem.value_counts(normalize=True)"
   ]
  },
  {
   "cell_type": "code",
   "execution_count": 13,
   "id": "06e42e07",
   "metadata": {},
   "outputs": [
    {
     "data": {
      "text/plain": [
       "2.0    0.858871\n",
       "3.0    0.141129\n",
       "Name: Behaviour_problem, dtype: float64"
      ]
     },
     "execution_count": 13,
     "metadata": {},
     "output_type": "execute_result"
    }
   ],
   "source": [
    "# proportion self vs. vet-diagnosed \n",
    "cat_data.loc[((cat_data.Behaviour_problem == 2)\n",
    "                   | (cat_data.Behaviour_problem == 3)),\n",
    "                  'Behaviour_problem'].value_counts(normalize=True)"
   ]
  },
  {
   "cell_type": "code",
   "execution_count": 14,
   "id": "1b99ffb3",
   "metadata": {},
   "outputs": [
    {
     "name": "stderr",
     "output_type": "stream",
     "text": [
      "C:\\Users\\gwent\\anaconda3\\lib\\site-packages\\seaborn\\_decorators.py:36: FutureWarning: Pass the following variable as a keyword arg: x. From version 0.12, the only valid positional argument will be `data`, and passing other arguments without an explicit keyword will result in an error or misinterpretation.\n",
      "  warnings.warn(\n"
     ]
    },
    {
     "data": {
      "image/png": "[encoded data removed]",
      "text/plain": [
       "<Figure size 432x288 with 1 Axes>"
      ]
     },
     "metadata": {},
     "output_type": "display_data"
    }
   ],
   "source": [
    "sns.boxplot(cat_data.Wool_sucking);"
   ]
  },
  {
   "cell_type": "markdown",
   "id": "7b044432",
   "metadata": {},
   "source": [
    "It makes sense that my more frequent quckers are quite rare. "
   ]
  },
  {
   "cell_type": "code",
   "execution_count": 15,
   "id": "668efe4d",
   "metadata": {},
   "outputs": [
    {
     "data": {
      "text/plain": [
       "0.0    3891\n",
       "4.0     421\n",
       "2.0     403\n",
       "3.0     378\n",
       "1.0     368\n",
       "5.0     207\n",
       "6.0      26\n",
       "7.0       2\n",
       "Name: Wool_sucking, dtype: int64"
      ]
     },
     "execution_count": 15,
     "metadata": {},
     "output_type": "execute_result"
    }
   ],
   "source": [
    "cat_data.Wool_sucking.value_counts()"
   ]
  },
  {
   "cell_type": "markdown",
   "id": "2ba02359",
   "metadata": {},
   "source": [
    "## Setting Index to ID number, for now. "
   ]
  },
  {
   "cell_type": "code",
   "execution_count": 16,
   "id": "18046586",
   "metadata": {},
   "outputs": [],
   "source": [
    "cat_clean = cat_data.set_index(\"ID_number\") "
   ]
  },
  {
   "cell_type": "code",
   "execution_count": 17,
   "id": "9a0d42df",
   "metadata": {},
   "outputs": [
    {
     "name": "stdout",
     "output_type": "stream",
     "text": [
      "<class 'pandas.core.frame.DataFrame'>\n",
      "Int64Index: 5696 entries, 1 to 5726\n",
      "Data columns (total 20 columns):\n",
      " #   Column                  Non-Null Count  Dtype  \n",
      "---  ------                  --------------  -----  \n",
      " 0   Age                     5696 non-null   float64\n",
      " 1   Gender                  5696 non-null   int64  \n",
      " 2   Neuter_status           5696 non-null   int64  \n",
      " 3   Breed_group             5696 non-null   object \n",
      " 4   Weaning_age             5696 non-null   int64  \n",
      " 5   Outdoors                5696 non-null   int64  \n",
      " 6   Other_cats              5696 non-null   int64  \n",
      " 7   Activity_level          5696 non-null   int64  \n",
      " 8   Contact_people          5696 non-null   int64  \n",
      " 9   Aggression_stranger     5696 non-null   int64  \n",
      " 10  Aggression_owner        5696 non-null   int64  \n",
      " 11  Aggression_cats         5696 non-null   int64  \n",
      " 12  Shyness_novel           5696 non-null   int64  \n",
      " 13  Shyness_strangers       5696 non-null   int64  \n",
      " 14  Grooming                5696 non-null   float64\n",
      " 15  Wool_sucking            5696 non-null   float64\n",
      " 16  Behaviour_problem       5689 non-null   float64\n",
      " 17  Aggression_component    5696 non-null   float64\n",
      " 18  Shyness_component       5696 non-null   float64\n",
      " 19  Extraversion_component  5696 non-null   float64\n",
      "dtypes: float64(7), int64(12), object(1)\n",
      "memory usage: 934.5+ KB\n"
     ]
    }
   ],
   "source": [
    "cat_clean.info()"
   ]
  },
  {
   "cell_type": "markdown",
   "id": "1240da6a",
   "metadata": {},
   "source": [
    "No missing values! An index system that makes sense! "
   ]
  },
  {
   "cell_type": "code",
   "execution_count": 18,
   "id": "baba8b77",
   "metadata": {},
   "outputs": [
    {
     "name": "stdout",
     "output_type": "stream",
     "text": [
      "A file already exists with this name.\n",
      "\n",
      "Do you want to overwrite? (Y/N)Y\n",
      "Writing file.  \"./Data\\cat_clean.csv\"\n"
     ]
    }
   ],
   "source": [
    "datapath = './Data'\n",
    "save_file(cat_clean, 'cat_clean.csv', datapath)"
   ]
  }
 ],
 "metadata": {
  "kernelspec": {
   "display_name": "Python 3 (ipykernel)",
   "language": "python",
   "name": "python3"
  },
  "language_info": {
   "codemirror_mode": {
    "name": "ipython",
    "version": 3
   },
   "file_extension": ".py",
   "mimetype": "text/x-python",
   "name": "python",
   "nbconvert_exporter": "python",
   "pygments_lexer": "ipython3",
   "version": "3.9.12"
  }
 },
 "nbformat": 4,
 "nbformat_minor": 5
}
